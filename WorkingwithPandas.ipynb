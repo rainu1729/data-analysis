{
  "nbformat": 4,
  "nbformat_minor": 0,
  "metadata": {
    "colab": {
      "name": "WorkingwithPandas.ipynb",
      "version": "0.3.2",
      "provenance": [],
      "include_colab_link": true
    },
    "kernelspec": {
      "name": "python3",
      "display_name": "Python 3"
    }
  },
  "cells": [
    {
      "cell_type": "markdown",
      "metadata": {
        "id": "view-in-github",
        "colab_type": "text"
      },
      "source": [
        "<a href=\"https://colab.research.google.com/github/rainu1729/data-analysis/blob/master/WorkingwithPandas.ipynb\" target=\"_parent\"><img src=\"https://colab.research.google.com/assets/colab-badge.svg\" alt=\"Open In Colab\"/></a>"
      ]
    },
    {
      "metadata": {
        "id": "63fV-pdkV4kb",
        "colab_type": "code",
        "colab": {}
      },
      "cell_type": "code",
      "source": [
        "import pandas as pd\n",
        "import sys"
      ],
      "execution_count": 0,
      "outputs": []
    },
    {
      "metadata": {
        "id": "rWd9tCUvWnQZ",
        "colab_type": "code",
        "outputId": "0395222b-4b56-4644-a2f1-f5c8ec8cd867",
        "colab": {
          "base_uri": "https://localhost:8080/",
          "height": 68
        }
      },
      "cell_type": "code",
      "source": [
        "print('python version '+sys.version)\n",
        "print('pandas version '+pd.__version__)"
      ],
      "execution_count": 3,
      "outputs": [
        {
          "output_type": "stream",
          "text": [
            "python version 3.6.7 (default, Oct 22 2018, 11:32:17) \n",
            "[GCC 8.2.0]\n",
            "pandas version 0.22.0\n"
          ],
          "name": "stdout"
        }
      ]
    },
    {
      "metadata": {
        "id": "43xUlAM6W0aZ",
        "colab_type": "code",
        "colab": {}
      },
      "cell_type": "code",
      "source": [
        "#a python list with days\n",
        "data_days = ['Sun','Mon','Tue','Wed','Thu','Fri','Sat']\n",
        "\n",
        "## creating a pandas series with custom index\n",
        "\n",
        "emp_fields = ['f_name','l_name','emp_id']\n",
        "\n",
        "emp_data = ['rainu','last',234343]\n",
        "\n",
        "##creating using a python dict\n",
        "\n",
        "dt_emp = {'f_name':'rainu','l_name':'last','emp_id':234343}"
      ],
      "execution_count": 0,
      "outputs": []
    },
    {
      "metadata": {
        "id": "KOXuzdjtXJVC",
        "colab_type": "code",
        "colab": {}
      },
      "cell_type": "code",
      "source": [
        "#creating a pandas series\n",
        "sr_week =pd.Series(emp_Data)\n",
        "\n",
        "\n",
        "sr_emp = pd.Series(index=emp_fields,data=emp_data)\n",
        "\n",
        "#creating a series using a dict may not give the desired order\n",
        "sr_emp_dt = pd.Series(dt_emp)"
      ],
      "execution_count": 0,
      "outputs": []
    },
    {
      "metadata": {
        "id": "nfzaEfgDYO9D",
        "colab_type": "code",
        "outputId": "b4e5eb2b-d4f4-4061-bb90-c2360c292a29",
        "colab": {
          "base_uri": "https://localhost:8080/",
          "height": 102
        }
      },
      "cell_type": "code",
      "source": [
        "### accessing values entire values\n",
        "\n",
        "sr_emp_dt.values\n",
        "\n",
        "\n",
        "## based on index position\n",
        "\n",
        "print('series using dict first element',sr_emp_dt[0])\n",
        "\n",
        "print('series using list first element',sr_emp[0])\n",
        "\n",
        "\n",
        "## based on index values\n",
        "\n",
        "sr_emp_dt[['f_name','l_name']]"
      ],
      "execution_count": 33,
      "outputs": [
        {
          "output_type": "stream",
          "text": [
            "series using dict first element 234343\n",
            "series using list first element rainu\n"
          ],
          "name": "stdout"
        },
        {
          "output_type": "execute_result",
          "data": {
            "text/plain": [
              "f_name    rainu\n",
              "l_name     last\n",
              "dtype: object"
            ]
          },
          "metadata": {
            "tags": []
          },
          "execution_count": 33
        }
      ]
    },
    {
      "metadata": {
        "id": "kzu40GVscx23",
        "colab_type": "code",
        "colab": {}
      },
      "cell_type": "code",
      "source": [
        "##creating a dataframe from a list \n",
        "df = pd.DataFrame(emp_data)"
      ],
      "execution_count": 0,
      "outputs": []
    },
    {
      "metadata": {
        "id": "AJY32bKxdArT",
        "colab_type": "code",
        "colab": {
          "base_uri": "https://localhost:8080/",
          "height": 142
        },
        "outputId": "ac2a690d-a3f4-4610-e814-da5cd6040c59"
      },
      "cell_type": "code",
      "source": [
        "##creating dataframe with a list tuple\n",
        "\n",
        "emp_tup = list(zip(emp_fields,emp_data))\n",
        "\n",
        "df2 = pd.DataFrame(emp_tup)\n",
        "\n",
        "df3 = pd.DataFrame(emp_tup,columns=['field','value'])\n",
        "\n",
        "df3"
      ],
      "execution_count": 47,
      "outputs": [
        {
          "output_type": "execute_result",
          "data": {
            "text/html": [
              "<div>\n",
              "<style scoped>\n",
              "    .dataframe tbody tr th:only-of-type {\n",
              "        vertical-align: middle;\n",
              "    }\n",
              "\n",
              "    .dataframe tbody tr th {\n",
              "        vertical-align: top;\n",
              "    }\n",
              "\n",
              "    .dataframe thead th {\n",
              "        text-align: right;\n",
              "    }\n",
              "</style>\n",
              "<table border=\"1\" class=\"dataframe\">\n",
              "  <thead>\n",
              "    <tr style=\"text-align: right;\">\n",
              "      <th></th>\n",
              "      <th>field</th>\n",
              "      <th>value</th>\n",
              "    </tr>\n",
              "  </thead>\n",
              "  <tbody>\n",
              "    <tr>\n",
              "      <th>0</th>\n",
              "      <td>f_name</td>\n",
              "      <td>rainu</td>\n",
              "    </tr>\n",
              "    <tr>\n",
              "      <th>1</th>\n",
              "      <td>l_name</td>\n",
              "      <td>last</td>\n",
              "    </tr>\n",
              "    <tr>\n",
              "      <th>2</th>\n",
              "      <td>emp_id</td>\n",
              "      <td>234343</td>\n",
              "    </tr>\n",
              "  </tbody>\n",
              "</table>\n",
              "</div>"
            ],
            "text/plain": [
              "    field   value\n",
              "0  f_name   rainu\n",
              "1  l_name    last\n",
              "2  emp_id  234343"
            ]
          },
          "metadata": {
            "tags": []
          },
          "execution_count": 47
        }
      ]
    }
  ]
}