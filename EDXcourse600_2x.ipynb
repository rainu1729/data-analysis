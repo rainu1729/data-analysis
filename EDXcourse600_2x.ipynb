{
  "nbformat": 4,
  "nbformat_minor": 0,
  "metadata": {
    "colab": {
      "name": "EDXcourse600.2x.ipynb",
      "version": "0.3.2",
      "provenance": []
    },
    "kernelspec": {
      "name": "python3",
      "display_name": "Python 3"
    }
  },
  "cells": [
    {
      "cell_type": "markdown",
      "metadata": {
        "id": "view-in-github",
        "colab_type": "text"
      },
      "source": [
        "[View in Colaboratory](https://colab.research.google.com/github/rainu1729/data-analysis/blob/master/EDXcourse600_2x.ipynb)"
      ]
    },
    {
      "metadata": {
        "id": "A7PEa75Meqyl",
        "colab_type": "text"
      },
      "cell_type": "markdown",
      "source": [
        "###edx course 600.2x\n",
        "### knapsack problem , greedy algo"
      ]
    },
    {
      "metadata": {
        "id": "zfveZkcqeuWw",
        "colab_type": "code",
        "colab": {}
      },
      "cell_type": "code",
      "source": [
        "class food(object):\n",
        "    '''the food class it contains the name of the food followed by  its value and the calories\n",
        "    there is init function, getters and rewritten __str__ fun'''\n",
        "    def __init__(self,name,value,cost):\n",
        "        self.name=name\n",
        "        self.value=value\n",
        "        self.calories=cost\n",
        "    \n",
        "    def getname(self):\n",
        "        return self.name\n",
        "    \n",
        "    def getvalue(self):\n",
        "        return self.value\n",
        "\n",
        "    def getcalories(self):\n",
        "        return self.calories\n",
        "\n",
        "    def getcalpervalue(self):\n",
        "        return self.calories/self.value\n",
        "\n",
        "    def __str__(self):\n",
        "        return self.name+' <'+str(self.value)+','+str(self.calories)+'>'"
      ],
      "execution_count": 0,
      "outputs": []
    },
    {
      "metadata": {
        "id": "nYPSC8K3exUw",
        "colab_type": "text"
      },
      "cell_type": "markdown",
      "source": [
        "#### build the menu using the food"
      ]
    },
    {
      "metadata": {
        "id": "r8I1zLHieytH",
        "colab_type": "code",
        "colab": {}
      },
      "cell_type": "code",
      "source": [
        "def themenu(name,value,calorie):\n",
        "    \"\"\"the menu is build using the food class and returns a list\n",
        "    the name,value and calorie are list of same length\n",
        "    \"\"\"\n",
        "    menu =[]\n",
        "    for i in range(len(name)):\n",
        "        menu.append(food(name[i],value[i],calorie[i]))\n",
        "    return menu"
      ],
      "execution_count": 0,
      "outputs": []
    },
    {
      "metadata": {
        "id": "HfE1pE2Je1hE",
        "colab_type": "text"
      },
      "cell_type": "markdown",
      "source": [
        "### the greedy algo in form of a function"
      ]
    },
    {
      "metadata": {
        "id": "lThpX-Zre2jh",
        "colab_type": "code",
        "colab": {}
      },
      "cell_type": "code",
      "source": [
        "def greedy(items,maxcost,keyfunction):\n",
        "    \"\"\"items is a list of menu, maxcost is a positive number\n",
        "    based on the keyfunction a new list of items is created\"\"\"\n",
        "    itemscopy =  sorted(items,key=keyfunction,reverse=True)\n",
        "    result = []\n",
        "    totalvalue,totalcal= 0.0,0.0\n",
        "    for i in range(len(itemscopy)):\n",
        "        if(totalcal+itemscopy[i].getcalories()<=maxcost):\n",
        "            result.append(itemscopy[i])\n",
        "            totalcal+=itemscopy[i].getcalories()\n",
        "            totalvalue+=itemscopy[i].getvalue()\n",
        "    \n",
        "    return (result,totalvalue,totalcal)"
      ],
      "execution_count": 0,
      "outputs": []
    },
    {
      "metadata": {
        "id": "UmAvIeXge5S1",
        "colab_type": "text"
      },
      "cell_type": "markdown",
      "source": [
        "** test the greedy function**"
      ]
    },
    {
      "metadata": {
        "id": "V45Ct2HkfESI",
        "colab_type": "code",
        "colab": {}
      },
      "cell_type": "code",
      "source": [
        "def testGreedy(items,constraint,keyFunction):\n",
        "    \"\"\"test function inputs are \n",
        "    items i.e the menu in form of a python list\n",
        "    constraint as the max calorie value \n",
        "    the sorting keyfunction i.e any of the item parameter like calories,value,calories per value\n",
        "    \"\"\"\n",
        "    taken,val,cal = greedy(items,constraint,keyFunction)\n",
        "    print('total value of items taken ',val,' total cal ',cal)\n",
        "    for item in taken:\n",
        "        print(' ',item)\n",
        "\n",
        "def testGreedys(foods,maxUnit):\n",
        "    \"\"\"RUN THE testGreedy function with diff keyfunctions and a fixed constraint\n",
        "    the input is the foods a list containing object of type food.\n",
        "    max calorie value which should not be exceed\n",
        "    \"\"\"\n",
        "    print('use greedy by value to allocate ',maxUnit,' calories')\n",
        "    testGreedy(foods,maxUnit,lambda x:food.getvalue(x))\n",
        "    print('--------------------------------------------------------')\n",
        "    print('use greedy by cost(calorie) to allocate ',maxUnit,' calories')\n",
        "    testGreedy(foods,maxUnit,lambda x:1/food.getcalories(x))\n",
        "    print('------------------------------------------------------')\n",
        "    print('use greedy by density to allcocate ',maxUnit,' calories')\n",
        "    testGreedy(foods,maxUnit,lambda x:food.getcalpervalue(x))"
      ],
      "execution_count": 0,
      "outputs": []
    },
    {
      "metadata": {
        "id": "oKzVF0NdfcRR",
        "colab_type": "text"
      },
      "cell_type": "markdown",
      "source": [
        "Sample data"
      ]
    },
    {
      "metadata": {
        "id": "RSRzZ5AJfeNN",
        "colab_type": "code",
        "colab": {}
      },
      "cell_type": "code",
      "source": [
        "name = ['wine','beer','pizza','burger','fries','coke','apple','donut']\n",
        "value = [89,90,30,50,90,79,90,10]\n",
        "calories = [123,154,258,354,365,150,95,195]\n",
        "\n",
        "myfood=themenu(name,value,calories)"
      ],
      "execution_count": 0,
      "outputs": []
    },
    {
      "metadata": {
        "id": "2fXJu-g7fhUH",
        "colab_type": "text"
      },
      "cell_type": "markdown",
      "source": [
        "### implementing the brute force method to find the best fit"
      ]
    },
    {
      "metadata": {
        "id": "RSize0GFfk26",
        "colab_type": "code",
        "colab": {}
      },
      "cell_type": "code",
      "source": [
        "def maxVal(toConsider,avail):\n",
        "    '''\n",
        "    returns a tuple with items to take and its value\n",
        "    inputs:\n",
        "    toConsider : a list of available items\n",
        "    avail      : available space\n",
        "    '''\n",
        "    if toConsider ==[] or avail ==0:\n",
        "        ## returns a tuple with 0- value and empty items with the items toConsider is None or available space is zero.\n",
        "        result =(0,0,())\n",
        "    elif toConsider[0].getcalories() > avail:\n",
        "        ## call the same maxVal function without current item if the current items calories is greater than available space.\n",
        "        result = maxVal(toConsider[1:],avail)\n",
        "    else:\n",
        "        ## if the current item calories is below the available limit\n",
        "        nextItem=toConsider[0]\n",
        "        ## call the maxVal excluding the current item and reducing the available space\n",
        "        withVal,withCal,withtoTake = maxVal(toConsider[1:],avail-nextItem.getcalories())\n",
        "        withVal +=nextItem.getvalue()\n",
        "        withCal +=nextItem.getcalories()\n",
        "        ## considering the possiblity of exluding the current item and having the same available space\n",
        "        withoutVal,withoutCal,withoutToTake=maxVal(toConsider[1:],avail)\n",
        "        ## compare which is better in terms of maximizing the value with or without the current item.\n",
        "        if withVal> withoutVal:\n",
        "            result =(withVal,withCal,withtoTake+(nextItem,))\n",
        "        else:\n",
        "            result =(withoutVal,withoutCal,withoutToTake)\n",
        "    return result"
      ],
      "execution_count": 0,
      "outputs": []
    },
    {
      "metadata": {
        "id": "YimHmnMufru9",
        "colab_type": "text"
      },
      "cell_type": "markdown",
      "source": [
        "### CREATING A RANDOM LIST OF FOOD , ITS VALUE AND CALORIE so that  MENU can be created \n"
      ]
    },
    {
      "metadata": {
        "id": "jvtWBnY2fu2W",
        "colab_type": "code",
        "colab": {}
      },
      "cell_type": "code",
      "source": [
        "def crListMenu(itemcount):\n",
        "    '''\n",
        "    returns a list with itemcount no of items as menu\n",
        "    '''\n",
        "    import itertools as it\n",
        "    from random import randint\n",
        "    string='Abcdefghijklmnopqsrstuvwxyz'\n",
        "    comps=it.permutations(string, 4)\n",
        "    food=[]\n",
        "    value=[]\n",
        "    calories=[]\n",
        "    for i in range(itemcount):\n",
        "        food.append(''.join(next(comps)))\n",
        "        value.append(randint(5,89))\n",
        "        calories.append(randint(91,208))\n",
        "    myfood=themenu(food,value,calories)\n",
        "    return myfood"
      ],
      "execution_count": 0,
      "outputs": []
    },
    {
      "metadata": {
        "id": "ZgKjg_szfxvw",
        "colab_type": "text"
      },
      "cell_type": "markdown",
      "source": [
        "####using the dyamic programming create a fast version of maxVal"
      ]
    },
    {
      "metadata": {
        "id": "FlTaTUL5fzxg",
        "colab_type": "code",
        "colab": {}
      },
      "cell_type": "code",
      "source": [
        "def fastMaxVal(toConsider,avail,memo={}):\n",
        "    '''\n",
        "    toConsider : list of items from menu\n",
        "    avail      : available space in menu\n",
        "    mem        : is a dictonary storing key values\n",
        "    '''\n",
        "    if (len(toConsider),avail) in memo:\n",
        "        result = memo[(len(toConsider),avail)]\n",
        "    elif toConsider == [] or avail ==0:\n",
        "        result =(0,0,())\n",
        "    elif toConsider[0].getcalories() > avail:\n",
        "        result = fastMaxVal(toConsider[1:],avail,memo)\n",
        "    else:\n",
        "        ## if the current item calories is below the available limit\n",
        "        nextItem=toConsider[0]\n",
        "        ## call the maxVal excluding the current item and reducing the available space\n",
        "        withVal,withCal,withtoTake = fastMaxVal(toConsider[1:],avail-nextItem.getcalories(),memo)\n",
        "        withVal +=nextItem.getvalue()\n",
        "        withCal +=nextItem.getcalories()\n",
        "        ## considering the possiblity of exluding the current item and having the same available space\n",
        "        withoutVal,withoutCal,withoutToTake=fastMaxVal(toConsider[1:],avail,memo)\n",
        "        ## compare which is better in terms of maximizing the value with or without the current item.\n",
        "        if withVal> withoutVal:\n",
        "            result =(withVal,withCal,withtoTake+(nextItem,))\n",
        "        else:\n",
        "            result =(withoutVal,withoutCal,withoutToTake)\n",
        "    memo[(len(toConsider),avail)] = result \n",
        "    return result"
      ],
      "execution_count": 0,
      "outputs": []
    },
    {
      "metadata": {
        "id": "P5k-sXCXgDJd",
        "colab_type": "text"
      },
      "cell_type": "markdown",
      "source": [
        "## test max val"
      ]
    },
    {
      "metadata": {
        "id": "FWShqPNGgEsD",
        "colab_type": "code",
        "colab": {}
      },
      "cell_type": "code",
      "source": [
        "def testMaxVal(foods,maxUnits,algo,printItems= True):\n",
        "    print('Using search tree to alloacate ',maxUnits,' calories')\n",
        "    val,cal,taken=algo(foods,maxUnits)\n",
        "    print('total value of items taken ',val,' total cal ',cal)\n",
        "    if printItems:\n",
        "        for item in taken:\n",
        "            print(' ',item)"
      ],
      "execution_count": 0,
      "outputs": []
    },
    {
      "metadata": {
        "id": "T4FcTytegKy5",
        "colab_type": "text"
      },
      "cell_type": "markdown",
      "source": [
        "### creating menu with n items and testing the algos"
      ]
    },
    {
      "metadata": {
        "id": "Yak12nyggSQh",
        "colab_type": "code",
        "colab": {
          "base_uri": "https://localhost:8080/",
          "height": 442
        },
        "outputId": "caee4409-1961-473f-bbea-40bd26d47c0c"
      },
      "cell_type": "code",
      "source": [
        "for numitems in (2,4,8,32,64,128,256,512,1024):\n",
        "    items = crListMenu(numitems)\n",
        "    testMaxVal(items,750,fastMaxVal)"
      ],
      "execution_count": 13,
      "outputs": [
        {
          "output_type": "stream",
          "text": [
            "Using serach tree to alloacate  750  calories\n",
            "total value of items taken  80  total cal  237\n",
            "  Abce <44,111>\n",
            "  Abcd <36,126>\n",
            "Using serach tree to alloacate  750  calories\n",
            "total value of items taken  174  total cal  568\n",
            "  Abcg <65,164>\n",
            "  Abcf <22,201>\n",
            "  Abce <63,97>\n",
            "  Abcd <24,106>\n",
            "Using serach tree to alloacate  750  calories\n",
            "total value of items taken  374  total cal  725\n",
            "  Abcj <67,138>\n",
            "  Abci <64,179>\n",
            "  Abch <87,114>\n",
            "  Abcg <83,110>\n",
            "  Abcf <73,184>\n",
            "Using serach tree to alloacate  750  calories\n",
            "total value of items taken  502  total cal  745\n",
            "  Abdh <88,115>\n",
            "  Abcv <80,99>\n",
            "  Abcr <82,143>\n",
            "  Abcj <86,156>\n",
            "  Abch <81,139>\n",
            "  Abcg <85,93>\n"
          ],
          "name": "stdout"
        }
      ]
    },
    {
      "metadata": {
        "id": "9_-uYKIEgWN5",
        "colab_type": "text"
      },
      "cell_type": "markdown",
      "source": [
        "# Graph class"
      ]
    },
    {
      "metadata": {
        "id": "u3Cp1AHGgZb2",
        "colab_type": "text"
      },
      "cell_type": "markdown",
      "source": [
        "####Node class"
      ]
    },
    {
      "metadata": {
        "id": "baobNLHsgcbV",
        "colab_type": "code",
        "colab": {}
      },
      "cell_type": "code",
      "source": [
        "class Node(object):\n",
        "    ''' Node class with single attribute name'''\n",
        "    def __init__(self,name):\n",
        "        self.name=name\n",
        "    \n",
        "    def getName(self):\n",
        "        return self.name\n",
        "\n",
        "    def __str__(self):\n",
        "        return self.name"
      ],
      "execution_count": 0,
      "outputs": []
    },
    {
      "metadata": {
        "id": "gT_PlBaXhRo5",
        "colab_type": "text"
      },
      "cell_type": "markdown",
      "source": [
        "####Edge class"
      ]
    },
    {
      "metadata": {
        "id": "u-_5pa9uhXWR",
        "colab_type": "code",
        "colab": {}
      },
      "cell_type": "code",
      "source": [
        "class Edge(object):\n",
        "    ''' edge connects two nodes src and dest are objects of class Node'''\n",
        "    def __init__(self,src,dest):\n",
        "        self.src=src\n",
        "        self.dest=dest\n",
        "    \n",
        "    def getSource(self):\n",
        "        return self.src\n",
        "\n",
        "    def getDestination(self):\n",
        "        return self.dest\n",
        "    \n",
        "    def __str__(self):\n",
        "        return self.src.getName() + '->'+ self.dest.getName()"
      ],
      "execution_count": 0,
      "outputs": []
    },
    {
      "metadata": {
        "id": "4c2EWlx_hbYN",
        "colab_type": "text"
      },
      "cell_type": "markdown",
      "source": [
        "####Directed Graph"
      ]
    },
    {
      "metadata": {
        "id": "KNsw3ZBghgeu",
        "colab_type": "code",
        "colab": {}
      },
      "cell_type": "code",
      "source": [
        "class Diagraph(object):\n",
        "    '''Class directed graph edges is dictonary mapping each node to a list of its children'''\n",
        "\n",
        "    def __init__(self):\n",
        "        self.edges={}\n",
        "\n",
        "    def addNode(self,node):\n",
        "        # if given node is presnt in the dict edges raise a Duplicate error\n",
        "        if node in self.edges:\n",
        "            raise ValueError('Duplicate error')\n",
        "        # if not present , add the node as key in edges dict with an empty list value.\n",
        "        else:\n",
        "            self.edges[node]=[]\n",
        "    \n",
        "    def addEdge(self,edge):\n",
        "        src = edge.getSource()\n",
        "        dest= edge.getDestination()\n",
        "        # if src node or dest node not present in the edges dict then raise node not in graph\n",
        "        if not (src in self.edges and dest in self.edges):\n",
        "            raise ValueError('Node not in graph')\n",
        "        #else in the edges dict add a key src with and append dest to the list of value\n",
        "        self.edges[src].append(dest)\n",
        "\n",
        "    # checks and returns the value i.e a list of childs against a given node \n",
        "    def childrenOf(self,node):\n",
        "        return self.edges[node]\n",
        "    \n",
        "    # checks and returns the node if present in the dict of all the edges\n",
        "    def hasNode(self,node):\n",
        "        return node in self.edges\n",
        "           \n",
        "    #returns the name of the node if present in the dict edges\n",
        "    def getNode(self,name):\n",
        "        for n in self.edges:\n",
        "            if n.getName()== name:\n",
        "                return n\n",
        "        raise NameError(name)\n",
        "    \n",
        "    \n",
        "    # overwriting the __str__ method to print all the edges in graph as src -> dest\n",
        "    def __str__(self):\n",
        "        result = ''\n",
        "        for src in self.edges:\n",
        "            for dest in self.edges[src]:\n",
        "                result = result + src.getName() + '->' +dest.getName ()+'\\n'\n",
        "        return result[:-1]"
      ],
      "execution_count": 0,
      "outputs": []
    },
    {
      "metadata": {
        "id": "02os3zKFhjjx",
        "colab_type": "text"
      },
      "cell_type": "markdown",
      "source": [
        "####bidirectional graph class inherits from graph class"
      ]
    },
    {
      "metadata": {
        "id": "7PhM80RPhsFe",
        "colab_type": "code",
        "colab": {}
      },
      "cell_type": "code",
      "source": [
        "class Graph(Diagraph):\n",
        "    # over writing the addEdge method of Diagraph class, i.e adds edges in both direction\n",
        "    def addEdge(self,edge):\n",
        "        Diagraph.addEdge(self,edge)\n",
        "        rev = Edge(edge.getDestination(),edge.getSource())\n",
        "        Diagraph.addEdge(self,rev)"
      ],
      "execution_count": 0,
      "outputs": []
    },
    {
      "metadata": {
        "id": "A6DAO1l9h0X6",
        "colab_type": "text"
      },
      "cell_type": "markdown",
      "source": [
        "####Depth First Search"
      ]
    },
    {
      "metadata": {
        "id": "LtG1l5lHh7BY",
        "colab_type": "code",
        "colab": {}
      },
      "cell_type": "code",
      "source": [
        "def printPath(path):\n",
        "    ''' path is a list'''\n",
        "    result=''\n",
        "    for i in range(len(path)):\n",
        "        result = result +'->'+str(path[i])\n",
        "    return result\n",
        "\n",
        "def DFS(graph,start,end,path,shortest,toPrint=True):\n",
        "    # add the start node to the path list\n",
        "    path= path+[start]\n",
        "    \n",
        "    if toPrint:\n",
        "        print('current DFS path:',printPath(path))\n",
        "    # check if start node and end node are same \n",
        "    if start ==end:\n",
        "        return path\n",
        "    # iterate through all the nodes which are child of the given start point\n",
        "    for node in graph.childrenOf(start):\n",
        "        # check if the child node is present in the existing path\n",
        "        if node not in path:\n",
        "            if shortest == None or len(path) < len(shortest):\n",
        "                newPath = DFS(graph,node,end,path,shortest,toPrint)\n",
        "\n",
        "                if newPath!=None:\n",
        "                    shortest = newPath\n",
        "        elif toPrint:\n",
        "            print('already visited node ',node)\n",
        "    \n",
        "    return shortest"
      ],
      "execution_count": 0,
      "outputs": []
    },
    {
      "metadata": {
        "id": "-0b0BJ4uiF6X",
        "colab_type": "text"
      },
      "cell_type": "markdown",
      "source": [
        "####Build a graph"
      ]
    },
    {
      "metadata": {
        "id": "yuQbBXaJiH6e",
        "colab_type": "code",
        "colab": {}
      },
      "cell_type": "code",
      "source": [
        "def buildCityGraph(typeOfGraph):\n",
        "    nodes = []\n",
        "    nodes.append(Node(\"ABC\")) # nodes[0]\n",
        "    nodes.append(Node(\"ACB\")) # nodes[1]\n",
        "    nodes.append(Node(\"BAC\")) # nodes[2]\n",
        "    nodes.append(Node(\"BCA\")) # nodes[3]\n",
        "    nodes.append(Node(\"CAB\")) # nodes[4]\n",
        "    nodes.append(Node(\"CBA\")) # nodes[5]\n",
        "\n",
        "    gObject = typeOfGraph()\n",
        "    for n in nodes:\n",
        "        gObject.addNode(n)\n",
        "\n",
        "    gObject.addEdge(Edge(nodes[0],nodes[1]))\n",
        "    gObject.addEdge(Edge(nodes[0],nodes[2]))\n",
        "    gObject.addEdge(Edge(nodes[1],nodes[4]))\n",
        "    gObject.addEdge(Edge(nodes[2],nodes[3]))\n",
        "    gObject.addEdge(Edge(nodes[3],nodes[5]))\n",
        "    gObject.addEdge(Edge(nodes[4],nodes[5]))\n",
        "    return gObject"
      ],
      "execution_count": 0,
      "outputs": []
    },
    {
      "metadata": {
        "id": "MM1YkWLRiLnO",
        "colab_type": "text"
      },
      "cell_type": "markdown",
      "source": [
        "####Extract the shortest path"
      ]
    },
    {
      "metadata": {
        "id": "vyZZAsiHiP8a",
        "colab_type": "code",
        "colab": {}
      },
      "cell_type": "code",
      "source": [
        "def shortestPath(graph,start,end):\n",
        "    # wrapper function requires input as graph,start and end points\n",
        "    return DFS(graph,start,end,[],None)\n",
        "\n",
        "def testSP(source,destination):\n",
        "    # test function requires only the source and destination\n",
        "    typeOfGraph=Graph\n",
        "    g=buildCityGraph(typeOfGraph)\n",
        "    sp=shortestPath(g,g.getNode(source),g.getNode(destination))\n",
        "\n",
        "    if sp!=None:\n",
        "        print('shortest path from ',source, ' to ',destination, 'is ',printPath(sp))\n",
        "\n",
        "    else:\n",
        "        print('there is no path from ',source,' to ',destination)"
      ],
      "execution_count": 0,
      "outputs": []
    },
    {
      "metadata": {
        "id": "q31RittUjO7q",
        "colab_type": "code",
        "colab": {
          "base_uri": "https://localhost:8080/",
          "height": 238
        },
        "outputId": "574bc8a9-3907-43a2-9f1f-510f90a4b6ff"
      },
      "cell_type": "code",
      "source": [
        "print(testSP('BCA','ACB'))"
      ],
      "execution_count": 21,
      "outputs": [
        {
          "output_type": "stream",
          "text": [
            "current DFS path: ->BCA\n",
            "current DFS path: ->BCA->BAC\n",
            "current DFS path: ->BCA->BAC->ABC\n",
            "current DFS path: ->BCA->BAC->ABC->ACB\n",
            "already visited node  BAC\n",
            "already visited node  BCA\n",
            "current DFS path: ->BCA->CBA\n",
            "already visited node  BCA\n",
            "current DFS path: ->BCA->CBA->CAB\n",
            "current DFS path: ->BCA->CBA->CAB->ACB\n",
            "already visited node  CBA\n",
            "shortest path from  BCA  to  ACB is  ->BCA->CBA->CAB->ACB\n",
            "None\n"
          ],
          "name": "stdout"
        }
      ]
    }
  ]
}