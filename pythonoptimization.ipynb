{
  "nbformat": 4,
  "nbformat_minor": 0,
  "metadata": {
    "colab": {
      "name": "Untitled2.ipynb",
      "version": "0.3.2",
      "provenance": []
    },
    "kernelspec": {
      "name": "python3",
      "display_name": "Python 3"
    }
  },
  "cells": [
    {
      "cell_type": "markdown",
      "metadata": {
        "id": "view-in-github",
        "colab_type": "text"
      },
      "source": [
        "[View in Colaboratory](https://colab.research.google.com/github/rainu1729/data-analysis/blob/master/pythonoptimization.ipynb)"
      ]
    },
    {
      "metadata": {
        "id": "-T7bAlHs_LsY",
        "colab_type": "text"
      },
      "cell_type": "markdown",
      "source": [
        "# **Optimizing python code**"
      ]
    },
    {
      "metadata": {
        "id": "J9bXKuww_VcL",
        "colab_type": "text"
      },
      "cell_type": "markdown",
      "source": [
        "Measuring Time"
      ]
    },
    {
      "metadata": {
        "id": "MACCg6H7_Xwo",
        "colab_type": "code",
        "colab": {}
      },
      "cell_type": "code",
      "source": [
        "# time module and timeit module"
      ],
      "execution_count": 0,
      "outputs": []
    },
    {
      "metadata": {
        "id": "PrYNmIsoAEBs",
        "colab_type": "code",
        "colab": {
          "base_uri": "https://localhost:8080/",
          "height": 34
        },
        "outputId": "21390a5f-0bce-4e21-a4fe-4fe07646a82e"
      },
      "cell_type": "code",
      "source": [
        "# using the perf_counter from time module\n",
        "def fib(n):\n",
        "    if n==0 or n==1:\n",
        "        return 1\n",
        "    else:\n",
        "        return fib(n-1) + fib(n-2)\n",
        "      \n",
        "from time import perf_counter\n",
        "\n",
        "start=perf_counter()\n",
        "fib(25)\n",
        "duration=perf_counter()-start\n",
        "print('duration of fib function is ',duration)"
      ],
      "execution_count": 0,
      "outputs": [
        {
          "output_type": "stream",
          "text": [
            "duration of fib function is  0.042109524000011334\n"
          ],
          "name": "stdout"
        }
      ]
    },
    {
      "metadata": {
        "id": "7_hOSM5EBCi_",
        "colab_type": "code",
        "colab": {
          "base_uri": "https://localhost:8080/",
          "height": 34
        },
        "outputId": "6c37a39a-67cb-4fa0-ca11-e0faee17b2b6"
      },
      "cell_type": "code",
      "source": [
        "# using the timeit module in the ipython terminal\n",
        "\n",
        "%timeit fib(10)"
      ],
      "execution_count": 0,
      "outputs": [
        {
          "output_type": "stream",
          "text": [
            "10000 loops, best of 3: 27.9 µs per loop\n"
          ],
          "name": "stdout"
        }
      ]
    },
    {
      "metadata": {
        "id": "4jGV7SSYDWu3",
        "colab_type": "text"
      },
      "cell_type": "markdown",
      "source": [
        "**CPU Profiling**\n",
        "\n",
        "cProfile\n",
        "\n",
        "deterministic profilers recode every function call, return and exception.\n",
        "\n",
        "pstats module to display statistics"
      ]
    },
    {
      "metadata": {
        "id": "6l64bXyyEMIq",
        "colab_type": "code",
        "colab": {
          "base_uri": "https://localhost:8080/",
          "height": 204
        },
        "outputId": "a06807de-25da-42b7-90b1-054a570cb17b"
      },
      "cell_type": "code",
      "source": [
        "import cProfile\n",
        "cProfile.run('fib(11)')"
      ],
      "execution_count": 0,
      "outputs": [
        {
          "output_type": "stream",
          "text": [
            "         290 function calls (4 primitive calls) in 0.000 seconds\n",
            "\n",
            "   Ordered by: standard name\n",
            "\n",
            "   ncalls  tottime  percall  cumtime  percall filename:lineno(function)\n",
            "    287/1    0.000    0.000    0.000    0.000 <ipython-input-5-42125f1bb5dc>:1(fib)\n",
            "        1    0.000    0.000    0.000    0.000 <string>:1(<module>)\n",
            "        1    0.000    0.000    0.000    0.000 {built-in method builtins.exec}\n",
            "        1    0.000    0.000    0.000    0.000 {method 'disable' of '_lsprof.Profiler' objects}\n",
            "\n",
            "\n"
          ],
          "name": "stdout"
        }
      ]
    },
    {
      "metadata": {
        "id": "UJDXR53TMyPB",
        "colab_type": "code",
        "colab": {
          "base_uri": "https://localhost:8080/",
          "height": 170
        },
        "outputId": "cbe24b0d-e8f8-40e3-c262-2976f44bb33b"
      },
      "cell_type": "code",
      "source": [
        "# install memory_profiler using pip\n",
        "!pip install memory_profiler"
      ],
      "execution_count": 0,
      "outputs": [
        {
          "output_type": "stream",
          "text": [
            "Collecting memory_profiler\n",
            "  Downloading https://files.pythonhosted.org/packages/23/11/50a969d32a14cdec2cfd57bee2e67fd6f83715a04361ba230dbce562b9cb/memory_profiler-0.52.0.tar.gz\n",
            "Requirement already satisfied: psutil in /usr/local/lib/python3.6/dist-packages (from memory_profiler) (5.4.5)\n",
            "Building wheels for collected packages: memory-profiler\n",
            "  Running setup.py bdist_wheel for memory-profiler ... \u001b[?25l-\b \bdone\n",
            "\u001b[?25h  Stored in directory: /content/.cache/pip/wheels/9c/48/08/3c6ba85c04e580c1795fd02b7f5089272de7b952f382365301\n",
            "Successfully built memory-profiler\n",
            "Installing collected packages: memory-profiler\n",
            "Successfully installed memory-profiler-0.52.0\n"
          ],
          "name": "stdout"
        }
      ]
    },
    {
      "metadata": {
        "id": "wJFM_647KhaP",
        "colab_type": "text"
      },
      "cell_type": "markdown",
      "source": [
        "**Memory profile**"
      ]
    },
    {
      "metadata": {
        "id": "SsN27OEyOXPx",
        "colab_type": "code",
        "colab": {}
      },
      "cell_type": "code",
      "source": [
        "#testing the cases"
      ],
      "execution_count": 0,
      "outputs": []
    },
    {
      "metadata": {
        "id": "vNkTmnzgKlVo",
        "colab_type": "code",
        "colab": {
          "base_uri": "https://localhost:8080/",
          "height": 68
        },
        "outputId": "56cd2036-82d6-420c-9880-a6ee75c79566"
      },
      "cell_type": "code",
      "source": [
        "\n",
        "### below usage can be done only on files\n",
        "from memory_profiler import profile\n",
        "@profile\n",
        "def sum_of_diffs(vals):\n",
        "  vals2=vals[1:]\n",
        "  \n",
        "  total = 0\n",
        "  for v1,v2 in zip(vals,vals2):\n",
        "      total+= v2-v1\n",
        "      \n",
        "  return total\n",
        "\n",
        "vals= list(range(1,1_000_000,3))\n",
        "\n",
        "print(sum_of_diffs(vals))\n"
      ],
      "execution_count": 0,
      "outputs": [
        {
          "output_type": "stream",
          "text": [
            "ERROR: Could not find file <ipython-input-36-dd0670ccdf46>\n",
            "NOTE: %mprun can only be used on functions defined in physical files, and not in the IPython environment.\n",
            "999996\n"
          ],
          "name": "stdout"
        }
      ]
    },
    {
      "metadata": {
        "id": "WmxF3Hq-DBno",
        "colab_type": "code",
        "colab": {
          "base_uri": "https://localhost:8080/",
          "height": 34
        },
        "outputId": "d7de0aba-95a2-4528-93b5-aca415ee6690"
      },
      "cell_type": "code",
      "source": [
        "#### searching in a sorted list to be done using binary search. its complexity is log(n).\n",
        "## search bisect module \n",
        "## bisect has a function called bisect that given a sorted list and a value, will return the index in the list where\n",
        "## the value should be inserted to keep the list sorted.\n",
        "\n",
        "from bisect import bisect\n",
        "\n",
        "marks=[60,70,80,90]\n",
        "grades='FDCBA'\n",
        "\n",
        "def positions(score):\n",
        "   i = bisect(marks,score)\n",
        "   return grades[i]\n",
        "\n",
        "print(positions(91))"
      ],
      "execution_count": 4,
      "outputs": [
        {
          "output_type": "stream",
          "text": [
            "A\n"
          ],
          "name": "stdout"
        }
      ]
    },
    {
      "metadata": {
        "id": "jN0AXn0rFJA0",
        "colab_type": "text"
      },
      "cell_type": "markdown",
      "source": [
        "**FIFO IMPLEMENTATION** using the deque"
      ]
    },
    {
      "metadata": {
        "id": "b4_xl0pLFOZV",
        "colab_type": "code",
        "colab": {
          "base_uri": "https://localhost:8080/",
          "height": 17
        },
        "outputId": "53e87edb-0ea9-4b18-e21e-30566d7e6503"
      },
      "cell_type": "code",
      "source": [
        "### sequential processing of elements \n",
        "from collections import deque\n",
        "\n",
        "class DQueue:\n",
        "  def __init__(self):\n",
        "    self._tasks = deque()\n",
        "    \n",
        "  def push(self,task):\n",
        "    self._tasks.append(task)\n",
        "    \n",
        "  def pop(self):\n",
        "    return self._tasks.popleft()\n",
        "  \n",
        "  def __len__(self):\n",
        "    return len(self._tasks)"
      ],
      "execution_count": 5,
      "outputs": []
    },
    {
      "metadata": {
        "id": "5D3q42FoG578",
        "colab_type": "text"
      },
      "cell_type": "markdown",
      "source": [
        "**Priority queue **implementation using heapq"
      ]
    },
    {
      "metadata": {
        "id": "TekfdThDG5ME",
        "colab_type": "code",
        "colab": {
          "base_uri": "https://localhost:8080/",
          "height": 17
        },
        "outputId": "66f6a435-95ec-4930-f75c-de49a8d12562"
      },
      "cell_type": "code",
      "source": [
        "from heapq import heappop, heappush\n",
        "\n",
        "class HPriority:\n",
        "  def __init__(self):\n",
        "    self._tasks = []\n",
        "    \n",
        "  def push(self,task,priority):\n",
        "    heappush(self._tasks,(priority,task))\n",
        "    \n",
        "  def pop(self):\n",
        "    return heappop(self._tasks)[1]\n",
        "  \n",
        "  def __len__(self):\n",
        "    return len(self._tasks)"
      ],
      "execution_count": 6,
      "outputs": []
    }
  ]
}