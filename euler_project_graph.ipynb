{
  "nbformat": 4,
  "nbformat_minor": 0,
  "metadata": {
    "colab": {
      "name": "Untitled2.ipynb",
      "version": "0.3.2",
      "provenance": [],
      "collapsed_sections": []
    },
    "kernelspec": {
      "name": "python3",
      "display_name": "Python 3"
    }
  },
  "cells": [
    {
      "cell_type": "markdown",
      "metadata": {
        "id": "view-in-github",
        "colab_type": "text"
      },
      "source": [
        "[View in Colaboratory](https://colab.research.google.com/github/rainu1729/data-analysis/blob/master/euler_project_graph.ipynb)"
      ]
    },
    {
      "metadata": {
        "id": "2Hoc3ydscYqM",
        "colab_type": "text"
      },
      "cell_type": "markdown",
      "source": [
        "### WEIGHTED DIAGRAPH"
      ]
    },
    {
      "metadata": {
        "id": "jG8Bif6EccKb",
        "colab_type": "code",
        "colab": {
          "base_uri": "https://localhost:8080/",
          "height": 17
        },
        "outputId": "844f010a-9828-4463-9e75-e7fdd67d255c"
      },
      "cell_type": "code",
      "source": [
        "#### node class\n",
        "class node(object):\n",
        "\tdef __init__(self,position,value):\n",
        "\t\t'''\n",
        "\t\tposition : gives the position of the node wrt to the test string as a tuple\n",
        "\t\tvalue    : gives the value of the node\n",
        "\t\t'''\n",
        "\t\tself.value=value\n",
        "\t\tself.position=position\n",
        "\t\n",
        "\tdef getPosition(self):\n",
        "\t\treturn self.position\n",
        "\t\n",
        "\tdef getvalue(self):\n",
        "\t\treturn self.value\n",
        "\t\t\n",
        "\tdef getNodeHash(self):\n",
        "\t\treturn hash(str(self.position)+str(self.value))\n",
        "\t\n",
        "\tdef __str__(self):\n",
        "\t\treturn 'P:'+str(self.position)+' V:'+str(self.value)"
      ],
      "execution_count": 1,
      "outputs": []
    },
    {
      "metadata": {
        "id": "LYxtoT7zcefb",
        "colab_type": "text"
      },
      "cell_type": "markdown",
      "source": [
        "edge class"
      ]
    },
    {
      "metadata": {
        "id": "Vuc5O3P4cgaB",
        "colab_type": "code",
        "colab": {
          "base_uri": "https://localhost:8080/",
          "height": 17
        },
        "outputId": "c9415e7b-93bd-423b-e9d1-7312963628ff"
      },
      "cell_type": "code",
      "source": [
        "class edge(object):\n",
        "\tdef __init__(self,src,dest):\n",
        "\t\t'''src and dest are nodes'''\n",
        "\t\tself.src = src\n",
        "\t\tself.dest = dest\n",
        "\t\n",
        "\tdef getSource(self):\n",
        "\t\treturn self.src\n",
        "\t\n",
        "\tdef getDestination(self):\n",
        "\t\treturn self.dest\n",
        "\t#return the destination nodes value as the weight\n",
        "\tdef getWeight(self):\n",
        "\t\treturn self.dest.getvalue()\n",
        "\t\t\n",
        "\tdef __str__(self):\n",
        "\t\treturn (self.src.getPosition(),)+'->'+(self.dest.getPosition(),)"
      ],
      "execution_count": 2,
      "outputs": []
    },
    {
      "metadata": {
        "id": "y28qs6JLcleH",
        "colab_type": "text"
      },
      "cell_type": "markdown",
      "source": [
        "directed graph"
      ]
    },
    {
      "metadata": {
        "id": "3aOy3LulcoCH",
        "colab_type": "code",
        "colab": {
          "base_uri": "https://localhost:8080/",
          "height": 17
        },
        "outputId": "2bfbd10d-7a90-4cbb-9d95-67f621b35112"
      },
      "cell_type": "code",
      "source": [
        "class Diagraph(object):\n",
        "\t\n",
        "\t'''the edges is a dict mapping node to a list of its destination'''\n",
        "\tdef __init__(self):\n",
        "\t\tself.edges = {}\n",
        "\t\n",
        "\t'''Adds the given node as a key to the dict named edges '''\t\n",
        "\tdef addNode(self,node):\n",
        "\t\tif node in self.edges:\n",
        "\t\t\traise ValueError('Duplicate node')\n",
        "\t\telse:\n",
        "\t\t\tself.edges[node]=[]\n",
        "\t\n",
        "\t'''addEdge accepts and edge class object checks if source and destination node are present in the graph '''\t\t\n",
        "\tdef addEdge(self,edge):\n",
        "\t\tsrc = edge.getSource()\n",
        "\t\tdest = edge.getDestination()\n",
        "\t\tif not (src in self.edges and dest in self.edges):\n",
        "\t\t\traise ValueError('Node not in graph')\n",
        "\t\tself.edges[src].append(dest)\n",
        "\t\n",
        "\t'''getChildrenof returns  all the children of the node'''\t\n",
        "\tdef getChildrenof(self,node):\n",
        "\t\treturn self.edges[node]\n",
        "\t\n",
        "\t'''to check whether a node is present in the graph or not'''\t\n",
        "\tdef hasNode(self,node):\n",
        "\t\treturn node in self.edges\n",
        "\t\n",
        "\t'''rootNode returns the root node i.e node at position (0,0)'''\t\n",
        "\tdef rootNode(self):\n",
        "\t\tfor  keys in self.edges:\n",
        "\t\t\treturn keys if keys.getPosition()==(0,0) else 'No Root node for this graph'"
      ],
      "execution_count": 3,
      "outputs": []
    },
    {
      "metadata": {
        "id": "oMmaGxYpdQS7",
        "colab_type": "text"
      },
      "cell_type": "markdown",
      "source": [
        "function to create a graph object"
      ]
    },
    {
      "metadata": {
        "id": "so9Z32n9dSoQ",
        "colab_type": "code",
        "colab": {
          "base_uri": "https://localhost:8080/",
          "height": 17
        },
        "outputId": "0483224b-d486-4c81-d76f-5f181498b514"
      },
      "cell_type": "code",
      "source": [
        "def createmygraph(testString):\n",
        "\t'''input is a multi-line string'''\n",
        "\t\n",
        "\t#create a list of lists from the string\n",
        "\tlistofLists=[ list(map(int,elements.split())) for elements in testString.strip().split(\"\\n\")]\n",
        "\ty = Diagraph()\n",
        "\tnodeList = []\n",
        "\t\n",
        "\t# create all the nodes and store it in a list nodeList\n",
        "\tfor i in range(len(listofLists)):\n",
        "\t\tfor j in range(len(listofLists)):\n",
        "\t\t\tif i<=j:\n",
        "\t\t\t\tmynode=node((j,i),listofLists[j][i])\n",
        "\t\t\t\tnodeList.append(mynode)\n",
        "\t\t\t\ty.addNode(mynode)\n",
        "\t\n",
        "\t# create all the edges\n",
        "\tfor srcNode in nodeList:\n",
        "\t# iterate through all the nodes again and form a logic add the edges\n",
        "\t\tfor destNode in nodeList:\n",
        "\t\t\t#to add the immediate down node eg : add 7 (1,0) to 3 (0,0) , add 2 (2,0) to 7 (1,0)\n",
        "\t\t\tif srcNode.getPosition()[0]==destNode.getPosition()[0]-1 and srcNode.getPosition()[1]==destNode.getPosition()[1]-1:\n",
        "\t\t\t\ty.addEdge(edge(srcNode,destNode))\n",
        "\t\t\t#to add the bottom right node eg :add 4 (1,1) to 3 (0,0) \n",
        "\t\t\tif srcNode.getPosition()[0]==destNode.getPosition()[0]-1 and srcNode.getPosition()[1]==destNode.getPosition()[1]:\n",
        "\t\t\t\ty.addEdge(edge(srcNode,destNode))\n",
        "\t\n",
        "\treturn y"
      ],
      "execution_count": 4,
      "outputs": []
    },
    {
      "metadata": {
        "id": "CokmHTbjdh4a",
        "colab_type": "text"
      },
      "cell_type": "markdown",
      "source": [
        "printing the path"
      ]
    },
    {
      "metadata": {
        "id": "CLssxOTtdj4C",
        "colab_type": "code",
        "colab": {
          "base_uri": "https://localhost:8080/",
          "height": 17
        },
        "outputId": "4e43aa26-1ba6-42b4-fa51-456a50f62b85"
      },
      "cell_type": "code",
      "source": [
        "def printPath(path):\n",
        "    ''' path is a list of node objects'''\n",
        "    result=''\n",
        "    for i in range(len(path)):\n",
        "        result = result +'-->'+str(path[i])\n",
        "    return result"
      ],
      "execution_count": 5,
      "outputs": []
    },
    {
      "metadata": {
        "id": "uCdn0GGbdpgY",
        "colab_type": "text"
      },
      "cell_type": "markdown",
      "source": [
        "breath first algo"
      ]
    },
    {
      "metadata": {
        "id": "yZiG7Kmkdr2n",
        "colab_type": "code",
        "colab": {
          "base_uri": "https://localhost:8080/",
          "height": 17
        },
        "outputId": "e8867149-09ef-43c2-d418-f150e4970f28"
      },
      "cell_type": "code",
      "source": [
        "def breathfirstalgo(graph,tempPaths,comPath):\n",
        "\t#temp=tempPaths\n",
        "\ttempL=[]\n",
        "\tprint('temppath len ',len(tempPaths),'comPath len',len(comPath))\n",
        "\tprint('the temp path is ',printPath(tempPaths))\n",
        "\tprint('the conditional list ',[graph.getChildrenof(apartList[-1]) for apartList in tempPaths if graph.getChildrenof(apartList[-1])])\n",
        "\tif not [graph.getChildrenof(apartList[-1]) for apartList in tempPaths if graph.getChildrenof(apartList[-1])]:\n",
        "\t\tprint('going to return the path')\n",
        "\t\treturn tempPaths\n",
        "\telse:\t\n",
        "\t\tfor partialList in tempPaths:\n",
        "\t\t\tprint('The partial path ',printPath(partialList))\n",
        "\t\t\tif not graph.getChildrenof(partialList[-1]):\n",
        "\t\t\t\tprint('going to append to the compath list')\n",
        "\t\t\t\tcomPath.append(partialList)\n",
        "\t\t\telse:\n",
        "\t\t\t\tnewlista,newlistb=list(partialList),list(partialList)\n",
        "\t\t\t\tchildList=graph.getChildrenof(newlista[-1])\n",
        "\t\t\t\t\n",
        "\t\t\t\tprint('First child of ',newlista[-1],' is: ',childList[0],'Second child is: ',childList[1])\n",
        "\t\t\t\ttry:\n",
        "\t\t\t\t\tnewlista.append(childList[0])\n",
        "\t\t\t\texcept:\n",
        "\t\t\t\t\tprint('first except')\n",
        "\t\t\t\ttry:\n",
        "\t\t\t\t\tnewlistb.append(childList[1])\n",
        "\t\t\t\texcept:\n",
        "\t\t\t\t\tprint('second except')\n",
        "\t\t\t\ttempL.append(newlista)\n",
        "\t\t\t\ttempL.append(newlistb)\n",
        "\t\t\t\tprint('modified temp path ',tempL)\n",
        "\t\tmypath = breathfirstalgo(graph,tempL,comPath)"
      ],
      "execution_count": 6,
      "outputs": []
    },
    {
      "metadata": {
        "id": "W8V7ys1hdxDs",
        "colab_type": "text"
      },
      "cell_type": "markdown",
      "source": [
        "testing the graph"
      ]
    },
    {
      "metadata": {
        "id": "jdo8MRCed_sO",
        "colab_type": "code",
        "colab": {
          "base_uri": "https://localhost:8080/",
          "height": 17
        },
        "outputId": "4418aa64-ed8b-4e0c-8405-2b577b4eb9c0"
      },
      "cell_type": "code",
      "source": [
        "myString='''1\n",
        "2 3\n",
        "4 5 6\n",
        "7 8 9 10\n",
        "11 12 13 14 15'''"
      ],
      "execution_count": 7,
      "outputs": []
    },
    {
      "metadata": {
        "id": "-AQGfg7ydybT",
        "colab_type": "code",
        "colab": {
          "base_uri": "https://localhost:8080/",
          "height": 1424
        },
        "outputId": "3eccde9d-f1df-4a34-8893-4a5c225ebb9c"
      },
      "cell_type": "code",
      "source": [
        "mygraph=createmygraph(myString)\n",
        "print('The graph object is ',mygraph)\n",
        "print('The root node is ',mygraph.rootNode())\n",
        "#print(mygraph)\n",
        "all_list=breathfirstalgo(mygraph,tempPaths=[[mygraph.rootNode()]],comPath=[])\n",
        "\n",
        "print('alllist is ')\n",
        "printPath(all_list)"
      ],
      "execution_count": 8,
      "outputs": [
        {
          "output_type": "stream",
          "text": [
            "The graph object is  <__main__.Diagraph object at 0x7f54e09bf3c8>\n",
            "The root node is  P:(0, 0) V:1\n",
            "temppath len  1 comPath len 0\n",
            "the temp path is  -->[<__main__.node object at 0x7f54e09bf080>]\n",
            "the conditional list  [[<__main__.node object at 0x7f54e09bfcc0>, <__main__.node object at 0x7f54e0a25828>]]\n",
            "The partial path  -->P:(0, 0) V:1\n",
            "First child of  P:(0, 0) V:1  is:  P:(1, 0) V:2 Second child is:  P:(1, 1) V:3\n",
            "modified temp path  [[<__main__.node object at 0x7f54e09bf080>, <__main__.node object at 0x7f54e09bfcc0>], [<__main__.node object at 0x7f54e09bf080>, <__main__.node object at 0x7f54e0a25828>]]\n",
            "temppath len  2 comPath len 0\n",
            "the temp path is  -->[<__main__.node object at 0x7f54e09bf080>, <__main__.node object at 0x7f54e09bfcc0>]-->[<__main__.node object at 0x7f54e09bf080>, <__main__.node object at 0x7f54e0a25828>]\n",
            "the conditional list  [[<__main__.node object at 0x7f54e09bf390>, <__main__.node object at 0x7f54e0a25940>], [<__main__.node object at 0x7f54e0a25940>, <__main__.node object at 0x7f54e0a255f8>]]\n",
            "The partial path  -->P:(0, 0) V:1-->P:(1, 0) V:2\n",
            "First child of  P:(1, 0) V:2  is:  P:(2, 0) V:4 Second child is:  P:(2, 1) V:5\n",
            "modified temp path  [[<__main__.node object at 0x7f54e09bf080>, <__main__.node object at 0x7f54e09bfcc0>, <__main__.node object at 0x7f54e09bf390>], [<__main__.node object at 0x7f54e09bf080>, <__main__.node object at 0x7f54e09bfcc0>, <__main__.node object at 0x7f54e0a25940>]]\n",
            "The partial path  -->P:(0, 0) V:1-->P:(1, 1) V:3\n",
            "First child of  P:(1, 1) V:3  is:  P:(2, 1) V:5 Second child is:  P:(2, 2) V:6\n",
            "modified temp path  [[<__main__.node object at 0x7f54e09bf080>, <__main__.node object at 0x7f54e09bfcc0>, <__main__.node object at 0x7f54e09bf390>], [<__main__.node object at 0x7f54e09bf080>, <__main__.node object at 0x7f54e09bfcc0>, <__main__.node object at 0x7f54e0a25940>], [<__main__.node object at 0x7f54e09bf080>, <__main__.node object at 0x7f54e0a25828>, <__main__.node object at 0x7f54e0a25940>], [<__main__.node object at 0x7f54e09bf080>, <__main__.node object at 0x7f54e0a25828>, <__main__.node object at 0x7f54e0a255f8>]]\n",
            "temppath len  4 comPath len 0\n",
            "the temp path is  -->[<__main__.node object at 0x7f54e09bf080>, <__main__.node object at 0x7f54e09bfcc0>, <__main__.node object at 0x7f54e09bf390>]-->[<__main__.node object at 0x7f54e09bf080>, <__main__.node object at 0x7f54e09bfcc0>, <__main__.node object at 0x7f54e0a25940>]-->[<__main__.node object at 0x7f54e09bf080>, <__main__.node object at 0x7f54e0a25828>, <__main__.node object at 0x7f54e0a25940>]-->[<__main__.node object at 0x7f54e09bf080>, <__main__.node object at 0x7f54e0a25828>, <__main__.node object at 0x7f54e0a255f8>]\n",
            "the conditional list  [[<__main__.node object at 0x7f54e09bf2e8>, <__main__.node object at 0x7f54e0a25e10>], [<__main__.node object at 0x7f54e0a25e10>, <__main__.node object at 0x7f54e0a25d68>], [<__main__.node object at 0x7f54e0a25e10>, <__main__.node object at 0x7f54e0a25d68>], [<__main__.node object at 0x7f54e0a25d68>, <__main__.node object at 0x7f54e0a25c50>]]\n",
            "The partial path  -->P:(0, 0) V:1-->P:(1, 0) V:2-->P:(2, 0) V:4\n",
            "First child of  P:(2, 0) V:4  is:  P:(3, 0) V:7 Second child is:  P:(3, 1) V:8\n",
            "modified temp path  [[<__main__.node object at 0x7f54e09bf080>, <__main__.node object at 0x7f54e09bfcc0>, <__main__.node object at 0x7f54e09bf390>, <__main__.node object at 0x7f54e09bf2e8>], [<__main__.node object at 0x7f54e09bf080>, <__main__.node object at 0x7f54e09bfcc0>, <__main__.node object at 0x7f54e09bf390>, <__main__.node object at 0x7f54e0a25e10>]]\n",
            "The partial path  -->P:(0, 0) V:1-->P:(1, 0) V:2-->P:(2, 1) V:5\n",
            "First child of  P:(2, 1) V:5  is:  P:(3, 1) V:8 Second child is:  P:(3, 2) V:9\n",
            "modified temp path  [[<__main__.node object at 0x7f54e09bf080>, <__main__.node object at 0x7f54e09bfcc0>, <__main__.node object at 0x7f54e09bf390>, <__main__.node object at 0x7f54e09bf2e8>], [<__main__.node object at 0x7f54e09bf080>, <__main__.node object at 0x7f54e09bfcc0>, <__main__.node object at 0x7f54e09bf390>, <__main__.node object at 0x7f54e0a25e10>], [<__main__.node object at 0x7f54e09bf080>, <__main__.node object at 0x7f54e09bfcc0>, <__main__.node object at 0x7f54e0a25940>, <__main__.node object at 0x7f54e0a25e10>], [<__main__.node object at 0x7f54e09bf080>, <__main__.node object at 0x7f54e09bfcc0>, <__main__.node object at 0x7f54e0a25940>, <__main__.node object at 0x7f54e0a25d68>]]\n",
            "The partial path  -->P:(0, 0) V:1-->P:(1, 1) V:3-->P:(2, 1) V:5\n",
            "First child of  P:(2, 1) V:5  is:  P:(3, 1) V:8 Second child is:  P:(3, 2) V:9\n",
            "modified temp path  [[<__main__.node object at 0x7f54e09bf080>, <__main__.node object at 0x7f54e09bfcc0>, <__main__.node object at 0x7f54e09bf390>, <__main__.node object at 0x7f54e09bf2e8>], [<__main__.node object at 0x7f54e09bf080>, <__main__.node object at 0x7f54e09bfcc0>, <__main__.node object at 0x7f54e09bf390>, <__main__.node object at 0x7f54e0a25e10>], [<__main__.node object at 0x7f54e09bf080>, <__main__.node object at 0x7f54e09bfcc0>, <__main__.node object at 0x7f54e0a25940>, <__main__.node object at 0x7f54e0a25e10>], [<__main__.node object at 0x7f54e09bf080>, <__main__.node object at 0x7f54e09bfcc0>, <__main__.node object at 0x7f54e0a25940>, <__main__.node object at 0x7f54e0a25d68>], [<__main__.node object at 0x7f54e09bf080>, <__main__.node object at 0x7f54e0a25828>, <__main__.node object at 0x7f54e0a25940>, <__main__.node object at 0x7f54e0a25e10>], [<__main__.node object at 0x7f54e09bf080>, <__main__.node object at 0x7f54e0a25828>, <__main__.node object at 0x7f54e0a25940>, <__main__.node object at 0x7f54e0a25d68>]]\n",
            "The partial path  -->P:(0, 0) V:1-->P:(1, 1) V:3-->P:(2, 2) V:6\n",
            "First child of  P:(2, 2) V:6  is:  P:(3, 2) V:9 Second child is:  P:(3, 3) V:10\n",
            "modified temp path  [[<__main__.node object at 0x7f54e09bf080>, <__main__.node object at 0x7f54e09bfcc0>, <__main__.node object at 0x7f54e09bf390>, <__main__.node object at 0x7f54e09bf2e8>], [<__main__.node object at 0x7f54e09bf080>, <__main__.node object at 0x7f54e09bfcc0>, <__main__.node object at 0x7f54e09bf390>, <__main__.node object at 0x7f54e0a25e10>], [<__main__.node object at 0x7f54e09bf080>, <__main__.node object at 0x7f54e09bfcc0>, <__main__.node object at 0x7f54e0a25940>, <__main__.node object at 0x7f54e0a25e10>], [<__main__.node object at 0x7f54e09bf080>, <__main__.node object at 0x7f54e09bfcc0>, <__main__.node object at 0x7f54e0a25940>, <__main__.node object at 0x7f54e0a25d68>], [<__main__.node object at 0x7f54e09bf080>, <__main__.node object at 0x7f54e0a25828>, <__main__.node object at 0x7f54e0a25940>, <__main__.node object at 0x7f54e0a25e10>], [<__main__.node object at 0x7f54e09bf080>, <__main__.node object at 0x7f54e0a25828>, <__main__.node object at 0x7f54e0a25940>, <__main__.node object at 0x7f54e0a25d68>], [<__main__.node object at 0x7f54e09bf080>, <__main__.node object at 0x7f54e0a25828>, <__main__.node object at 0x7f54e0a255f8>, <__main__.node object at 0x7f54e0a25d68>], [<__main__.node object at 0x7f54e09bf080>, <__main__.node object at 0x7f54e0a25828>, <__main__.node object at 0x7f54e0a255f8>, <__main__.node object at 0x7f54e0a25c50>]]\n",
            "temppath len  8 comPath len 0\n",
            "the temp path is  -->[<__main__.node object at 0x7f54e09bf080>, <__main__.node object at 0x7f54e09bfcc0>, <__main__.node object at 0x7f54e09bf390>, <__main__.node object at 0x7f54e09bf2e8>]-->[<__main__.node object at 0x7f54e09bf080>, <__main__.node object at 0x7f54e09bfcc0>, <__main__.node object at 0x7f54e09bf390>, <__main__.node object at 0x7f54e0a25e10>]-->[<__main__.node object at 0x7f54e09bf080>, <__main__.node object at 0x7f54e09bfcc0>, <__main__.node object at 0x7f54e0a25940>, <__main__.node object at 0x7f54e0a25e10>]-->[<__main__.node object at 0x7f54e09bf080>, <__main__.node object at 0x7f54e09bfcc0>, <__main__.node object at 0x7f54e0a25940>, <__main__.node object at 0x7f54e0a25d68>]-->[<__main__.node object at 0x7f54e09bf080>, <__main__.node object at 0x7f54e0a25828>, <__main__.node object at 0x7f54e0a25940>, <__main__.node object at 0x7f54e0a25e10>]-->[<__main__.node object at 0x7f54e09bf080>, <__main__.node object at 0x7f54e0a25828>, <__main__.node object at 0x7f54e0a25940>, <__main__.node object at 0x7f54e0a25d68>]-->[<__main__.node object at 0x7f54e09bf080>, <__main__.node object at 0x7f54e0a25828>, <__main__.node object at 0x7f54e0a255f8>, <__main__.node object at 0x7f54e0a25d68>]-->[<__main__.node object at 0x7f54e09bf080>, <__main__.node object at 0x7f54e0a25828>, <__main__.node object at 0x7f54e0a255f8>, <__main__.node object at 0x7f54e0a25c50>]\n",
            "the conditional list  [[<__main__.node object at 0x7f54e09bf048>, <__main__.node object at 0x7f54e0a25e48>], [<__main__.node object at 0x7f54e0a25e48>, <__main__.node object at 0x7f54e0a25710>], [<__main__.node object at 0x7f54e0a25e48>, <__main__.node object at 0x7f54e0a25710>], [<__main__.node object at 0x7f54e0a25710>, <__main__.node object at 0x7f54e0a25f28>], [<__main__.node object at 0x7f54e0a25e48>, <__main__.node object at 0x7f54e0a25710>], [<__main__.node object at 0x7f54e0a25710>, <__main__.node object at 0x7f54e0a25f28>], [<__main__.node object at 0x7f54e0a25710>, <__main__.node object at 0x7f54e0a25f28>], [<__main__.node object at 0x7f54e0a25f28>, <__main__.node object at 0x7f54e0a25eb8>]]\n",
            "The partial path  -->P:(0, 0) V:1-->P:(1, 0) V:2-->P:(2, 0) V:4-->P:(3, 0) V:7\n",
            "First child of  P:(3, 0) V:7  is:  P:(4, 0) V:11 Second child is:  P:(4, 1) V:12\n",
            "modified temp path  [[<__main__.node object at 0x7f54e09bf080>, <__main__.node object at 0x7f54e09bfcc0>, <__main__.node object at 0x7f54e09bf390>, <__main__.node object at 0x7f54e09bf2e8>, <__main__.node object at 0x7f54e09bf048>], [<__main__.node object at 0x7f54e09bf080>, <__main__.node object at 0x7f54e09bfcc0>, <__main__.node object at 0x7f54e09bf390>, <__main__.node object at 0x7f54e09bf2e8>, <__main__.node object at 0x7f54e0a25e48>]]\n",
            "The partial path  -->P:(0, 0) V:1-->P:(1, 0) V:2-->P:(2, 0) V:4-->P:(3, 1) V:8\n",
            "First child of  P:(3, 1) V:8  is:  P:(4, 1) V:12 Second child is:  P:(4, 2) V:13\n",
            "modified temp path  [[<__main__.node object at 0x7f54e09bf080>, <__main__.node object at 0x7f54e09bfcc0>, <__main__.node object at 0x7f54e09bf390>, <__main__.node object at 0x7f54e09bf2e8>, <__main__.node object at 0x7f54e09bf048>], [<__main__.node object at 0x7f54e09bf080>, <__main__.node object at 0x7f54e09bfcc0>, <__main__.node object at 0x7f54e09bf390>, <__main__.node object at 0x7f54e09bf2e8>, <__main__.node object at 0x7f54e0a25e48>], [<__main__.node object at 0x7f54e09bf080>, <__main__.node object at 0x7f54e09bfcc0>, <__main__.node object at 0x7f54e09bf390>, <__main__.node object at 0x7f54e0a25e10>, <__main__.node object at 0x7f54e0a25e48>], [<__main__.node object at 0x7f54e09bf080>, <__main__.node object at 0x7f54e09bfcc0>, <__main__.node object at 0x7f54e09bf390>, <__main__.node object at 0x7f54e0a25e10>, <__main__.node object at 0x7f54e0a25710>]]\n",
            "The partial path  -->P:(0, 0) V:1-->P:(1, 0) V:2-->P:(2, 1) V:5-->P:(3, 1) V:8\n",
            "First child of  P:(3, 1) V:8  is:  P:(4, 1) V:12 Second child is:  P:(4, 2) V:13\n",
            "modified temp path  [[<__main__.node object at 0x7f54e09bf080>, <__main__.node object at 0x7f54e09bfcc0>, <__main__.node object at 0x7f54e09bf390>, <__main__.node object at 0x7f54e09bf2e8>, <__main__.node object at 0x7f54e09bf048>], [<__main__.node object at 0x7f54e09bf080>, <__main__.node object at 0x7f54e09bfcc0>, <__main__.node object at 0x7f54e09bf390>, <__main__.node object at 0x7f54e09bf2e8>, <__main__.node object at 0x7f54e0a25e48>], [<__main__.node object at 0x7f54e09bf080>, <__main__.node object at 0x7f54e09bfcc0>, <__main__.node object at 0x7f54e09bf390>, <__main__.node object at 0x7f54e0a25e10>, <__main__.node object at 0x7f54e0a25e48>], [<__main__.node object at 0x7f54e09bf080>, <__main__.node object at 0x7f54e09bfcc0>, <__main__.node object at 0x7f54e09bf390>, <__main__.node object at 0x7f54e0a25e10>, <__main__.node object at 0x7f54e0a25710>], [<__main__.node object at 0x7f54e09bf080>, <__main__.node object at 0x7f54e09bfcc0>, <__main__.node object at 0x7f54e0a25940>, <__main__.node object at 0x7f54e0a25e10>, <__main__.node object at 0x7f54e0a25e48>], [<__main__.node object at 0x7f54e09bf080>, <__main__.node object at 0x7f54e09bfcc0>, <__main__.node object at 0x7f54e0a25940>, <__main__.node object at 0x7f54e0a25e10>, <__main__.node object at 0x7f54e0a25710>]]\n",
            "The partial path  -->P:(0, 0) V:1-->P:(1, 0) V:2-->P:(2, 1) V:5-->P:(3, 2) V:9\n",
            "First child of  P:(3, 2) V:9  is:  P:(4, 2) V:13 Second child is:  P:(4, 3) V:14\n",
            "modified temp path  [[<__main__.node object at 0x7f54e09bf080>, <__main__.node object at 0x7f54e09bfcc0>, <__main__.node object at 0x7f54e09bf390>, <__main__.node object at 0x7f54e09bf2e8>, <__main__.node object at 0x7f54e09bf048>], [<__main__.node object at 0x7f54e09bf080>, <__main__.node object at 0x7f54e09bfcc0>, <__main__.node object at 0x7f54e09bf390>, <__main__.node object at 0x7f54e09bf2e8>, <__main__.node object at 0x7f54e0a25e48>], [<__main__.node object at 0x7f54e09bf080>, <__main__.node object at 0x7f54e09bfcc0>, <__main__.node object at 0x7f54e09bf390>, <__main__.node object at 0x7f54e0a25e10>, <__main__.node object at 0x7f54e0a25e48>], [<__main__.node object at 0x7f54e09bf080>, <__main__.node object at 0x7f54e09bfcc0>, <__main__.node object at 0x7f54e09bf390>, <__main__.node object at 0x7f54e0a25e10>, <__main__.node object at 0x7f54e0a25710>], [<__main__.node object at 0x7f54e09bf080>, <__main__.node object at 0x7f54e09bfcc0>, <__main__.node object at 0x7f54e0a25940>, <__main__.node object at 0x7f54e0a25e10>, <__main__.node object at 0x7f54e0a25e48>], [<__main__.node object at 0x7f54e09bf080>, <__main__.node object at 0x7f54e09bfcc0>, <__main__.node object at 0x7f54e0a25940>, <__main__.node object at 0x7f54e0a25e10>, <__main__.node object at 0x7f54e0a25710>], [<__main__.node object at 0x7f54e09bf080>, <__main__.node object at 0x7f54e09bfcc0>, <__main__.node object at 0x7f54e0a25940>, <__main__.node object at 0x7f54e0a25d68>, <__main__.node object at 0x7f54e0a25710>], [<__main__.node object at 0x7f54e09bf080>, <__main__.node object at 0x7f54e09bfcc0>, <__main__.node object at 0x7f54e0a25940>, <__main__.node object at 0x7f54e0a25d68>, <__main__.node object at 0x7f54e0a25f28>]]\n",
            "The partial path  -->P:(0, 0) V:1-->P:(1, 1) V:3-->P:(2, 1) V:5-->P:(3, 1) V:8\n",
            "First child of  P:(3, 1) V:8  is:  P:(4, 1) V:12 Second child is:  P:(4, 2) V:13\n",
            "modified temp path  [[<__main__.node object at 0x7f54e09bf080>, <__main__.node object at 0x7f54e09bfcc0>, <__main__.node object at 0x7f54e09bf390>, <__main__.node object at 0x7f54e09bf2e8>, <__main__.node object at 0x7f54e09bf048>], [<__main__.node object at 0x7f54e09bf080>, <__main__.node object at 0x7f54e09bfcc0>, <__main__.node object at 0x7f54e09bf390>, <__main__.node object at 0x7f54e09bf2e8>, <__main__.node object at 0x7f54e0a25e48>], [<__main__.node object at 0x7f54e09bf080>, <__main__.node object at 0x7f54e09bfcc0>, <__main__.node object at 0x7f54e09bf390>, <__main__.node object at 0x7f54e0a25e10>, <__main__.node object at 0x7f54e0a25e48>], [<__main__.node object at 0x7f54e09bf080>, <__main__.node object at 0x7f54e09bfcc0>, <__main__.node object at 0x7f54e09bf390>, <__main__.node object at 0x7f54e0a25e10>, <__main__.node object at 0x7f54e0a25710>], [<__main__.node object at 0x7f54e09bf080>, <__main__.node object at 0x7f54e09bfcc0>, <__main__.node object at 0x7f54e0a25940>, <__main__.node object at 0x7f54e0a25e10>, <__main__.node object at 0x7f54e0a25e48>], [<__main__.node object at 0x7f54e09bf080>, <__main__.node object at 0x7f54e09bfcc0>, <__main__.node object at 0x7f54e0a25940>, <__main__.node object at 0x7f54e0a25e10>, <__main__.node object at 0x7f54e0a25710>], [<__main__.node object at 0x7f54e09bf080>, <__main__.node object at 0x7f54e09bfcc0>, <__main__.node object at 0x7f54e0a25940>, <__main__.node object at 0x7f54e0a25d68>, <__main__.node object at 0x7f54e0a25710>], [<__main__.node object at 0x7f54e09bf080>, <__main__.node object at 0x7f54e09bfcc0>, <__main__.node object at 0x7f54e0a25940>, <__main__.node object at 0x7f54e0a25d68>, <__main__.node object at 0x7f54e0a25f28>], [<__main__.node object at 0x7f54e09bf080>, <__main__.node object at 0x7f54e0a25828>, <__main__.node object at 0x7f54e0a25940>, <__main__.node object at 0x7f54e0a25e10>, <__main__.node object at 0x7f54e0a25e48>], [<__main__.node object at 0x7f54e09bf080>, <__main__.node object at 0x7f54e0a25828>, <__main__.node object at 0x7f54e0a25940>, <__main__.node object at 0x7f54e0a25e10>, <__main__.node object at 0x7f54e0a25710>]]\n",
            "The partial path  -->P:(0, 0) V:1-->P:(1, 1) V:3-->P:(2, 1) V:5-->P:(3, 2) V:9\n",
            "First child of  P:(3, 2) V:9  is:  P:(4, 2) V:13 Second child is:  P:(4, 3) V:14\n",
            "modified temp path  [[<__main__.node object at 0x7f54e09bf080>, <__main__.node object at 0x7f54e09bfcc0>, <__main__.node object at 0x7f54e09bf390>, <__main__.node object at 0x7f54e09bf2e8>, <__main__.node object at 0x7f54e09bf048>], [<__main__.node object at 0x7f54e09bf080>, <__main__.node object at 0x7f54e09bfcc0>, <__main__.node object at 0x7f54e09bf390>, <__main__.node object at 0x7f54e09bf2e8>, <__main__.node object at 0x7f54e0a25e48>], [<__main__.node object at 0x7f54e09bf080>, <__main__.node object at 0x7f54e09bfcc0>, <__main__.node object at 0x7f54e09bf390>, <__main__.node object at 0x7f54e0a25e10>, <__main__.node object at 0x7f54e0a25e48>], [<__main__.node object at 0x7f54e09bf080>, <__main__.node object at 0x7f54e09bfcc0>, <__main__.node object at 0x7f54e09bf390>, <__main__.node object at 0x7f54e0a25e10>, <__main__.node object at 0x7f54e0a25710>], [<__main__.node object at 0x7f54e09bf080>, <__main__.node object at 0x7f54e09bfcc0>, <__main__.node object at 0x7f54e0a25940>, <__main__.node object at 0x7f54e0a25e10>, <__main__.node object at 0x7f54e0a25e48>], [<__main__.node object at 0x7f54e09bf080>, <__main__.node object at 0x7f54e09bfcc0>, <__main__.node object at 0x7f54e0a25940>, <__main__.node object at 0x7f54e0a25e10>, <__main__.node object at 0x7f54e0a25710>], [<__main__.node object at 0x7f54e09bf080>, <__main__.node object at 0x7f54e09bfcc0>, <__main__.node object at 0x7f54e0a25940>, <__main__.node object at 0x7f54e0a25d68>, <__main__.node object at 0x7f54e0a25710>], [<__main__.node object at 0x7f54e09bf080>, <__main__.node object at 0x7f54e09bfcc0>, <__main__.node object at 0x7f54e0a25940>, <__main__.node object at 0x7f54e0a25d68>, <__main__.node object at 0x7f54e0a25f28>], [<__main__.node object at 0x7f54e09bf080>, <__main__.node object at 0x7f54e0a25828>, <__main__.node object at 0x7f54e0a25940>, <__main__.node object at 0x7f54e0a25e10>, <__main__.node object at 0x7f54e0a25e48>], [<__main__.node object at 0x7f54e09bf080>, <__main__.node object at 0x7f54e0a25828>, <__main__.node object at 0x7f54e0a25940>, <__main__.node object at 0x7f54e0a25e10>, <__main__.node object at 0x7f54e0a25710>], [<__main__.node object at 0x7f54e09bf080>, <__main__.node object at 0x7f54e0a25828>, <__main__.node object at 0x7f54e0a25940>, <__main__.node object at 0x7f54e0a25d68>, <__main__.node object at 0x7f54e0a25710>], [<__main__.node object at 0x7f54e09bf080>, <__main__.node object at 0x7f54e0a25828>, <__main__.node object at 0x7f54e0a25940>, <__main__.node object at 0x7f54e0a25d68>, <__main__.node object at 0x7f54e0a25f28>]]\n",
            "The partial path  -->P:(0, 0) V:1-->P:(1, 1) V:3-->P:(2, 2) V:6-->P:(3, 2) V:9\n",
            "First child of  P:(3, 2) V:9  is:  P:(4, 2) V:13 Second child is:  P:(4, 3) V:14\n",
            "modified temp path  [[<__main__.node object at 0x7f54e09bf080>, <__main__.node object at 0x7f54e09bfcc0>, <__main__.node object at 0x7f54e09bf390>, <__main__.node object at 0x7f54e09bf2e8>, <__main__.node object at 0x7f54e09bf048>], [<__main__.node object at 0x7f54e09bf080>, <__main__.node object at 0x7f54e09bfcc0>, <__main__.node object at 0x7f54e09bf390>, <__main__.node object at 0x7f54e09bf2e8>, <__main__.node object at 0x7f54e0a25e48>], [<__main__.node object at 0x7f54e09bf080>, <__main__.node object at 0x7f54e09bfcc0>, <__main__.node object at 0x7f54e09bf390>, <__main__.node object at 0x7f54e0a25e10>, <__main__.node object at 0x7f54e0a25e48>], [<__main__.node object at 0x7f54e09bf080>, <__main__.node object at 0x7f54e09bfcc0>, <__main__.node object at 0x7f54e09bf390>, <__main__.node object at 0x7f54e0a25e10>, <__main__.node object at 0x7f54e0a25710>], [<__main__.node object at 0x7f54e09bf080>, <__main__.node object at 0x7f54e09bfcc0>, <__main__.node object at 0x7f54e0a25940>, <__main__.node object at 0x7f54e0a25e10>, <__main__.node object at 0x7f54e0a25e48>], [<__main__.node object at 0x7f54e09bf080>, <__main__.node object at 0x7f54e09bfcc0>, <__main__.node object at 0x7f54e0a25940>, <__main__.node object at 0x7f54e0a25e10>, <__main__.node object at 0x7f54e0a25710>], [<__main__.node object at 0x7f54e09bf080>, <__main__.node object at 0x7f54e09bfcc0>, <__main__.node object at 0x7f54e0a25940>, <__main__.node object at 0x7f54e0a25d68>, <__main__.node object at 0x7f54e0a25710>], [<__main__.node object at 0x7f54e09bf080>, <__main__.node object at 0x7f54e09bfcc0>, <__main__.node object at 0x7f54e0a25940>, <__main__.node object at 0x7f54e0a25d68>, <__main__.node object at 0x7f54e0a25f28>], [<__main__.node object at 0x7f54e09bf080>, <__main__.node object at 0x7f54e0a25828>, <__main__.node object at 0x7f54e0a25940>, <__main__.node object at 0x7f54e0a25e10>, <__main__.node object at 0x7f54e0a25e48>], [<__main__.node object at 0x7f54e09bf080>, <__main__.node object at 0x7f54e0a25828>, <__main__.node object at 0x7f54e0a25940>, <__main__.node object at 0x7f54e0a25e10>, <__main__.node object at 0x7f54e0a25710>], [<__main__.node object at 0x7f54e09bf080>, <__main__.node object at 0x7f54e0a25828>, <__main__.node object at 0x7f54e0a25940>, <__main__.node object at 0x7f54e0a25d68>, <__main__.node object at 0x7f54e0a25710>], [<__main__.node object at 0x7f54e09bf080>, <__main__.node object at 0x7f54e0a25828>, <__main__.node object at 0x7f54e0a25940>, <__main__.node object at 0x7f54e0a25d68>, <__main__.node object at 0x7f54e0a25f28>], [<__main__.node object at 0x7f54e09bf080>, <__main__.node object at 0x7f54e0a25828>, <__main__.node object at 0x7f54e0a255f8>, <__main__.node object at 0x7f54e0a25d68>, <__main__.node object at 0x7f54e0a25710>], [<__main__.node object at 0x7f54e09bf080>, <__main__.node object at 0x7f54e0a25828>, <__main__.node object at 0x7f54e0a255f8>, <__main__.node object at 0x7f54e0a25d68>, <__main__.node object at 0x7f54e0a25f28>]]\n",
            "The partial path  -->P:(0, 0) V:1-->P:(1, 1) V:3-->P:(2, 2) V:6-->P:(3, 3) V:10\n",
            "First child of  P:(3, 3) V:10  is:  P:(4, 3) V:14 Second child is:  P:(4, 4) V:15\n",
            "modified temp path  [[<__main__.node object at 0x7f54e09bf080>, <__main__.node object at 0x7f54e09bfcc0>, <__main__.node object at 0x7f54e09bf390>, <__main__.node object at 0x7f54e09bf2e8>, <__main__.node object at 0x7f54e09bf048>], [<__main__.node object at 0x7f54e09bf080>, <__main__.node object at 0x7f54e09bfcc0>, <__main__.node object at 0x7f54e09bf390>, <__main__.node object at 0x7f54e09bf2e8>, <__main__.node object at 0x7f54e0a25e48>], [<__main__.node object at 0x7f54e09bf080>, <__main__.node object at 0x7f54e09bfcc0>, <__main__.node object at 0x7f54e09bf390>, <__main__.node object at 0x7f54e0a25e10>, <__main__.node object at 0x7f54e0a25e48>], [<__main__.node object at 0x7f54e09bf080>, <__main__.node object at 0x7f54e09bfcc0>, <__main__.node object at 0x7f54e09bf390>, <__main__.node object at 0x7f54e0a25e10>, <__main__.node object at 0x7f54e0a25710>], [<__main__.node object at 0x7f54e09bf080>, <__main__.node object at 0x7f54e09bfcc0>, <__main__.node object at 0x7f54e0a25940>, <__main__.node object at 0x7f54e0a25e10>, <__main__.node object at 0x7f54e0a25e48>], [<__main__.node object at 0x7f54e09bf080>, <__main__.node object at 0x7f54e09bfcc0>, <__main__.node object at 0x7f54e0a25940>, <__main__.node object at 0x7f54e0a25e10>, <__main__.node object at 0x7f54e0a25710>], [<__main__.node object at 0x7f54e09bf080>, <__main__.node object at 0x7f54e09bfcc0>, <__main__.node object at 0x7f54e0a25940>, <__main__.node object at 0x7f54e0a25d68>, <__main__.node object at 0x7f54e0a25710>], [<__main__.node object at 0x7f54e09bf080>, <__main__.node object at 0x7f54e09bfcc0>, <__main__.node object at 0x7f54e0a25940>, <__main__.node object at 0x7f54e0a25d68>, <__main__.node object at 0x7f54e0a25f28>], [<__main__.node object at 0x7f54e09bf080>, <__main__.node object at 0x7f54e0a25828>, <__main__.node object at 0x7f54e0a25940>, <__main__.node object at 0x7f54e0a25e10>, <__main__.node object at 0x7f54e0a25e48>], [<__main__.node object at 0x7f54e09bf080>, <__main__.node object at 0x7f54e0a25828>, <__main__.node object at 0x7f54e0a25940>, <__main__.node object at 0x7f54e0a25e10>, <__main__.node object at 0x7f54e0a25710>], [<__main__.node object at 0x7f54e09bf080>, <__main__.node object at 0x7f54e0a25828>, <__main__.node object at 0x7f54e0a25940>, <__main__.node object at 0x7f54e0a25d68>, <__main__.node object at 0x7f54e0a25710>], [<__main__.node object at 0x7f54e09bf080>, <__main__.node object at 0x7f54e0a25828>, <__main__.node object at 0x7f54e0a25940>, <__main__.node object at 0x7f54e0a25d68>, <__main__.node object at 0x7f54e0a25f28>], [<__main__.node object at 0x7f54e09bf080>, <__main__.node object at 0x7f54e0a25828>, <__main__.node object at 0x7f54e0a255f8>, <__main__.node object at 0x7f54e0a25d68>, <__main__.node object at 0x7f54e0a25710>], [<__main__.node object at 0x7f54e09bf080>, <__main__.node object at 0x7f54e0a25828>, <__main__.node object at 0x7f54e0a255f8>, <__main__.node object at 0x7f54e0a25d68>, <__main__.node object at 0x7f54e0a25f28>], [<__main__.node object at 0x7f54e09bf080>, <__main__.node object at 0x7f54e0a25828>, <__main__.node object at 0x7f54e0a255f8>, <__main__.node object at 0x7f54e0a25c50>, <__main__.node object at 0x7f54e0a25f28>], [<__main__.node object at 0x7f54e09bf080>, <__main__.node object at 0x7f54e0a25828>, <__main__.node object at 0x7f54e0a255f8>, <__main__.node object at 0x7f54e0a25c50>, <__main__.node object at 0x7f54e0a25eb8>]]\n",
            "temppath len  16 comPath len 0\n",
            "the temp path is  -->[<__main__.node object at 0x7f54e09bf080>, <__main__.node object at 0x7f54e09bfcc0>, <__main__.node object at 0x7f54e09bf390>, <__main__.node object at 0x7f54e09bf2e8>, <__main__.node object at 0x7f54e09bf048>]-->[<__main__.node object at 0x7f54e09bf080>, <__main__.node object at 0x7f54e09bfcc0>, <__main__.node object at 0x7f54e09bf390>, <__main__.node object at 0x7f54e09bf2e8>, <__main__.node object at 0x7f54e0a25e48>]-->[<__main__.node object at 0x7f54e09bf080>, <__main__.node object at 0x7f54e09bfcc0>, <__main__.node object at 0x7f54e09bf390>, <__main__.node object at 0x7f54e0a25e10>, <__main__.node object at 0x7f54e0a25e48>]-->[<__main__.node object at 0x7f54e09bf080>, <__main__.node object at 0x7f54e09bfcc0>, <__main__.node object at 0x7f54e09bf390>, <__main__.node object at 0x7f54e0a25e10>, <__main__.node object at 0x7f54e0a25710>]-->[<__main__.node object at 0x7f54e09bf080>, <__main__.node object at 0x7f54e09bfcc0>, <__main__.node object at 0x7f54e0a25940>, <__main__.node object at 0x7f54e0a25e10>, <__main__.node object at 0x7f54e0a25e48>]-->[<__main__.node object at 0x7f54e09bf080>, <__main__.node object at 0x7f54e09bfcc0>, <__main__.node object at 0x7f54e0a25940>, <__main__.node object at 0x7f54e0a25e10>, <__main__.node object at 0x7f54e0a25710>]-->[<__main__.node object at 0x7f54e09bf080>, <__main__.node object at 0x7f54e09bfcc0>, <__main__.node object at 0x7f54e0a25940>, <__main__.node object at 0x7f54e0a25d68>, <__main__.node object at 0x7f54e0a25710>]-->[<__main__.node object at 0x7f54e09bf080>, <__main__.node object at 0x7f54e09bfcc0>, <__main__.node object at 0x7f54e0a25940>, <__main__.node object at 0x7f54e0a25d68>, <__main__.node object at 0x7f54e0a25f28>]-->[<__main__.node object at 0x7f54e09bf080>, <__main__.node object at 0x7f54e0a25828>, <__main__.node object at 0x7f54e0a25940>, <__main__.node object at 0x7f54e0a25e10>, <__main__.node object at 0x7f54e0a25e48>]-->[<__main__.node object at 0x7f54e09bf080>, <__main__.node object at 0x7f54e0a25828>, <__main__.node object at 0x7f54e0a25940>, <__main__.node object at 0x7f54e0a25e10>, <__main__.node object at 0x7f54e0a25710>]-->[<__main__.node object at 0x7f54e09bf080>, <__main__.node object at 0x7f54e0a25828>, <__main__.node object at 0x7f54e0a25940>, <__main__.node object at 0x7f54e0a25d68>, <__main__.node object at 0x7f54e0a25710>]-->[<__main__.node object at 0x7f54e09bf080>, <__main__.node object at 0x7f54e0a25828>, <__main__.node object at 0x7f54e0a25940>, <__main__.node object at 0x7f54e0a25d68>, <__main__.node object at 0x7f54e0a25f28>]-->[<__main__.node object at 0x7f54e09bf080>, <__main__.node object at 0x7f54e0a25828>, <__main__.node object at 0x7f54e0a255f8>, <__main__.node object at 0x7f54e0a25d68>, <__main__.node object at 0x7f54e0a25710>]-->[<__main__.node object at 0x7f54e09bf080>, <__main__.node object at 0x7f54e0a25828>, <__main__.node object at 0x7f54e0a255f8>, <__main__.node object at 0x7f54e0a25d68>, <__main__.node object at 0x7f54e0a25f28>]-->[<__main__.node object at 0x7f54e09bf080>, <__main__.node object at 0x7f54e0a25828>, <__main__.node object at 0x7f54e0a255f8>, <__main__.node object at 0x7f54e0a25c50>, <__main__.node object at 0x7f54e0a25f28>]-->[<__main__.node object at 0x7f54e09bf080>, <__main__.node object at 0x7f54e0a25828>, <__main__.node object at 0x7f54e0a255f8>, <__main__.node object at 0x7f54e0a25c50>, <__main__.node object at 0x7f54e0a25eb8>]\n",
            "the conditional list  []\n",
            "going to return the path\n",
            "alllist is \n"
          ],
          "name": "stdout"
        },
        {
          "output_type": "error",
          "ename": "TypeError",
          "evalue": "ignored",
          "traceback": [
            "\u001b[0;31m---------------------------------------------------------------------------\u001b[0m",
            "\u001b[0;31mTypeError\u001b[0m                                 Traceback (most recent call last)",
            "\u001b[0;32m<ipython-input-8-c4f566ca7e43>\u001b[0m in \u001b[0;36m<module>\u001b[0;34m()\u001b[0m\n\u001b[1;32m      6\u001b[0m \u001b[0;34m\u001b[0m\u001b[0m\n\u001b[1;32m      7\u001b[0m \u001b[0mprint\u001b[0m\u001b[0;34m(\u001b[0m\u001b[0;34m'alllist is '\u001b[0m\u001b[0;34m)\u001b[0m\u001b[0;34m\u001b[0m\u001b[0m\n\u001b[0;32m----> 8\u001b[0;31m \u001b[0mprintPath\u001b[0m\u001b[0;34m(\u001b[0m\u001b[0mall_list\u001b[0m\u001b[0;34m)\u001b[0m\u001b[0;34m\u001b[0m\u001b[0m\n\u001b[0m",
            "\u001b[0;32m<ipython-input-5-087797154784>\u001b[0m in \u001b[0;36mprintPath\u001b[0;34m(path)\u001b[0m\n\u001b[1;32m      2\u001b[0m     \u001b[0;34m''' path is a list of node objects'''\u001b[0m\u001b[0;34m\u001b[0m\u001b[0m\n\u001b[1;32m      3\u001b[0m     \u001b[0mresult\u001b[0m\u001b[0;34m=\u001b[0m\u001b[0;34m''\u001b[0m\u001b[0;34m\u001b[0m\u001b[0m\n\u001b[0;32m----> 4\u001b[0;31m     \u001b[0;32mfor\u001b[0m \u001b[0mi\u001b[0m \u001b[0;32min\u001b[0m \u001b[0mrange\u001b[0m\u001b[0;34m(\u001b[0m\u001b[0mlen\u001b[0m\u001b[0;34m(\u001b[0m\u001b[0mpath\u001b[0m\u001b[0;34m)\u001b[0m\u001b[0;34m)\u001b[0m\u001b[0;34m:\u001b[0m\u001b[0;34m\u001b[0m\u001b[0m\n\u001b[0m\u001b[1;32m      5\u001b[0m         \u001b[0mresult\u001b[0m \u001b[0;34m=\u001b[0m \u001b[0mresult\u001b[0m \u001b[0;34m+\u001b[0m\u001b[0;34m'-->'\u001b[0m\u001b[0;34m+\u001b[0m\u001b[0mstr\u001b[0m\u001b[0;34m(\u001b[0m\u001b[0mpath\u001b[0m\u001b[0;34m[\u001b[0m\u001b[0mi\u001b[0m\u001b[0;34m]\u001b[0m\u001b[0;34m)\u001b[0m\u001b[0;34m\u001b[0m\u001b[0m\n\u001b[1;32m      6\u001b[0m     \u001b[0;32mreturn\u001b[0m \u001b[0mresult\u001b[0m\u001b[0;34m\u001b[0m\u001b[0m\n",
            "\u001b[0;31mTypeError\u001b[0m: object of type 'NoneType' has no len()"
          ]
        }
      ]
    }
  ]
}