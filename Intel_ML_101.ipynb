{
  "nbformat": 4,
  "nbformat_minor": 0,
  "metadata": {
    "colab": {
      "name": "Intel_ML_101.ipynb",
      "provenance": [],
      "collapsed_sections": [],
      "include_colab_link": true
    },
    "kernelspec": {
      "name": "python3",
      "display_name": "Python 3"
    }
  },
  "cells": [
    {
      "cell_type": "markdown",
      "metadata": {
        "id": "view-in-github",
        "colab_type": "text"
      },
      "source": [
        "<a href=\"https://colab.research.google.com/github/rainu1729/data-analysis/blob/master/Intel_ML_101.ipynb\" target=\"_parent\"><img src=\"https://colab.research.google.com/assets/colab-badge.svg\" alt=\"Open In Colab\"/></a>"
      ]
    },
    {
      "cell_type": "markdown",
      "metadata": {
        "id": "eVLuUKx1D2RA",
        "colab_type": "text"
      },
      "source": [
        "Connect to a local runtime of the enviromnent from Google colab."
      ]
    },
    {
      "cell_type": "markdown",
      "metadata": {
        "id": "7v_XbIIPEL-H",
        "colab_type": "text"
      },
      "source": [
        "Sample Codes Pandas"
      ]
    },
    {
      "cell_type": "code",
      "metadata": {
        "id": "BFC5MJPx9Mn4",
        "colab_type": "code",
        "colab": {
          "base_uri": "https://localhost:8080/",
          "height": 170
        },
        "outputId": "30d4686c-72c5-4c92-d3ce-64e5ea1a896a"
      },
      "source": [
        "import pandas as pd\n",
        "import numpy as np\n",
        "#python list\n",
        "data = [2323,3434,45656,223,2354,45456,3434,3444]\n",
        "\n",
        "#pandas series\n",
        "\n",
        "pd_series = pd.Series(data,name='numbers')\n",
        "\n",
        "#index starting with 0 as default\n",
        "print(pd_series)\n"
      ],
      "execution_count": 24,
      "outputs": [
        {
          "output_type": "stream",
          "text": [
            "0     2323\n",
            "1     3434\n",
            "2    45656\n",
            "3      223\n",
            "4     2354\n",
            "5    45456\n",
            "6     3434\n",
            "7     3444\n",
            "Name: numbers, dtype: int64\n"
          ],
          "name": "stdout"
        }
      ]
    },
    {
      "cell_type": "code",
      "metadata": {
        "id": "RL9LTZujFTeg",
        "colab_type": "code",
        "colab": {
          "base_uri": "https://localhost:8080/",
          "height": 170
        },
        "outputId": "f22dc1f7-6449-4502-f29e-c51a7eb33719"
      },
      "source": [
        "#set date type as index for the series\n",
        "\n",
        "pd_series.index = pd.date_range('20190930',periods=8)\n",
        "print(pd_series)"
      ],
      "execution_count": 25,
      "outputs": [
        {
          "output_type": "stream",
          "text": [
            "2019-09-30     2323\n",
            "2019-10-01     3434\n",
            "2019-10-02    45656\n",
            "2019-10-03      223\n",
            "2019-10-04     2354\n",
            "2019-10-05    45456\n",
            "2019-10-06     3434\n",
            "2019-10-07     3444\n",
            "Freq: D, Name: numbers, dtype: int64\n"
          ],
          "name": "stdout"
        }
      ]
    },
    {
      "cell_type": "code",
      "metadata": {
        "id": "Mio5m2ScF6cr",
        "colab_type": "code",
        "colab": {
          "base_uri": "https://localhost:8080/",
          "height": 187
        },
        "outputId": "9ed3e65e-8c29-4b1e-d1a1-8bc2e54aff21"
      },
      "source": [
        "#select data by the index\n",
        "print(pd_series['2019-10-03'])\n",
        "\n",
        "#by the index position\n",
        "print(pd_series[0])\n",
        "\n",
        "#partial date select\n",
        "print(pd_series['2019-10'])\n"
      ],
      "execution_count": 26,
      "outputs": [
        {
          "output_type": "stream",
          "text": [
            "223\n",
            "2323\n",
            "2019-10-01     3434\n",
            "2019-10-02    45656\n",
            "2019-10-03      223\n",
            "2019-10-04     2354\n",
            "2019-10-05    45456\n",
            "2019-10-06     3434\n",
            "2019-10-07     3444\n",
            "Freq: D, Name: numbers, dtype: int64\n"
          ],
          "name": "stdout"
        }
      ]
    },
    {
      "cell_type": "code",
      "metadata": {
        "id": "sAJvg650Gp_n",
        "colab_type": "code",
        "colab": {
          "base_uri": "https://localhost:8080/",
          "height": 170
        },
        "outputId": "b76e9bbe-e636-4378-8101-7b00d657ae83"
      },
      "source": [
        "#datatype of the series elements\n",
        "pd_series.dtypes\n",
        "\n",
        "#datatype conversion\n",
        "\n",
        "pd_series_f = pd_series.astype(np.float)\n",
        "\n",
        "print(pd_series_f)"
      ],
      "execution_count": 28,
      "outputs": [
        {
          "output_type": "stream",
          "text": [
            "2019-09-30     2323.0\n",
            "2019-10-01     3434.0\n",
            "2019-10-02    45656.0\n",
            "2019-10-03      223.0\n",
            "2019-10-04     2354.0\n",
            "2019-10-05    45456.0\n",
            "2019-10-06     3434.0\n",
            "2019-10-07     3444.0\n",
            "Freq: D, Name: numbers, dtype: float64\n"
          ],
          "name": "stdout"
        }
      ]
    },
    {
      "cell_type": "code",
      "metadata": {
        "id": "i6Yx9R09IKqZ",
        "colab_type": "code",
        "colab": {
          "base_uri": "https://localhost:8080/",
          "height": 170
        },
        "outputId": "c381198d-1cc0-4ec6-b8ec-433a9ddb5d67"
      },
      "source": [
        "#creating a dataframe\n",
        "\n",
        "dist = [5,6,50,0,5,None,6,6]\n",
        "\n",
        "#tuple of the pd series and list\n",
        "joined_Data = list(zip(pd_series,dist))\n",
        "\n",
        "df_result=pd.DataFrame(joined_Data)\n",
        "\n",
        "#add column names to the dataframe\n",
        "df_result = pd.DataFrame(joined_Data,index=pd.date_range('20190930',periods=8),columns=['bike','cycling'])\n",
        "print(df_result)"
      ],
      "execution_count": 33,
      "outputs": [
        {
          "output_type": "stream",
          "text": [
            "             bike  cycling\n",
            "2019-09-30   2323      5.0\n",
            "2019-10-01   3434      6.0\n",
            "2019-10-02  45656     50.0\n",
            "2019-10-03    223      0.0\n",
            "2019-10-04   2354      5.0\n",
            "2019-10-05  45456      NaN\n",
            "2019-10-06   3434      6.0\n",
            "2019-10-07   3444      6.0\n"
          ],
          "name": "stdout"
        }
      ]
    },
    {
      "cell_type": "code",
      "metadata": {
        "id": "jU0-T9Z-Jm-S",
        "colab_type": "code",
        "colab": {
          "base_uri": "https://localhost:8080/",
          "height": 68
        },
        "outputId": "26bbc3c9-7ebb-4268-a832-529d078ba3db"
      },
      "source": [
        "#Select a row from a dataframe\n",
        "\n",
        "print(df_result.loc['2019-09-30'])"
      ],
      "execution_count": 34,
      "outputs": [
        {
          "output_type": "stream",
          "text": [
            "bike       2323.0\n",
            "cycling       5.0\n",
            "Name: 2019-09-30 00:00:00, dtype: float64\n"
          ],
          "name": "stdout"
        }
      ]
    }
  ]
}