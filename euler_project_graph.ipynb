{
  "nbformat": 4,
  "nbformat_minor": 0,
  "metadata": {
    "colab": {
      "name": "Untitled2.ipynb",
      "version": "0.3.2",
      "provenance": [],
      "collapsed_sections": []
    },
    "kernelspec": {
      "name": "python3",
      "display_name": "Python 3"
    }
  },
  "cells": [
    {
      "cell_type": "markdown",
      "metadata": {
        "id": "view-in-github",
        "colab_type": "text"
      },
      "source": [
        "[View in Colaboratory](https://colab.research.google.com/github/rainu1729/data-analysis/blob/master/euler_project_graph.ipynb)"
      ]
    },
    {
      "metadata": {
        "id": "2Hoc3ydscYqM",
        "colab_type": "text"
      },
      "cell_type": "markdown",
      "source": [
        "### WEIGHTED DIAGRAPH"
      ]
    },
    {
      "metadata": {
        "id": "jG8Bif6EccKb",
        "colab_type": "code",
        "colab": {
          "base_uri": "https://localhost:8080/",
          "height": 17
        },
        "outputId": "f4d47bd5-5e14-420a-f4c6-42ec21be5c94"
      },
      "cell_type": "code",
      "source": [
        "#### node class\n",
        "class node(object):\n",
        "\tdef __init__(self,position,value):\n",
        "\t\t'''\n",
        "\t\tposition : gives the position of the node wrt to the test string as a tuple\n",
        "\t\tvalue    : gives the value of the node\n",
        "\t\t'''\n",
        "\t\tself.value=value\n",
        "\t\tself.position=position\n",
        "\t\n",
        "\tdef getPosition(self):\n",
        "\t\treturn self.position\n",
        "\t\n",
        "\tdef getvalue(self):\n",
        "\t\treturn self.value\n",
        "\t\t\n",
        "\tdef getNodeHash(self):\n",
        "\t\treturn hash(str(self.position)+str(self.value))\n",
        "\t\n",
        "\tdef __str__(self):\n",
        "\t\treturn 'P:'+str(self.position)+' V:'+str(self.value)"
      ],
      "execution_count": 11,
      "outputs": []
    },
    {
      "metadata": {
        "id": "LYxtoT7zcefb",
        "colab_type": "text"
      },
      "cell_type": "markdown",
      "source": [
        "edge class"
      ]
    },
    {
      "metadata": {
        "id": "Vuc5O3P4cgaB",
        "colab_type": "code",
        "colab": {
          "base_uri": "https://localhost:8080/",
          "height": 17
        },
        "outputId": "a282a203-e2ca-45ed-ec04-558882a3b9d3"
      },
      "cell_type": "code",
      "source": [
        "class edge(object):\n",
        "\tdef __init__(self,src,dest):\n",
        "\t\t'''src and dest are nodes'''\n",
        "\t\tself.src = src\n",
        "\t\tself.dest = dest\n",
        "\t\n",
        "\tdef getSource(self):\n",
        "\t\treturn self.src\n",
        "\t\n",
        "\tdef getDestination(self):\n",
        "\t\treturn self.dest\n",
        "\t#return the destination nodes value as the weight\n",
        "\tdef getWeight(self):\n",
        "\t\treturn self.dest.getvalue()\n",
        "\t\t\n",
        "\tdef __str__(self):\n",
        "\t\treturn (self.src.getPosition(),)+'->'+(self.dest.getPosition(),)"
      ],
      "execution_count": 12,
      "outputs": []
    },
    {
      "metadata": {
        "id": "y28qs6JLcleH",
        "colab_type": "text"
      },
      "cell_type": "markdown",
      "source": [
        "directed graph"
      ]
    },
    {
      "metadata": {
        "id": "3aOy3LulcoCH",
        "colab_type": "code",
        "colab": {
          "base_uri": "https://localhost:8080/",
          "height": 17
        },
        "outputId": "acc60441-fecb-4136-a3d4-6a3e5cc03d64"
      },
      "cell_type": "code",
      "source": [
        "class Diagraph(object):\n",
        "\t\n",
        "\t'''the edges is a dict mapping node to a list of its destination'''\n",
        "\tdef __init__(self):\n",
        "\t\tself.edges = {}\n",
        "\t\n",
        "\t'''Adds the given node as a key to the dict named edges '''\t\n",
        "\tdef addNode(self,node):\n",
        "\t\tif node in self.edges:\n",
        "\t\t\traise ValueError('Duplicate node')\n",
        "\t\telse:\n",
        "\t\t\tself.edges[node]=[]\n",
        "\t\n",
        "\t'''addEdge accepts and edge class object checks if source and destination node are present in the graph '''\t\t\n",
        "\tdef addEdge(self,edge):\n",
        "\t\tsrc = edge.getSource()\n",
        "\t\tdest = edge.getDestination()\n",
        "\t\tif not (src in self.edges and dest in self.edges):\n",
        "\t\t\traise ValueError('Node not in graph')\n",
        "\t\tself.edges[src].append(dest)\n",
        "\t\n",
        "\t'''getChildrenof returns  all the children of the node'''\t\n",
        "\tdef getChildrenof(self,node):\n",
        "\t\treturn self.edges[node]\n",
        "\t\n",
        "\t'''to check whether a node is present in the graph or not'''\t\n",
        "\tdef hasNode(self,node):\n",
        "\t\treturn node in self.edges\n",
        "\t\n",
        "\t'''rootNode returns the root node i.e node at position (0,0)'''\t\n",
        "\tdef rootNode(self):\n",
        "\t\tfor  keys in self.edges:\n",
        "\t\t\treturn keys if keys.getPosition()==(0,0) else 'No Root node for this graph'"
      ],
      "execution_count": 13,
      "outputs": []
    },
    {
      "metadata": {
        "id": "oMmaGxYpdQS7",
        "colab_type": "text"
      },
      "cell_type": "markdown",
      "source": [
        "function to create a graph object"
      ]
    },
    {
      "metadata": {
        "id": "so9Z32n9dSoQ",
        "colab_type": "code",
        "colab": {
          "base_uri": "https://localhost:8080/",
          "height": 17
        },
        "outputId": "14075e41-4107-4db0-f9cf-8a94072e4272"
      },
      "cell_type": "code",
      "source": [
        "def createmygraph(testString):\n",
        "\t'''input is a multi-line string'''\n",
        "\t\n",
        "\t#create a list of lists from the string\n",
        "\tlistofLists=[ list(map(int,elements.split())) for elements in testString.strip().split(\"\\n\")]\n",
        "\ty = Diagraph()\n",
        "\tnodeList = []\n",
        "\t\n",
        "\t# create all the nodes and store it in a list nodeList\n",
        "\tfor i in range(len(listofLists)):\n",
        "\t\tfor j in range(len(listofLists)):\n",
        "\t\t\tif i<=j:\n",
        "\t\t\t\tmynode=node((j,i),listofLists[j][i])\n",
        "\t\t\t\tnodeList.append(mynode)\n",
        "\t\t\t\ty.addNode(mynode)\n",
        "\t\n",
        "\t# create all the edges\n",
        "\tfor srcNode in nodeList:\n",
        "\t# iterate through all the nodes again and form a logic add the edges\n",
        "\t\tfor destNode in nodeList:\n",
        "\t\t\t#to add the immediate down node eg : add 7 (1,0) to 3 (0,0) , add 2 (2,0) to 7 (1,0)\n",
        "\t\t\tif srcNode.getPosition()[0]==destNode.getPosition()[0]-1 and srcNode.getPosition()[1]==destNode.getPosition()[1]-1:\n",
        "\t\t\t\ty.addEdge(edge(srcNode,destNode))\n",
        "\t\t\t#to add the bottom right node eg :add 4 (1,1) to 3 (0,0) \n",
        "\t\t\tif srcNode.getPosition()[0]==destNode.getPosition()[0]-1 and srcNode.getPosition()[1]==destNode.getPosition()[1]:\n",
        "\t\t\t\ty.addEdge(edge(srcNode,destNode))\n",
        "\t\n",
        "\treturn y"
      ],
      "execution_count": 14,
      "outputs": []
    },
    {
      "metadata": {
        "id": "CokmHTbjdh4a",
        "colab_type": "text"
      },
      "cell_type": "markdown",
      "source": [
        "printing the path"
      ]
    },
    {
      "metadata": {
        "id": "CLssxOTtdj4C",
        "colab_type": "code",
        "colab": {
          "base_uri": "https://localhost:8080/",
          "height": 17
        },
        "outputId": "82720c14-df51-4903-f07e-a92fa53ee2d7"
      },
      "cell_type": "code",
      "source": [
        "def printPath(path):\n",
        "    ''' path is a list of node objects'''\n",
        "    result=''\n",
        "    for i in range(len(path)):\n",
        "        result = result +'-->'+str(path[i])\n",
        "    return result"
      ],
      "execution_count": 15,
      "outputs": []
    },
    {
      "metadata": {
        "id": "yJ9gQHXOwSMo",
        "colab_type": "code",
        "colab": {
          "base_uri": "https://localhost:8080/",
          "height": 34
        },
        "outputId": "2f0177ad-5395-46b0-bcfe-ceb316424e94"
      },
      "cell_type": "code",
      "source": [
        "printPath([1])"
      ],
      "execution_count": 16,
      "outputs": [
        {
          "output_type": "execute_result",
          "data": {
            "text/plain": [
              "'-->1'"
            ]
          },
          "metadata": {
            "tags": []
          },
          "execution_count": 16
        }
      ]
    },
    {
      "metadata": {
        "id": "uCdn0GGbdpgY",
        "colab_type": "text"
      },
      "cell_type": "markdown",
      "source": [
        "breath first algo"
      ]
    },
    {
      "metadata": {
        "id": "yZiG7Kmkdr2n",
        "colab_type": "code",
        "colab": {
          "base_uri": "https://localhost:8080/",
          "height": 17
        },
        "outputId": "562cdc05-f7de-4e4a-f0ff-c77fb689dbd0"
      },
      "cell_type": "code",
      "source": [
        "def breathfirstalgo(graph,tempPaths,finalPath):\n",
        "\t#temp=tempPaths\n",
        "\ttempL=[]\n",
        "\tprint('temppath len ',len(tempPaths),'comPath len',len(finalPath))\n",
        "\tprint('last path added in tempPaths ',printPath(tempPaths[-1]))\n",
        "\tprint('last path added in finalPath ',printPath(finalPath[-1]))\n",
        "\t## iterates over all the lists inside the tempPaths and checks if there are child nodes to its last node.\n",
        "\tcondList=[graph.getChildrenof(apartList[-1]) for apartList in tempPaths if graph.getChildrenof(apartList[-1])]\n",
        "\tprint('the conditional list ',condList)\n",
        "  \n",
        "\tif condList:\n",
        "\t\tfor partialList in tempPaths:\n",
        "\t\t\tprint('The partial path ',printPath(partialList))\n",
        "      #get the children of the latest element of partialList\n",
        "\t\t\tallchild=graph.getChildrenof(partialList[-1])\n",
        "\t\t\t\n",
        "\t\t\tif allchild:\n",
        "\t\t\t\tnoOfChild=len(allchild)\n",
        "\t\t\t\tnewlist=[allchild[:] for _ in range(noOfChild)]\n",
        "\t\t\t\t#newlista,newlistb=list(partialList),list(partialList)\n",
        "\t\t\t\t#childList=graph.getChildrenof(newlista[-1])\n",
        "\t\t\t\tprint('First child of ',partialList[-1],' is: ',allchild[0],'Second child is: ',allchild[1])\t\t\t\t\n",
        "\t\t\t\tfor i in range(noOfChild):\n",
        "\t\t\t\t\tnewlist[i].append(allchild[i])\n",
        "\t\t\t\t\n",
        "\t\t\t\tfor tempPath in newlist:\n",
        "\t\t\t\t\ttempL.append(tempPath)\n",
        "\t\t\t\tprint('modified temp path ',tempL)\n",
        "\t\t\telse:\n",
        "\t\t\t\tfinalPath.append(partialList)\n",
        "\t\treturn breathfirstalgo(graph,tempL,finalPath)\n",
        "\telse:\n",
        "\t\treturn finalPath\n",
        "\t\t"
      ],
      "execution_count": 17,
      "outputs": []
    },
    {
      "metadata": {
        "id": "W8V7ys1hdxDs",
        "colab_type": "text"
      },
      "cell_type": "markdown",
      "source": [
        "testing the graph"
      ]
    },
    {
      "metadata": {
        "id": "jdo8MRCed_sO",
        "colab_type": "code",
        "colab": {
          "base_uri": "https://localhost:8080/",
          "height": 17
        },
        "outputId": "d7f17c5a-e6aa-4883-9669-96361244afcf"
      },
      "cell_type": "code",
      "source": [
        "myString='''1\n",
        "2 3\n",
        "4 5 6\n",
        "7 8 9 10\n",
        "11 12 13 14 15'''"
      ],
      "execution_count": 18,
      "outputs": []
    },
    {
      "metadata": {
        "id": "-AQGfg7ydybT",
        "colab_type": "code",
        "colab": {
          "base_uri": "https://localhost:8080/",
          "height": 418
        },
        "outputId": "c1b61ba4-48d3-465a-d0c9-bff943ab997a"
      },
      "cell_type": "code",
      "source": [
        "mygraph=createmygraph(myString)\n",
        "print('The graph object is ',mygraph)\n",
        "print('The root node is ',mygraph.rootNode())\n",
        "#print(mygraph)\n",
        "all_list=breathfirstalgo(mygraph,tempPaths=[[mygraph.rootNode()]],finalPath=[])\n",
        "\n",
        "print('alllist is ')\n"
      ],
      "execution_count": 20,
      "outputs": [
        {
          "output_type": "stream",
          "text": [
            "The graph object is  <__main__.Diagraph object at 0x7fcf25597e80>\n",
            "The root node is  P:(0, 0) V:1\n",
            "temppath len  1 comPath len 0\n",
            "last path added in tempPaths  -->P:(0, 0) V:1\n"
          ],
          "name": "stdout"
        },
        {
          "output_type": "error",
          "ename": "IndexError",
          "evalue": "ignored",
          "traceback": [
            "\u001b[0;31m---------------------------------------------------------------------------\u001b[0m",
            "\u001b[0;31mIndexError\u001b[0m                                Traceback (most recent call last)",
            "\u001b[0;32m<ipython-input-20-1e23d7f35ca2>\u001b[0m in \u001b[0;36m<module>\u001b[0;34m()\u001b[0m\n\u001b[1;32m      3\u001b[0m \u001b[0mprint\u001b[0m\u001b[0;34m(\u001b[0m\u001b[0;34m'The root node is '\u001b[0m\u001b[0;34m,\u001b[0m\u001b[0mmygraph\u001b[0m\u001b[0;34m.\u001b[0m\u001b[0mrootNode\u001b[0m\u001b[0;34m(\u001b[0m\u001b[0;34m)\u001b[0m\u001b[0;34m)\u001b[0m\u001b[0;34m\u001b[0m\u001b[0m\n\u001b[1;32m      4\u001b[0m \u001b[0;31m#print(mygraph)\u001b[0m\u001b[0;34m\u001b[0m\u001b[0;34m\u001b[0m\u001b[0m\n\u001b[0;32m----> 5\u001b[0;31m \u001b[0mall_list\u001b[0m\u001b[0;34m=\u001b[0m\u001b[0mbreathfirstalgo\u001b[0m\u001b[0;34m(\u001b[0m\u001b[0mmygraph\u001b[0m\u001b[0;34m,\u001b[0m\u001b[0mtempPaths\u001b[0m\u001b[0;34m=\u001b[0m\u001b[0;34m[\u001b[0m\u001b[0;34m[\u001b[0m\u001b[0mmygraph\u001b[0m\u001b[0;34m.\u001b[0m\u001b[0mrootNode\u001b[0m\u001b[0;34m(\u001b[0m\u001b[0;34m)\u001b[0m\u001b[0;34m]\u001b[0m\u001b[0;34m]\u001b[0m\u001b[0;34m,\u001b[0m\u001b[0mfinalPath\u001b[0m\u001b[0;34m=\u001b[0m\u001b[0;34m[\u001b[0m\u001b[0;34m]\u001b[0m\u001b[0;34m)\u001b[0m\u001b[0;34m\u001b[0m\u001b[0m\n\u001b[0m\u001b[1;32m      6\u001b[0m \u001b[0;34m\u001b[0m\u001b[0m\n\u001b[1;32m      7\u001b[0m \u001b[0mprint\u001b[0m\u001b[0;34m(\u001b[0m\u001b[0;34m'alllist is '\u001b[0m\u001b[0;34m)\u001b[0m\u001b[0;34m\u001b[0m\u001b[0m\n",
            "\u001b[0;32m<ipython-input-17-6aa8c7fe9c08>\u001b[0m in \u001b[0;36mbreathfirstalgo\u001b[0;34m(graph, tempPaths, finalPath)\u001b[0m\n\u001b[1;32m      4\u001b[0m         \u001b[0mprint\u001b[0m\u001b[0;34m(\u001b[0m\u001b[0;34m'temppath len '\u001b[0m\u001b[0;34m,\u001b[0m\u001b[0mlen\u001b[0m\u001b[0;34m(\u001b[0m\u001b[0mtempPaths\u001b[0m\u001b[0;34m)\u001b[0m\u001b[0;34m,\u001b[0m\u001b[0;34m'comPath len'\u001b[0m\u001b[0;34m,\u001b[0m\u001b[0mlen\u001b[0m\u001b[0;34m(\u001b[0m\u001b[0mfinalPath\u001b[0m\u001b[0;34m)\u001b[0m\u001b[0;34m)\u001b[0m\u001b[0;34m\u001b[0m\u001b[0m\n\u001b[1;32m      5\u001b[0m         \u001b[0mprint\u001b[0m\u001b[0;34m(\u001b[0m\u001b[0;34m'last path added in tempPaths '\u001b[0m\u001b[0;34m,\u001b[0m\u001b[0mprintPath\u001b[0m\u001b[0;34m(\u001b[0m\u001b[0mtempPaths\u001b[0m\u001b[0;34m[\u001b[0m\u001b[0;34m-\u001b[0m\u001b[0;36m1\u001b[0m\u001b[0;34m]\u001b[0m\u001b[0;34m)\u001b[0m\u001b[0;34m)\u001b[0m\u001b[0;34m\u001b[0m\u001b[0m\n\u001b[0;32m----> 6\u001b[0;31m         \u001b[0mprint\u001b[0m\u001b[0;34m(\u001b[0m\u001b[0;34m'last path added in finalPath '\u001b[0m\u001b[0;34m,\u001b[0m\u001b[0mprintPath\u001b[0m\u001b[0;34m(\u001b[0m\u001b[0mfinalPath\u001b[0m\u001b[0;34m[\u001b[0m\u001b[0;34m-\u001b[0m\u001b[0;36m1\u001b[0m\u001b[0;34m]\u001b[0m\u001b[0;34m)\u001b[0m\u001b[0;34m)\u001b[0m\u001b[0;34m\u001b[0m\u001b[0m\n\u001b[0m\u001b[1;32m      7\u001b[0m         \u001b[0;31m## iterates over all the lists inside the tempPaths and checks if there are child nodes to its last node.\u001b[0m\u001b[0;34m\u001b[0m\u001b[0;34m\u001b[0m\u001b[0m\n\u001b[1;32m      8\u001b[0m         \u001b[0mcondList\u001b[0m\u001b[0;34m=\u001b[0m\u001b[0;34m[\u001b[0m\u001b[0mgraph\u001b[0m\u001b[0;34m.\u001b[0m\u001b[0mgetChildrenof\u001b[0m\u001b[0;34m(\u001b[0m\u001b[0mapartList\u001b[0m\u001b[0;34m[\u001b[0m\u001b[0;34m-\u001b[0m\u001b[0;36m1\u001b[0m\u001b[0;34m]\u001b[0m\u001b[0;34m)\u001b[0m \u001b[0;32mfor\u001b[0m \u001b[0mapartList\u001b[0m \u001b[0;32min\u001b[0m \u001b[0mtempPaths\u001b[0m \u001b[0;32mif\u001b[0m \u001b[0mgraph\u001b[0m\u001b[0;34m.\u001b[0m\u001b[0mgetChildrenof\u001b[0m\u001b[0;34m(\u001b[0m\u001b[0mapartList\u001b[0m\u001b[0;34m[\u001b[0m\u001b[0;34m-\u001b[0m\u001b[0;36m1\u001b[0m\u001b[0;34m]\u001b[0m\u001b[0;34m)\u001b[0m\u001b[0;34m]\u001b[0m\u001b[0;34m\u001b[0m\u001b[0m\n",
            "\u001b[0;31mIndexError\u001b[0m: list index out of range"
          ]
        }
      ]
    },
    {
      "metadata": {
        "id": "VhDZ_Xnsr1n1",
        "colab_type": "code",
        "colab": {
          "base_uri": "https://localhost:8080/",
          "height": 34
        },
        "outputId": "20439719-bdfd-4f02-c633-78ff5f571e19"
      },
      "cell_type": "code",
      "source": [
        "type(all_list)"
      ],
      "execution_count": 11,
      "outputs": [
        {
          "output_type": "execute_result",
          "data": {
            "text/plain": [
              "NoneType"
            ]
          },
          "metadata": {
            "tags": []
          },
          "execution_count": 11
        }
      ]
    }
  ]
}