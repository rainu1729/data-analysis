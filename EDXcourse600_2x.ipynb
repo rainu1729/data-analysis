{
  "nbformat": 4,
  "nbformat_minor": 0,
  "metadata": {
    "colab": {
      "name": "EDXcourse600.2x.ipynb",
      "version": "0.3.2",
      "provenance": [],
      "include_colab_link": true
    },
    "kernelspec": {
      "name": "python3",
      "display_name": "Python 3"
    }
  },
  "cells": [
    {
      "cell_type": "markdown",
      "metadata": {
        "id": "view-in-github",
        "colab_type": "text"
      },
      "source": [
        "[View in Colaboratory](https://colab.research.google.com/github/rainu1729/data-analysis/blob/master/EDXcourse600_2x.ipynb)"
      ]
    },
    {
      "metadata": {
        "id": "A7PEa75Meqyl",
        "colab_type": "text"
      },
      "cell_type": "markdown",
      "source": [
        "###edx course 600.2x\n",
        "\n",
        "**Computational models**\n",
        "----\n",
        "\n",
        "Optimization models\n",
        "\n",
        "Statistical models\n",
        "\n",
        "Simulation models"
      ]
    },
    {
      "metadata": {
        "id": "EYLuwzvi7C7a",
        "colab_type": "text"
      },
      "cell_type": "markdown",
      "source": [
        "**Optimization models**\n",
        "\n",
        "Trying to answer the questions like finding the biggest,the smallest,\n",
        "the most , the fewest , the fastest, the least expensive , there is a good change that we can map that problem onto a classic optimization problem for which there is a known computational solution.\n",
        "\n",
        "Class Optimization problem,\n",
        "\n",
        "has got two parts\n",
        "\n",
        "1. Objective function that has be maximized or minimized\n",
        "    \n",
        " 2. Set of constraints that need to be satisfied.\n",
        " \n",
        " \n",
        " \n",
        " Many problems of real importance can be formulated as an optimization problem\n",
        " \n",
        " Reducing a seemingly new problem to an instance of a well-known problem allows one to use pre-existing methods for solving them.\n",
        " \n",
        " Solving optimization problems is computationally challenging(long running ones)\n",
        " \n",
        " A greedy algo is often a practical approach to finding a pretty good approximate solution to an optimization problem."
      ]
    },
    {
      "metadata": {
        "id": "v3CDkBSn93M-",
        "colab_type": "text"
      },
      "cell_type": "markdown",
      "source": [
        "####**0/1 Knapsack problem**"
      ]
    },
    {
      "metadata": {
        "id": "zfveZkcqeuWw",
        "colab_type": "code",
        "colab": {}
      },
      "cell_type": "code",
      "source": [
        "class food(object):\n",
        "    '''the food class it contains the name of the food followed by  its value and the calories\n",
        "    there is init function, getters and rewritten __str__ fun'''\n",
        "    def __init__(self,name,value,cost):\n",
        "        self.name=name\n",
        "        self.value=value\n",
        "        self.calories=cost\n",
        "    \n",
        "    def getname(self):\n",
        "        return self.name\n",
        "    \n",
        "    def getvalue(self):\n",
        "        return self.value\n",
        "\n",
        "    def getcalories(self):\n",
        "        return self.calories\n",
        "\n",
        "    def getcalpervalue(self):\n",
        "        return self.calories/self.value\n",
        "\n",
        "    def __str__(self):\n",
        "        return self.name+' <'+str(self.value)+','+str(self.calories)+'>'"
      ],
      "execution_count": 0,
      "outputs": []
    },
    {
      "metadata": {
        "id": "nYPSC8K3exUw",
        "colab_type": "text"
      },
      "cell_type": "markdown",
      "source": [
        "build the menu using the food"
      ]
    },
    {
      "metadata": {
        "id": "r8I1zLHieytH",
        "colab_type": "code",
        "colab": {}
      },
      "cell_type": "code",
      "source": [
        "def themenu(name,value,calorie):\n",
        "    \"\"\"the menu is build using the food class and returns a list\n",
        "    the name,value and calorie are list of same length\n",
        "    \"\"\"\n",
        "    menu =[]\n",
        "    for i in range(len(name)):\n",
        "        menu.append(food(name[i],value[i],calorie[i]))\n",
        "    return menu"
      ],
      "execution_count": 0,
      "outputs": []
    },
    {
      "metadata": {
        "id": "HfE1pE2Je1hE",
        "colab_type": "text"
      },
      "cell_type": "markdown",
      "source": [
        "the greedy algo in form of a function"
      ]
    },
    {
      "metadata": {
        "id": "lThpX-Zre2jh",
        "colab_type": "code",
        "colab": {}
      },
      "cell_type": "code",
      "source": [
        "def greedy(items,maxcost,keyfunction):\n",
        "    \"\"\"items is a list of menu, maxcost is a positive number\n",
        "    based on the keyfunction a new list of items is created\"\"\"\n",
        "    itemscopy =  sorted(items,key=keyfunction,reverse=True)\n",
        "    result = []\n",
        "    totalvalue,totalcal= 0.0,0.0\n",
        "    for i in range(len(itemscopy)):\n",
        "        if(totalcal+itemscopy[i].getcalories()<=maxcost):\n",
        "            result.append(itemscopy[i])\n",
        "            totalcal+=itemscopy[i].getcalories()\n",
        "            totalvalue+=itemscopy[i].getvalue()\n",
        "    \n",
        "    return (result,totalvalue,totalcal)"
      ],
      "execution_count": 0,
      "outputs": []
    },
    {
      "metadata": {
        "id": "UmAvIeXge5S1",
        "colab_type": "text"
      },
      "cell_type": "markdown",
      "source": [
        "** test the greedy function**"
      ]
    },
    {
      "metadata": {
        "id": "V45Ct2HkfESI",
        "colab_type": "code",
        "colab": {}
      },
      "cell_type": "code",
      "source": [
        "def testGreedy(items,constraint,keyFunction):\n",
        "    \"\"\"test function inputs are \n",
        "    items i.e the menu in form of a python list\n",
        "    constraint as the max calorie value \n",
        "    the sorting keyfunction i.e any of the item parameter like calories,value,calories per value\n",
        "    \"\"\"\n",
        "    taken,val,cal = greedy(items,constraint,keyFunction)\n",
        "    print('total value of items taken ',val,' total cal ',cal)\n",
        "    for item in taken:\n",
        "        print(' ',item)\n",
        "\n",
        "def testGreedys(foods,maxUnit):\n",
        "    \"\"\"RUN THE testGreedy function with diff keyfunctions and a fixed constraint\n",
        "    the input is the foods a list containing object of type food.\n",
        "    max calorie value which should not be exceed\n",
        "    \"\"\"\n",
        "    print('use greedy by value to allocate ',maxUnit,' calories')\n",
        "    testGreedy(foods,maxUnit,lambda x:food.getvalue(x))\n",
        "    print('--------------------------------------------------------')\n",
        "    print('use greedy by cost(calorie) to allocate ',maxUnit,' calories')\n",
        "    testGreedy(foods,maxUnit,lambda x:1/food.getcalories(x))\n",
        "    print('------------------------------------------------------')\n",
        "    print('use greedy by density to allcocate ',maxUnit,' calories')\n",
        "    testGreedy(foods,maxUnit,lambda x:food.getcalpervalue(x))"
      ],
      "execution_count": 0,
      "outputs": []
    },
    {
      "metadata": {
        "id": "oKzVF0NdfcRR",
        "colab_type": "text"
      },
      "cell_type": "markdown",
      "source": [
        "Sample data"
      ]
    },
    {
      "metadata": {
        "id": "RSRzZ5AJfeNN",
        "colab_type": "code",
        "colab": {}
      },
      "cell_type": "code",
      "source": [
        "name = ['wine','beer','pizza','burger','fries','coke','apple','donut']\n",
        "value = [89,90,30,50,90,79,90,10]\n",
        "calories = [123,154,258,354,365,150,95,195]\n",
        "\n",
        "myfood=themenu(name,value,calories)"
      ],
      "execution_count": 0,
      "outputs": []
    },
    {
      "metadata": {
        "id": "2fXJu-g7fhUH",
        "colab_type": "text"
      },
      "cell_type": "markdown",
      "source": [
        " implementing the brute force method to find the best fit"
      ]
    },
    {
      "metadata": {
        "id": "RSize0GFfk26",
        "colab_type": "code",
        "colab": {}
      },
      "cell_type": "code",
      "source": [
        "def maxVal(toConsider,avail):\n",
        "    '''\n",
        "    returns a tuple with items to take and its value\n",
        "    inputs:\n",
        "    toConsider : a list of available items\n",
        "    avail      : available space\n",
        "    '''\n",
        "    if toConsider ==[] or avail ==0:\n",
        "        ## returns a tuple with 0- value and empty items with the items toConsider is None or available space is zero.\n",
        "        result =(0,0,())\n",
        "    elif toConsider[0].getcalories() > avail:\n",
        "        ## call the same maxVal function without current item if the current items calories is greater than available space.\n",
        "        result = maxVal(toConsider[1:],avail)\n",
        "    else:\n",
        "        ## if the current item calories is below the available limit\n",
        "        nextItem=toConsider[0]\n",
        "        ## call the maxVal excluding the current item and reducing the available space\n",
        "        withVal,withCal,withtoTake = maxVal(toConsider[1:],avail-nextItem.getcalories())\n",
        "        withVal +=nextItem.getvalue()\n",
        "        withCal +=nextItem.getcalories()\n",
        "        ## considering the possiblity of exluding the current item and having the same available space\n",
        "        withoutVal,withoutCal,withoutToTake=maxVal(toConsider[1:],avail)\n",
        "        ## compare which is better in terms of maximizing the value with or without the current item.\n",
        "        if withVal> withoutVal:\n",
        "            result =(withVal,withCal,withtoTake+(nextItem,))\n",
        "        else:\n",
        "            result =(withoutVal,withoutCal,withoutToTake)\n",
        "    return result"
      ],
      "execution_count": 0,
      "outputs": []
    },
    {
      "metadata": {
        "id": "YimHmnMufru9",
        "colab_type": "text"
      },
      "cell_type": "markdown",
      "source": [
        " CREATING A RANDOM LIST OF FOOD , ITS VALUE AND CALORIE so that  MENU can be created \n"
      ]
    },
    {
      "metadata": {
        "id": "jvtWBnY2fu2W",
        "colab_type": "code",
        "colab": {}
      },
      "cell_type": "code",
      "source": [
        "def crListMenu(itemcount):\n",
        "    '''\n",
        "    returns a list with itemcount no of items as menu\n",
        "    '''\n",
        "    import itertools as it\n",
        "    from random import randint\n",
        "    string='Abcdefghijklmnopqsrstuvwxyz'\n",
        "    comps=it.permutations(string, 4)\n",
        "    food=[]\n",
        "    value=[]\n",
        "    calories=[]\n",
        "    for i in range(itemcount):\n",
        "        food.append(''.join(next(comps)))\n",
        "        value.append(randint(5,89))\n",
        "        calories.append(randint(91,208))\n",
        "    myfood=themenu(food,value,calories)\n",
        "    return myfood"
      ],
      "execution_count": 0,
      "outputs": []
    },
    {
      "metadata": {
        "id": "L9AEFVWF-T52",
        "colab_type": "text"
      },
      "cell_type": "markdown",
      "source": [
        "**Memoization **\n",
        "\n",
        "very useful for recursive problems\n",
        "\n",
        "example is fibonacci sequences -- store fib(x) is a dictonary to be used.\n",
        "\n",
        "**Dynamic Programming**\n",
        "\n",
        "--Richard Bellman\n",
        "\n",
        "trading time(program execution) for space(memory)\n",
        "\n",
        "When is dynamic programming sutible\n",
        "\n",
        "Optimal substructure-- a global optimal solution can be found by combining optimal solutions to local subproblems.\n",
        "eg: fib(x) = fib(x-1) +fib(x-2)\n",
        "\n",
        "Overlapping subproblems : finding an optimal solution inovles sovling the same problem multiple times."
      ]
    },
    {
      "metadata": {
        "id": "YFeNz1mK_REE",
        "colab_type": "text"
      },
      "cell_type": "markdown",
      "source": [
        ""
      ]
    },
    {
      "metadata": {
        "id": "ZgKjg_szfxvw",
        "colab_type": "text"
      },
      "cell_type": "markdown",
      "source": [
        "using the dyamic programming create a fast version of maxVal"
      ]
    },
    {
      "metadata": {
        "id": "FlTaTUL5fzxg",
        "colab_type": "code",
        "colab": {}
      },
      "cell_type": "code",
      "source": [
        "def fastMaxVal(toConsider,avail,memo={}):\n",
        "    '''\n",
        "    toConsider : list of items from menu\n",
        "    avail      : available space in menu\n",
        "    mem        : is a dictonary storing key values\n",
        "    '''\n",
        "    if (len(toConsider),avail) in memo:\n",
        "        result = memo[(len(toConsider),avail)]\n",
        "    elif toConsider == [] or avail ==0:\n",
        "        result =(0,0,())\n",
        "    elif toConsider[0].getcalories() > avail:\n",
        "        result = fastMaxVal(toConsider[1:],avail,memo)\n",
        "    else:\n",
        "        ## if the current item calories is below the available limit\n",
        "        nextItem=toConsider[0]\n",
        "        ## call the maxVal excluding the current item and reducing the available space\n",
        "        withVal,withCal,withtoTake = fastMaxVal(toConsider[1:],avail-nextItem.getcalories(),memo)\n",
        "        withVal +=nextItem.getvalue()\n",
        "        withCal +=nextItem.getcalories()\n",
        "        ## considering the possiblity of exluding the current item and having the same available space\n",
        "        withoutVal,withoutCal,withoutToTake=fastMaxVal(toConsider[1:],avail,memo)\n",
        "        ## compare which is better in terms of maximizing the value with or without the current item.\n",
        "        if withVal> withoutVal:\n",
        "            result =(withVal,withCal,withtoTake+(nextItem,))\n",
        "        else:\n",
        "            result =(withoutVal,withoutCal,withoutToTake)\n",
        "    memo[(len(toConsider),avail)] = result \n",
        "    return result"
      ],
      "execution_count": 0,
      "outputs": []
    },
    {
      "metadata": {
        "id": "P5k-sXCXgDJd",
        "colab_type": "text"
      },
      "cell_type": "markdown",
      "source": [
        "## test max val"
      ]
    },
    {
      "metadata": {
        "id": "FWShqPNGgEsD",
        "colab_type": "code",
        "colab": {}
      },
      "cell_type": "code",
      "source": [
        "def testMaxVal(foods,maxUnits,algo,printItems= True):\n",
        "    print('Using search tree to alloacate ',maxUnits,' calories')\n",
        "    val,cal,taken=algo(foods,maxUnits)\n",
        "    print('total value of items taken ',val,' total cal ',cal)\n",
        "    if printItems:\n",
        "        for item in taken:\n",
        "            print(' ',item)"
      ],
      "execution_count": 0,
      "outputs": []
    },
    {
      "metadata": {
        "id": "T4FcTytegKy5",
        "colab_type": "text"
      },
      "cell_type": "markdown",
      "source": [
        "### creating menu with n items and testing the algos"
      ]
    },
    {
      "metadata": {
        "id": "Yak12nyggSQh",
        "colab_type": "code",
        "colab": {
          "base_uri": "https://localhost:8080/",
          "height": 442
        },
        "outputId": "caee4409-1961-473f-bbea-40bd26d47c0c"
      },
      "cell_type": "code",
      "source": [
        "for numitems in (2,4,8,32,64,128,256,512,1024):\n",
        "    items = crListMenu(numitems)\n",
        "    testMaxVal(items,750,fastMaxVal)"
      ],
      "execution_count": 0,
      "outputs": [
        {
          "output_type": "stream",
          "text": [
            "Using serach tree to alloacate  750  calories\n",
            "total value of items taken  80  total cal  237\n",
            "  Abce <44,111>\n",
            "  Abcd <36,126>\n",
            "Using serach tree to alloacate  750  calories\n",
            "total value of items taken  174  total cal  568\n",
            "  Abcg <65,164>\n",
            "  Abcf <22,201>\n",
            "  Abce <63,97>\n",
            "  Abcd <24,106>\n",
            "Using serach tree to alloacate  750  calories\n",
            "total value of items taken  374  total cal  725\n",
            "  Abcj <67,138>\n",
            "  Abci <64,179>\n",
            "  Abch <87,114>\n",
            "  Abcg <83,110>\n",
            "  Abcf <73,184>\n",
            "Using serach tree to alloacate  750  calories\n",
            "total value of items taken  502  total cal  745\n",
            "  Abdh <88,115>\n",
            "  Abcv <80,99>\n",
            "  Abcr <82,143>\n",
            "  Abcj <86,156>\n",
            "  Abch <81,139>\n",
            "  Abcg <85,93>\n"
          ],
          "name": "stdout"
        }
      ]
    },
    {
      "metadata": {
        "id": "9_-uYKIEgWN5",
        "colab_type": "text"
      },
      "cell_type": "markdown",
      "source": [
        "# Graph class"
      ]
    },
    {
      "metadata": {
        "id": "u3Cp1AHGgZb2",
        "colab_type": "text"
      },
      "cell_type": "markdown",
      "source": [
        "####Node class"
      ]
    },
    {
      "metadata": {
        "id": "baobNLHsgcbV",
        "colab_type": "code",
        "colab": {}
      },
      "cell_type": "code",
      "source": [
        "class Node(object):\n",
        "    ''' Node class with single attribute name'''\n",
        "    def __init__(self,name):\n",
        "        self.name=name\n",
        "    \n",
        "    def getName(self):\n",
        "        return self.name\n",
        "\n",
        "    def __str__(self):\n",
        "        return self.name"
      ],
      "execution_count": 0,
      "outputs": []
    },
    {
      "metadata": {
        "id": "gT_PlBaXhRo5",
        "colab_type": "text"
      },
      "cell_type": "markdown",
      "source": [
        "####Edge class"
      ]
    },
    {
      "metadata": {
        "id": "u-_5pa9uhXWR",
        "colab_type": "code",
        "colab": {}
      },
      "cell_type": "code",
      "source": [
        "class Edge(object):\n",
        "    ''' edge connects two nodes src and dest are objects of class Node'''\n",
        "    def __init__(self,src,dest):\n",
        "        self.src=src\n",
        "        self.dest=dest\n",
        "    \n",
        "    def getSource(self):\n",
        "        return self.src\n",
        "\n",
        "    def getDestination(self):\n",
        "        return self.dest\n",
        "    \n",
        "    def __str__(self):\n",
        "        return self.src.getName() + '->'+ self.dest.getName()"
      ],
      "execution_count": 0,
      "outputs": []
    },
    {
      "metadata": {
        "id": "4c2EWlx_hbYN",
        "colab_type": "text"
      },
      "cell_type": "markdown",
      "source": [
        "####Directed Graph"
      ]
    },
    {
      "metadata": {
        "id": "KNsw3ZBghgeu",
        "colab_type": "code",
        "colab": {}
      },
      "cell_type": "code",
      "source": [
        "class Diagraph(object):\n",
        "    '''Class directed graph edges is dictonary mapping each node to a list of its children'''\n",
        "\n",
        "    def __init__(self):\n",
        "        self.edges={}\n",
        "\n",
        "    def addNode(self,node):\n",
        "        # if given node is presnt in the dict edges raise a Duplicate error\n",
        "        if node in self.edges:\n",
        "            raise ValueError('Duplicate error')\n",
        "        # if not present , add the node as key in edges dict with an empty list value.\n",
        "        else:\n",
        "            self.edges[node]=[]\n",
        "    \n",
        "    def addEdge(self,edge):\n",
        "        src = edge.getSource()\n",
        "        dest= edge.getDestination()\n",
        "        # if src node or dest node not present in the edges dict then raise node not in graph\n",
        "        if not (src in self.edges and dest in self.edges):\n",
        "            raise ValueError('Node not in graph')\n",
        "        #else in the edges dict add a key src with and append dest to the list of value\n",
        "        self.edges[src].append(dest)\n",
        "\n",
        "    # checks and returns the value i.e a list of childs against a given node \n",
        "    def childrenOf(self,node):\n",
        "        return self.edges[node]\n",
        "    \n",
        "    # checks and returns the node if present in the dict of all the edges\n",
        "    def hasNode(self,node):\n",
        "        return node in self.edges\n",
        "           \n",
        "    #returns the name of the node if present in the dict edges\n",
        "    def getNode(self,name):\n",
        "        for n in self.edges:\n",
        "            if n.getName()== name:\n",
        "                return n\n",
        "        raise NameError(name)\n",
        "    \n",
        "    \n",
        "    # overwriting the __str__ method to print all the edges in graph as src -> dest\n",
        "    def __str__(self):\n",
        "        result = ''\n",
        "        for src in self.edges:\n",
        "            for dest in self.edges[src]:\n",
        "                result = result + src.getName() + '->' +dest.getName ()+'\\n'\n",
        "        return result[:-1]"
      ],
      "execution_count": 0,
      "outputs": []
    },
    {
      "metadata": {
        "id": "02os3zKFhjjx",
        "colab_type": "text"
      },
      "cell_type": "markdown",
      "source": [
        "####bidirectional graph class inherits from graph class"
      ]
    },
    {
      "metadata": {
        "id": "7PhM80RPhsFe",
        "colab_type": "code",
        "colab": {}
      },
      "cell_type": "code",
      "source": [
        "class Graph(Diagraph):\n",
        "    # over writing the addEdge method of Diagraph class, i.e adds edges in both direction\n",
        "    def addEdge(self,edge):\n",
        "        Diagraph.addEdge(self,edge)\n",
        "        rev = Edge(edge.getDestination(),edge.getSource())\n",
        "        Diagraph.addEdge(self,rev)"
      ],
      "execution_count": 0,
      "outputs": []
    },
    {
      "metadata": {
        "id": "A6DAO1l9h0X6",
        "colab_type": "text"
      },
      "cell_type": "markdown",
      "source": [
        "####Depth First Search"
      ]
    },
    {
      "metadata": {
        "id": "LtG1l5lHh7BY",
        "colab_type": "code",
        "colab": {}
      },
      "cell_type": "code",
      "source": [
        "def printPath(path):\n",
        "    ''' path is a list'''\n",
        "    result=''\n",
        "    for i in range(len(path)):\n",
        "        result = result +'->'+str(path[i])\n",
        "    return result\n",
        "\n",
        "def DFS(graph,start,end,path,shortest,toPrint=True):\n",
        "    # add the start node to the path list\n",
        "    path= path+[start]\n",
        "    \n",
        "    if toPrint:\n",
        "        print('current DFS path:',printPath(path))\n",
        "    # check if start node and end node are same \n",
        "    if start ==end:\n",
        "        return path\n",
        "    # iterate through all the nodes which are child of the given start point\n",
        "    for node in graph.childrenOf(start):\n",
        "        # check if the child node is present in the existing path\n",
        "        if node not in path:\n",
        "            if shortest == None or len(path) < len(shortest):\n",
        "                newPath = DFS(graph,node,end,path,shortest,toPrint)\n",
        "\n",
        "                if newPath!=None:\n",
        "                    shortest = newPath\n",
        "        elif toPrint:\n",
        "            print('already visited node ',node)\n",
        "    \n",
        "    return shortest"
      ],
      "execution_count": 0,
      "outputs": []
    },
    {
      "metadata": {
        "id": "-0b0BJ4uiF6X",
        "colab_type": "text"
      },
      "cell_type": "markdown",
      "source": [
        "####Build a graph"
      ]
    },
    {
      "metadata": {
        "id": "yuQbBXaJiH6e",
        "colab_type": "code",
        "colab": {}
      },
      "cell_type": "code",
      "source": [
        "def buildCityGraph(typeOfGraph):\n",
        "    nodes = []\n",
        "    nodes.append(Node(\"ABC\")) # nodes[0]\n",
        "    nodes.append(Node(\"ACB\")) # nodes[1]\n",
        "    nodes.append(Node(\"BAC\")) # nodes[2]\n",
        "    nodes.append(Node(\"BCA\")) # nodes[3]\n",
        "    nodes.append(Node(\"CAB\")) # nodes[4]\n",
        "    nodes.append(Node(\"CBA\")) # nodes[5]\n",
        "\n",
        "    gObject = typeOfGraph()\n",
        "    for n in nodes:\n",
        "        gObject.addNode(n)\n",
        "\n",
        "    gObject.addEdge(Edge(nodes[0],nodes[1]))\n",
        "    gObject.addEdge(Edge(nodes[0],nodes[2]))\n",
        "    gObject.addEdge(Edge(nodes[1],nodes[4]))\n",
        "    gObject.addEdge(Edge(nodes[2],nodes[3]))\n",
        "    gObject.addEdge(Edge(nodes[3],nodes[5]))\n",
        "    gObject.addEdge(Edge(nodes[4],nodes[5]))\n",
        "    return gObject"
      ],
      "execution_count": 0,
      "outputs": []
    },
    {
      "metadata": {
        "id": "MM1YkWLRiLnO",
        "colab_type": "text"
      },
      "cell_type": "markdown",
      "source": [
        "####Extract the shortest path"
      ]
    },
    {
      "metadata": {
        "id": "vyZZAsiHiP8a",
        "colab_type": "code",
        "colab": {}
      },
      "cell_type": "code",
      "source": [
        "def shortestPath(graph,start,end):\n",
        "    # wrapper function requires input as graph,start and end points\n",
        "    return DFS(graph,start,end,[],None)\n",
        "\n",
        "def testSP(source,destination):\n",
        "    # test function requires only the source and destination\n",
        "    typeOfGraph=Graph\n",
        "    g=buildCityGraph(typeOfGraph)\n",
        "    sp=shortestPath(g,g.getNode(source),g.getNode(destination))\n",
        "\n",
        "    if sp!=None:\n",
        "        print('shortest path from ',source, ' to ',destination, 'is ',printPath(sp))\n",
        "\n",
        "    else:\n",
        "        print('there is no path from ',source,' to ',destination)"
      ],
      "execution_count": 0,
      "outputs": []
    },
    {
      "metadata": {
        "id": "q31RittUjO7q",
        "colab_type": "code",
        "colab": {
          "base_uri": "https://localhost:8080/",
          "height": 238
        },
        "outputId": "574bc8a9-3907-43a2-9f1f-510f90a4b6ff"
      },
      "cell_type": "code",
      "source": [
        "print(testSP('BCA','ACB'))"
      ],
      "execution_count": 0,
      "outputs": [
        {
          "output_type": "stream",
          "text": [
            "current DFS path: ->BCA\n",
            "current DFS path: ->BCA->BAC\n",
            "current DFS path: ->BCA->BAC->ABC\n",
            "current DFS path: ->BCA->BAC->ABC->ACB\n",
            "already visited node  BAC\n",
            "already visited node  BCA\n",
            "current DFS path: ->BCA->CBA\n",
            "already visited node  BCA\n",
            "current DFS path: ->BCA->CBA->CAB\n",
            "current DFS path: ->BCA->CBA->CAB->ACB\n",
            "already visited node  CBA\n",
            "shortest path from  BCA  to  ACB is  ->BCA->CBA->CAB->ACB\n",
            "None\n"
          ],
          "name": "stdout"
        }
      ]
    },
    {
      "metadata": {
        "id": "-ALKXdVSbWro",
        "colab_type": "text"
      },
      "cell_type": "markdown",
      "source": [
        "--------------------\n",
        "####Plotting data with pyplot\n"
      ]
    },
    {
      "metadata": {
        "id": "XX0qjcWwbers",
        "colab_type": "code",
        "colab": {}
      },
      "cell_type": "code",
      "source": [
        "## computes and returns the saving accured at the end of each year.\n",
        "## rate is annual, terms is in months and monthly is the every month contribution\n",
        "def retire(monthly, rate, terms):\n",
        "    savings =[0]\n",
        "    base = [0]\n",
        "    mRate = rate/12\n",
        "    for i in range(terms):\n",
        "        base +=[i]\n",
        "        savings += [savings[-1]*( 1 + mRate)+monthly]\n",
        "    \n",
        "    return [m/12 for m in base], savings"
      ],
      "execution_count": 0,
      "outputs": []
    },
    {
      "metadata": {
        "id": "5Z-7fBXCdDkN",
        "colab_type": "text"
      },
      "cell_type": "markdown",
      "source": [
        "Display results"
      ]
    },
    {
      "metadata": {
        "id": "Av0smQrEdF8b",
        "colab_type": "code",
        "colab": {
          "base_uri": "https://localhost:8080/",
          "height": 347
        },
        "outputId": "6e0575af-ee9d-4eec-fd8d-f81733b06f1e"
      },
      "cell_type": "code",
      "source": [
        "\n",
        "import matplotlib.pyplot as plt\n",
        "#varying monthly investments\n",
        "def displayRetireVM(monthlies,rate,terms):\n",
        "    plt.figure('retireMonth')\n",
        "    plt.clf() #clear previous figures\n",
        "    for monthly in monthlies:\n",
        "        xvals,yvals = retire(monthly,rate,terms)\n",
        "        plt.plot(xvals,yvals,label ='retire:'+str(monthly))\n",
        "        plt.legend(loc ='upper left')\n",
        "        \n",
        "displayRetire([500,1000,1500,2000,2500,3000],0.05,20*12)"
      ],
      "execution_count": 0,
      "outputs": [
        {
          "output_type": "display_data",
          "data": {
            "image/png": "[encoded data removed]",
            "text/plain": [
              "<matplotlib.figure.Figure at 0x7f6f2d1cefd0>"
            ]
          },
          "metadata": {
            "tags": []
          }
        }
      ]
    },
    {
      "metadata": {
        "id": "C5I1-W56iU8h",
        "colab_type": "code",
        "colab": {
          "base_uri": "https://localhost:8080/",
          "height": 347
        },
        "outputId": "09417861-9dbf-47cf-90a6-76305112b5d2"
      },
      "cell_type": "code",
      "source": [
        "import matplotlib.pyplot as plt\n",
        "#varying interest rates\n",
        "def displayRetireVR(monthlies,rate,terms):\n",
        "    plt.figure('retireMonth')\n",
        "    plt.clf() #clear previous figures\n",
        "    for arate in rate:\n",
        "        xvals,yvals = retire(monthlies,arate,terms)\n",
        "        plt.plot(xvals,yvals,label ='rate :'+str(arate))\n",
        "        plt.legend(loc ='upper left')\n",
        "        \n",
        "        \n",
        "displayRetireVR(500,[0.05,0.10,0.15,0.20],20*12)"
      ],
      "execution_count": 0,
      "outputs": [
        {
          "output_type": "display_data",
          "data": {
            "image/png": "[encoded data removed]",
            "text/plain": [
              "<matplotlib.figure.Figure at 0x7f6f2d2e87f0>"
            ]
          },
          "metadata": {
            "tags": []
          }
        }
      ]
    },
    {
      "metadata": {
        "id": "iRiZyGmbVlDF",
        "colab_type": "text"
      },
      "cell_type": "markdown",
      "source": [
        "#### Stochastic process\n",
        " \n",
        " A Stochastic model is one in which randomness is present, and variable states are not described by unique values, but rather by probability distributions. The behavior of this model cannot be entirely predicted"
      ]
    },
    {
      "metadata": {
        "id": "67CzxhkgV9Bn",
        "colab_type": "code",
        "colab": {
          "base_uri": "https://localhost:8080/",
          "height": 34
        },
        "outputId": "2b41a6fa-a1bd-4a6e-f06d-635fc59ae580"
      },
      "cell_type": "code",
      "source": [
        "#generate random even number from 0 <= x<100\n",
        "import random\n",
        "\n",
        "random.randrange(10,21,2)"
      ],
      "execution_count": 0,
      "outputs": [
        {
          "output_type": "execute_result",
          "data": {
            "text/plain": [
              "16"
            ]
          },
          "metadata": {
            "tags": []
          },
          "execution_count": 12
        }
      ]
    },
    {
      "metadata": {
        "id": "BsaqIIUJZljI",
        "colab_type": "code",
        "colab": {
          "base_uri": "https://localhost:8080/",
          "height": 347
        },
        "outputId": "00f25dd3-cc4c-4ed4-fb33-656f9fe7c108"
      },
      "cell_type": "code",
      "source": [
        "import matplotlib.pyplot as plt\n",
        "\n",
        "result=[]\n",
        "\n",
        "for _ in range(0,1000):\n",
        "    result.append(random.randrange(10,21,2))\n",
        "\n",
        "#x = [a for a in range(10,21,2)]\n",
        "\n",
        "from collections import Counter\n",
        "result = sorted(result)\n",
        "#print(result)\n",
        "y = Counter(result)\n",
        "\n",
        "plt.bar(range(len(y)), list(y.values()), align='center')\n",
        "plt.xticks(range(len(y)), list(y.keys()))\n",
        "\n",
        "plt.show()"
      ],
      "execution_count": 0,
      "outputs": [
        {
          "output_type": "display_data",
          "data": {
            "image/png": "[encoded data removed]",
            "text/plain": [
              "<matplotlib.figure.Figure at 0x7f134c5ffcc0>"
            ]
          },
          "metadata": {
            "tags": []
          }
        }
      ]
    },
    {
      "metadata": {
        "id": "R_webNifduQG",
        "colab_type": "text"
      },
      "cell_type": "markdown",
      "source": [
        "Excerise 4 "
      ]
    },
    {
      "metadata": {
        "id": "OfRjB__2dwIm",
        "colab_type": "code",
        "colab": {
          "base_uri": "https://localhost:8080/",
          "height": 34
        },
        "outputId": "ae1670f9-88c9-400a-8ead-6e3e4c34d60a"
      },
      "cell_type": "code",
      "source": [
        "import random\n",
        "\n",
        "def dist1():\n",
        "    return random.random() * 2 - 1\n",
        "\n",
        "def dist2():\n",
        "    if random.random() > 0.5:\n",
        "        return random.random()\n",
        "    else:\n",
        "        return random.random() - 1 \n",
        "    \n",
        "def dist3():\n",
        "    return int(random.random() * 10)\n",
        "\n",
        "def dist4():\n",
        "    return random.randrange(0, 10)\n",
        "\n",
        "def dist5():\n",
        "    return int(random.random() * 10)\n",
        "\n",
        "def dist6():\n",
        "    return random.randint(0, 10)\n",
        "\n",
        "import numpy as np\n",
        "\n",
        "def rundistribution(funname,no_itr=1000):\n",
        "    x,y=[],[]\n",
        "    for i in range(no_itr):\n",
        "        x=np.append(x,i)\n",
        "        y=np.append(y,funname())\n",
        "    return x,y\n",
        "        \n",
        "print('done')"
      ],
      "execution_count": 0,
      "outputs": [
        {
          "output_type": "stream",
          "text": [
            "done\n"
          ],
          "name": "stdout"
        }
      ]
    },
    {
      "metadata": {
        "id": "BOLHwnm5eCA6",
        "colab_type": "code",
        "colab": {
          "base_uri": "https://localhost:8080/",
          "height": 347
        },
        "outputId": "89be666c-973f-484c-f6f7-c33e08d87067"
      },
      "cell_type": "code",
      "source": [
        "#printing all the distributions \n",
        "\n",
        "import matplotlib.pyplot as plt\n",
        "\n",
        "for _ in range(6):\n",
        "    plt.figure('all distributions')\n",
        "\n",
        "\n",
        "\n",
        "\n",
        "plt.figure('dist1')\n",
        "plt.clf() #clear previous figures\n",
        "xvals,yvals = rundistribution(dist1)\n",
        "\n",
        "\n",
        "\n",
        "\n",
        "#plt.plot(xvals,yvals,label ='dist1',)\n",
        "plt.scatter(xvals, yvals,label ='dist1', marker='.', s=10)\n",
        "plt.legend(loc ='upper left')\n",
        "\n",
        "x2vals,y2vals = rundistribution(dist2)\n",
        "\n",
        "plt.scatter(x2vals,y2vals,label ='dist2', marker='x')\n",
        "plt.show()"
      ],
      "execution_count": 0,
      "outputs": [
        {
          "output_type": "display_data",
          "data": {
            "image/png": "[encoded data removed]",
            "text/plain": [
              "<matplotlib.figure.Figure at 0x7f134c4b9f28>"
            ]
          },
          "metadata": {
            "tags": []
          }
        }
      ]
    },
    {
      "metadata": {
        "id": "oa1PRiooRkhH",
        "colab_type": "text"
      },
      "cell_type": "markdown",
      "source": [
        "####Probability\n",
        "\n",
        "1. Probabilites are always in range 0 to 1.\n",
        "\n",
        "2. If probability of an event occuring is p, then probability of it not occuring must be 1-p.\n",
        "\n",
        "3. when events are **independent** of each other , the probability of the events occuring is equal to the product of the probability of each of the events occuring.\n",
        "\n",
        "Two events are said to be independent if the outcome of one event has no influence on the outcome of the other.\n"
      ]
    },
    {
      "metadata": {
        "id": "Z9qvQecbR8HY",
        "colab_type": "code",
        "colab": {}
      },
      "cell_type": "code",
      "source": [
        "## defining roll a Die function and its test case\n",
        "import random\n",
        "\n",
        "def rollDie():\n",
        "    return random.choice([1,2,3,4,5,6])\n",
        "\n",
        "def testRoll(n=10):\n",
        "    result =''\n",
        "    for _ in range(n):\n",
        "        result = result+str(rollDie())\n",
        "    print(result)"
      ],
      "execution_count": 0,
      "outputs": []
    },
    {
      "metadata": {
        "id": "cCH_OlbYT0a6",
        "colab_type": "code",
        "colab": {
          "base_uri": "https://localhost:8080/",
          "height": 34
        },
        "outputId": "660bb455-9ed4-4745-e499-7e6f8742328e"
      },
      "cell_type": "code",
      "source": [
        "##runn the test function for roll Die\n",
        "testRoll()"
      ],
      "execution_count": 0,
      "outputs": [
        {
          "output_type": "stream",
          "text": [
            "2214252111\n"
          ],
          "name": "stdout"
        }
      ]
    },
    {
      "metadata": {
        "id": "oKmMFmzpT90r",
        "colab_type": "code",
        "colab": {
          "base_uri": "https://localhost:8080/",
          "height": 51
        },
        "outputId": "97c4c90b-2c62-45b6-8fc7-fe05bd2bcb20"
      },
      "cell_type": "code",
      "source": [
        "## A simulation of desired result.\n",
        "## goal -- running rollDie n no of times i.e len(goal) times\n",
        "## numTrials -- no of trials \n",
        "def runSim(goal,numTrials):\n",
        "    total = 0\n",
        "    for i in range(numTrials):\n",
        "        result=''\n",
        "        for _ in range(len(goal)):\n",
        "            result +=str(rollDie())\n",
        "            \n",
        "            if result==goal:\n",
        "                total += 1\n",
        "        ## for a 6 face die        \n",
        "    print('Actual probability =',round(1/(6**len(goal)),8))\n",
        "    print('Estima probability =',round((total/numTrials),8))\n",
        "\n",
        "runSim('111',1000)\n"
      ],
      "execution_count": 0,
      "outputs": [
        {
          "output_type": "stream",
          "text": [
            "Actual probability = 0.00462963\n",
            "Estima probability = 0.00462\n"
          ],
          "name": "stdout"
        }
      ]
    },
    {
      "metadata": {
        "id": "AiyYC5GeY0b1",
        "colab_type": "text"
      },
      "cell_type": "markdown",
      "source": [
        "it takes a lot of trials(by increasing the numTrials) to get a good estimate of the frequency of occurence of a rare event.\n",
        "\n",
        "Sample probability and actual probability are different."
      ]
    },
    {
      "metadata": {
        "id": "XwgWTEeTaNi-",
        "colab_type": "text"
      },
      "cell_type": "markdown",
      "source": [
        "####Simulation Models\n",
        "\n",
        "A description of computations that provide useful information about the possible behaviours of th e system being modeled.\n",
        "\n",
        "Its descriptive in nature i.e they are used to tell what might happen . They don't tell us how to make something happen.\n",
        "\n",
        "A simulation is only an approximation to reality.\n",
        "\n",
        "\"All models are wrong, but some are useful.\" --George Box\n",
        "\n",
        "--- to model systems that are mathematically intractable\n",
        "--- to extract useful intermediate results\n",
        "--- lend themselves to development by successive refinement and \"what if \" questions."
      ]
    },
    {
      "metadata": {
        "id": "5xRNLNmAb71l",
        "colab_type": "text"
      },
      "cell_type": "markdown",
      "source": [
        "**A Random walk down Wall Street.** book to read\n",
        "\n"
      ]
    },
    {
      "metadata": {
        "id": "BaeF6AHV2Pcq",
        "colab_type": "text"
      },
      "cell_type": "markdown",
      "source": [
        "####Simulating a random walk"
      ]
    },
    {
      "metadata": {
        "id": "LMsxU7GO2bLE",
        "colab_type": "code",
        "colab": {}
      },
      "cell_type": "code",
      "source": [
        "## a class to give location\n",
        "\n",
        "class location(object):\n",
        "    '''return the new location after a step is taken'''\n",
        "    def __init__(self,x,y):\n",
        "        '''x and y are floats'''\n",
        "        self.x = x\n",
        "        self.y = y\n",
        "        \n",
        "    def move(self,deltaX,deltaY):\n",
        "        '''deltaX and deltaY are floats\n",
        "           returns a new location moved by deltaX,deltaY\n",
        "        '''\n",
        "        return location(self.x+deltaX,self.y+deltaY)\n",
        "    \n",
        "    def getX(self):\n",
        "        '''return the current x location'''\n",
        "        return self.x\n",
        "    \n",
        "    def getY(self):\n",
        "        '''return the current y location'''\n",
        "        return self.y\n",
        "    \n",
        "    def distFrom(self,other):\n",
        "        '''returns the distance between current location(x,y) and other location'''\n",
        "        ox = other.x\n",
        "        oy = other.y\n",
        "        xDist = self.x - ox\n",
        "        yDist = self.y - oy\n",
        "        return (xDist**2+yDist**2)**0.5\n",
        "    \n",
        "    def __str__(self):\n",
        "        return '('+str(self.x)+','+str(self.y)+')' "
      ],
      "execution_count": 0,
      "outputs": []
    },
    {
      "metadata": {
        "id": "X1Ci5ASG9UA4",
        "colab_type": "code",
        "colab": {}
      },
      "cell_type": "code",
      "source": [
        "#Drunk person class\n",
        "\n",
        "class Drunk(object):\n",
        "    '''initialize the name of the person'''\n",
        "    def __init__(self,name):\n",
        "        self.name=name\n",
        "        \n",
        "    def __str__(self):\n",
        "        return 'The name is '+self.name\n",
        "\n",
        "# inherit the above class and create two types of drunks\n",
        "\n",
        "import random\n",
        "\n",
        "class UsualDrunk(Drunk):\n",
        "    '''no bias in direction of step taken\n",
        "       the choice of step is given as (x,y) e.g (0,1) -- moving north by 1 step\n",
        "    '''\n",
        "    def takeStep(self):\n",
        "        #[N,S,E,W]\n",
        "        stepChoice=[(0.0,1.0),(0.0,-1.0),(1.0,0.0),(-1.0,0.0)]\n",
        "        return random.choice(stepChoice)\n",
        "    \n",
        "class ColdDrunk(Drunk):\n",
        "    #bias in direction of step taken\n",
        "    \n",
        "    def takeStep(self):\n",
        "        #[N,S,E,W]\n",
        "        stepChoice=[(0.0,0.9),(0.0,-1.1),(1.0,0.0),(-1.0,0.0)]  \n",
        "        return random.choice(stepChoice)\n",
        "    "
      ],
      "execution_count": 0,
      "outputs": []
    },
    {
      "metadata": {
        "id": "QWPkkLJP433o",
        "colab_type": "text"
      },
      "cell_type": "markdown",
      "source": [
        "The field class, was made to make the location of a person in a field an attribute of the field rather than an attribute of the person."
      ]
    },
    {
      "metadata": {
        "id": "4gguH3IY5jX_",
        "colab_type": "code",
        "colab": {}
      },
      "cell_type": "code",
      "source": [
        "class Field(object):\n",
        "    '''Field class tracks all the drunks'''\n",
        "    \n",
        "    def __init__(self):\n",
        "        '''Create an empty dictonary the key is the drunk and\n",
        "        value is the location'''\n",
        "        self.drunks={}\n",
        "        \n",
        "    def addDrunk(self,drunk,loc):\n",
        "        '''Add the drunk to the field with location'''\n",
        "        \n",
        "        if drunk in self.drunks:\n",
        "            raise ValueError('Drunk already on field change position')\n",
        "        \n",
        "        else:\n",
        "            # if drunk not present on field then add to the field\n",
        "            self.drunks[drunk]=loc\n",
        "    \n",
        "    def getLoc(self,drunk):\n",
        "        '''get the location of a drunk of field'''\n",
        "        \n",
        "        if drunk not in self.drunks:\n",
        "            raise ValueError('Drunk not on field')\n",
        "            \n",
        "        return self.drunks[drunk]\n",
        "    \n",
        "    \n",
        "    def moveDrunk(self,drunk):\n",
        "        '''make the drunk take a step'''\n",
        "        # check whether drunk is in field\n",
        "        if drunk not in self.drunks:\n",
        "            raise ValueError('Drunk not in field')\n",
        "            \n",
        "        xDist,yDist = drunk.takeStep()\n",
        "        currentLocation = self.drunks[drunk]\n",
        "        \n",
        "        #use move method of location to get new location\n",
        "        self.drunks[drunk]=currentLocation.move(xDist,yDist)\n",
        "     "
      ],
      "execution_count": 0,
      "outputs": []
    },
    {
      "metadata": {
        "id": "_Plne8MTIV2s",
        "colab_type": "code",
        "colab": {}
      },
      "cell_type": "code",
      "source": [
        "#simulate a single Single walk\n",
        "\n",
        "def walk(f,d,numSteps):\n",
        "    '''f is field \n",
        "       d is person \n",
        "       numSteps is no of steps a positive number\n",
        "       Move d numSteps times return the distance between start and end\n",
        "       '''\n",
        "    #get the current location of the drunk\n",
        "    start = f.getLoc(d)\n",
        "    \n",
        "    for _ in range(numSteps):\n",
        "        f.moveDrunk(d)\n",
        "    return start.distFrom(f.getLoc(d))"
      ],
      "execution_count": 0,
      "outputs": []
    },
    {
      "metadata": {
        "id": "BYGpwSQhJiMi",
        "colab_type": "code",
        "colab": {}
      },
      "cell_type": "code",
      "source": [
        "# simulate multiple walks \n",
        "\n",
        "def simWalks(numSteps,numTrials,dClass):\n",
        "    '''Assume numSteps and numTrials are positive int\n",
        "       dClass is a subtype of Drunk class\n",
        "       numTrials -- simulates walk of steps numSteps numTrials no of times\n",
        "       returns a list containing distance travelled for each trial\n",
        "    '''\n",
        "    #create an object\n",
        "    Homer = dClass('John')\n",
        "    #initial location\n",
        "    origin = location(1,0)\n",
        "    distances =[]\n",
        "    for _ in range(numTrials):\n",
        "        \n",
        "        # create a field\n",
        "        f = Field()\n",
        "        \n",
        "        #add the drunk to the field at origin\n",
        "        f.addDrunk(Homer,origin)\n",
        "        distances.append(walk(f,Homer,numSteps))\n",
        "    \n",
        "    return distances\n",
        "    "
      ],
      "execution_count": 0,
      "outputs": []
    },
    {
      "metadata": {
        "id": "BZIR-T6vWi0Q",
        "colab_type": "code",
        "colab": {}
      },
      "cell_type": "code",
      "source": [
        "###doing the test run\n",
        "\n",
        "def drunkTest(walkLengths,numTrials,dClass):\n",
        "    '''Assume walklength is a tuple with length of walks\n",
        "       numTrials is the no of trials\n",
        "       dClass is type of drunk UsualDrunk or ColdDrunk\n",
        "       \n",
        "       for each number of steps in walkLengths, runs simWalks with numTrials \n",
        "       walks and prints results\n",
        "    '''\n",
        "    \n",
        "    for numSteps in walkLengths:\n",
        "        distances = simWalks(numSteps,numTrials,dClass)\n",
        "        \n",
        "        print(dClass.__name__,' walks ',numSteps,' steps')\n",
        "        print('Mean =',round(sum(distances)/len(distances),4), \\\n",
        "        'Max =',max(distances), \\\n",
        "         'Min =',min(distances) )\n",
        "        "
      ],
      "execution_count": 0,
      "outputs": []
    },
    {
      "metadata": {
        "id": "4v60f31oZ9AW",
        "colab_type": "code",
        "colab": {
          "base_uri": "https://localhost:8080/",
          "height": 221
        },
        "outputId": "08754189-910e-4fb5-d7f1-679cbde114ae"
      },
      "cell_type": "code",
      "source": [
        "### testing the walks for the drunks\n",
        "\n",
        "drunkTest((10,100,1000),1000,UsualDrunk)\n",
        "\n",
        "drunkTest((10,100,1000),1000,ColdDrunk)"
      ],
      "execution_count": 0,
      "outputs": [
        {
          "output_type": "stream",
          "text": [
            "UsualDrunk  walks  10  steps\n",
            "Mean = 2.8471 Max = 8.246211251235321 Min = 0.0\n",
            "UsualDrunk  walks  100  steps\n",
            "Mean = 8.9153 Max = 24.413111231467404 Min = 0.0\n",
            "UsualDrunk  walks  1000  steps\n",
            "Mean = 27.7732 Max = 72.069410986909 Min = 1.4142135623730951\n",
            "ColdDrunk  walks  10  steps\n",
            "Mean = 2.7295 Max = 7.963039620647383 Min = 0.0\n",
            "ColdDrunk  walks  100  steps\n",
            "Mean = 9.8867 Max = 31.515869018638877 Min = 0.2000000000000014\n",
            "ColdDrunk  walks  1000  steps\n",
            "Mean = 54.5655 Max = 118.853859844768 Min = 2.0880613017821337\n"
          ],
          "name": "stdout"
        }
      ]
    },
    {
      "metadata": {
        "id": "PNSjlloAuo_m",
        "colab_type": "text"
      },
      "cell_type": "markdown",
      "source": [
        "**Plotting the random walk to look at simulation**"
      ]
    },
    {
      "metadata": {
        "id": "yEHroryKuw4d",
        "colab_type": "code",
        "colab": {}
      },
      "cell_type": "code",
      "source": [
        "## a style class it will be used to represent the walks of different persons\n",
        "\n",
        "class styleIterator(object):\n",
        "    \n",
        "    def __init__(self,styles):\n",
        "        # styles is a tuple of diff styles to plot\n",
        "        # index 0 has the color and rest have the ticks\n",
        "        self.index = 0\n",
        "        self.styles = styles\n",
        "        \n",
        "    def nextStyle(self):\n",
        "        result = self.styles[self.index]\n",
        "        \n",
        "        if self.index == len(self.styles)-1:\n",
        "            self.index = 0\n",
        "            \n",
        "        else:\n",
        "            self.index+=1\n",
        "        return result"
      ],
      "execution_count": 0,
      "outputs": []
    },
    {
      "metadata": {
        "id": "hajWMJ_nB9MN",
        "colab_type": "code",
        "colab": {}
      },
      "cell_type": "code",
      "source": [
        "def simDrunk(numTrials,dClass,walkLengths):\n",
        "    '''returns a list of mean distances for each trial'''\n",
        "    meanDistances =[]\n",
        "    # iterate through all the walkLengths 10 steps 100 steps etc\n",
        "    for numSteps in walkLengths:\n",
        "        \n",
        "        #print('Starting simulation of ',numSteps,' steps')\n",
        "        #returns a list will distance for each trial\n",
        "        trails = simWalks(numSteps,numTrials,dClass)\n",
        "        \n",
        "        mean = sum(trails)/len(trails)\n",
        "        meanDistances.append(mean)\n",
        "     \n",
        "    return meanDistances"
      ],
      "execution_count": 0,
      "outputs": []
    },
    {
      "metadata": {
        "id": "sEeyqe2kD1Su",
        "colab_type": "code",
        "colab": {}
      },
      "cell_type": "code",
      "source": [
        "import matplotlib.pyplot as plt\n",
        "\n",
        "import numpy as np\n",
        "\n",
        "def simAll(drunkKinds,walkLengths,numTrials):\n",
        "    '''simulate diff kinds of drunk'''\n",
        "    \n",
        "    styleChoice = styleIterator(('b-','g--','r-.'))\n",
        "    \n",
        "    plt.figure('Simulate Drunk')\n",
        "    plt.clf()\n",
        "    for dClass in drunkKinds:\n",
        "        \n",
        "        curStyle = styleChoice.nextStyle()\n",
        "        \n",
        "        print('Simulate the ',dClass.__name__)\n",
        "        #collect the list of means\n",
        "        means = simDrunk(numTrials,dClass,walkLengths)\n",
        "        \n",
        "        #plot the mean distance vs steps\n",
        "        plt.plot(walkLengths,means,curStyle,label=dClass.__name__)\n",
        "        plt.title('Mean dist frm origin '+str(numTrials)+' trials')\n",
        "        plt.xlabel('No of steps')\n",
        "        plt.ylabel('Dist from orgin')\n",
        "        plt.legend(loc='best')\n",
        "    \n",
        "\n",
        "\n",
        "\n"
      ],
      "execution_count": 0,
      "outputs": []
    },
    {
      "metadata": {
        "id": "UQKypif1LGKJ",
        "colab_type": "code",
        "colab": {
          "base_uri": "https://localhost:8080/",
          "height": 410
        },
        "outputId": "a156a380-239a-42ed-dc10-2018374f091b"
      },
      "cell_type": "code",
      "source": [
        "numSteps=(10,100,1000,2000)\n",
        "simAll((ColdDrunk,UsualDrunk),numSteps,100)"
      ],
      "execution_count": 0,
      "outputs": [
        {
          "output_type": "stream",
          "text": [
            "Simulate the  ColdDrunk\n",
            "Simulate the  UsualDrunk\n"
          ],
          "name": "stdout"
        },
        {
          "output_type": "display_data",
          "data": {
            "image/png": "[encoded data removed]",
            "text/plain": [
              "<matplotlib.figure.Figure at 0x7fad29a40898>"
            ]
          },
          "metadata": {
            "tags": []
          }
        }
      ]
    },
    {
      "metadata": {
        "id": "PYaQjSeEUQtU",
        "colab_type": "code",
        "colab": {}
      },
      "cell_type": "code",
      "source": [
        "def getFinalLocs(numSteps,numTrials,dClass):\n",
        "    '''returns a list of locations which gives the location of \n",
        "    drunk after each trail'''\n",
        "    \n",
        "    locs=[]\n",
        "    d = dClass('John')\n",
        "    for _ in range(numTrials):\n",
        "        f = Field()\n",
        "        f.addDrunk(d,location(0,0))\n",
        "        \n",
        "        for _ in range(numSteps):\n",
        "            f.moveDrunk(d)\n",
        "        locs.append(f.getLoc(d))\n",
        "        \n",
        "    return locs"
      ],
      "execution_count": 0,
      "outputs": []
    },
    {
      "metadata": {
        "id": "_sFHbxtqXE-A",
        "colab_type": "code",
        "colab": {}
      },
      "cell_type": "code",
      "source": [
        "### plot the ending locations\n",
        "\n",
        "def plotLocs(drunkKinds,numSteps,numTrials):\n",
        "    styleChoice = styleIterator(('b*','r^','mo'))\n",
        "    \n",
        "    \n",
        "    for dClass in drunkKinds:\n",
        "        print('simulate for dClass '+dClass.__name__)\n",
        "        locs = getFinalLocs(numSteps,numTrials,dClass)\n",
        "        \n",
        "        xVals,yVals =[],[]\n",
        "        \n",
        "        for loc in locs:\n",
        "            xVals.append(loc.getX())\n",
        "            yVals.append(loc.getY())\n",
        "        \n",
        "        #to get the absolute value of array using abs\n",
        "        xVals = np.array(xVals)\n",
        "        yVals = np.array(yVals)\n",
        "        \n",
        "        meanX = sum(abs(xVals))/len(xVals)\n",
        "        meanY = sum(abs(yVals))/len(yVals)\n",
        "        curStyle = styleChoice.nextStyle()\n",
        "        plt.plot(xVals,yVals,curStyle,label = dClass.__name__ +' mean dist =<'+ str(round(meanX,2)) +',' +str(round(meanY,2))+'>')\n",
        "        #\n",
        "        plt.title('Location at end of a walk '+ str(numSteps)+' steps')\n",
        "        \n",
        "        plt.xlabel('Steps East/West of origin')\n",
        "        plt.ylabel('Steps North/South of origin')\n",
        "        \n",
        "        plt.legend(loc ='upper left')"
      ],
      "execution_count": 0,
      "outputs": []
    },
    {
      "metadata": {
        "id": "c7b4hZSqZ7Pm",
        "colab_type": "code",
        "colab": {}
      },
      "cell_type": "code",
      "source": [
        "### different types of drunks\n",
        "import math\n",
        "class UsualDrunk(Drunk):\n",
        "    def takeStep(self):\n",
        "        stepChoices =\\\n",
        "            [(0.0,1.0), (0.0,-1.0), (1.0, 0.0), (-1.0, 0.0)]\n",
        "        return random.choice(stepChoices)\n",
        "\n",
        "class ColdDrunk(Drunk):\n",
        "    def takeStep(self):\n",
        "        stepChoices =\\\n",
        "            [(0.0,0.9), (0.0,-1.03), (1.03, 0.0), (-1.03, 0.0)]\n",
        "        return random.choice(stepChoices)\n",
        "\n",
        "class EDrunk(Drunk):\n",
        "    def takeStep(self):\n",
        "        ang = 2 * math.pi * random.random()\n",
        "        length = 0.5 + 0.5 * random.random()\n",
        "        return (length * math.sin(ang), length * math.cos(ang))\n",
        "\n",
        "class PhotoDrunk(Drunk):\n",
        "    def takeStep(self):\n",
        "        stepChoices =\\\n",
        "                    [(0.0, 0.5),(0.0, -0.5),\n",
        "                     (1.5, 0.0),(-1.5, 0.0)]\n",
        "        return random.choice(stepChoices)\n",
        "\n",
        "class DDrunk(Drunk):\n",
        "    def takeStep(self):\n",
        "        stepChoices =\\\n",
        "                    [(0.85, 0.85), (-0.85, -0.85),\n",
        "                     (-0.56, 0.56), (0.56, -0.56)] \n",
        "        return random.choice(stepChoices)"
      ],
      "execution_count": 0,
      "outputs": []
    },
    {
      "metadata": {
        "id": "mzXetNWtawV2",
        "colab_type": "code",
        "colab": {}
      },
      "cell_type": "code",
      "source": [
        "# function to return distance \n",
        "def walkVector(f, d, numSteps):\n",
        "  '''returns the actual x and y distance from the start point to the end point of a random walk\n",
        "     f is field \n",
        "     d is person \n",
        "     numSteps is no of steps a positive number\n",
        "  '''\n",
        "  start = f.getLoc(d)\n",
        "  for _ in range(numSteps):\n",
        "    f.moveDrunk(d)\n",
        "  return(f.getLoc(d).getX() - start.getX(),f.getLoc(d).getY() - start.getY())"
      ],
      "execution_count": 0,
      "outputs": []
    },
    {
      "metadata": {
        "id": "uwI8xaI-dAFb",
        "colab_type": "code",
        "colab": {}
      },
      "cell_type": "code",
      "source": [
        "def getFinalLocsVectors(numSteps,numTrials,dClass):\n",
        "    '''returns a list of locations which gives the location of \n",
        "    drunk after each Trial'''\n",
        "    \n",
        "    locs=[]\n",
        "    d = dClass('John')\n",
        "    for _ in range(numTrials):\n",
        "        f = Field()\n",
        "        f.addDrunk(d,location(0,0))\n",
        "        \n",
        "        locs.append(walkVector(f,d,numSteps))\n",
        "    #print('no of locs is ',len(locs))    \n",
        "    return locs"
      ],
      "execution_count": 0,
      "outputs": []
    },
    {
      "metadata": {
        "id": "J3bXblGTcGpl",
        "colab_type": "code",
        "colab": {}
      },
      "cell_type": "code",
      "source": [
        "#plot distance travelled \n",
        "\n",
        "def plotX_Y_distance(drunkKinds,numSteps,numTrials):\n",
        "    styleChoice = styleIterator(('b*','r^','mo'))\n",
        "    \n",
        "    \n",
        "    for dClass in drunkKinds:\n",
        "        print('simulate for dClass '+dClass.__name__)\n",
        "        locs = getFinalLocsVectors(numSteps,numTrials,dClass)\n",
        "        \n",
        "        xVals,yVals =[],[]\n",
        "        for loc in locs:\n",
        "            xVals.append(loc[0])\n",
        "            yVals.append(loc[1])\n",
        "        \n",
        "        #to get the absolute value of array using abs\n",
        "        xVals = np.array(xVals)\n",
        "        yVals = np.array(yVals)\n",
        "        \n",
        "        meanX = sum(abs(xVals))/len(xVals)\n",
        "        meanY = sum(abs(yVals))/len(yVals)\n",
        "        curStyle = styleChoice.nextStyle()\n",
        "        plt.plot(xVals,yVals,curStyle,label = dClass.__name__ +' mean dist =<'+ str(round(meanX,2)) +',' +str(round(meanY,2))+'>')\n",
        "        #\n",
        "        plt.title('Distance from origin at end of a walk '+ str(numSteps)+' steps')\n",
        "        \n",
        "        plt.xlabel('Steps East/West of origin')\n",
        "        plt.ylabel('Steps North/South of origin')\n",
        "        \n",
        "        plt.legend(loc ='upper left')\n"
      ],
      "execution_count": 0,
      "outputs": []
    },
    {
      "metadata": {
        "id": "nCi1ShCraM2r",
        "colab_type": "code",
        "colab": {
          "base_uri": "https://localhost:8080/",
          "height": 410
        },
        "outputId": "ca05fff2-3c1b-440c-dabd-9aacb3d91e66"
      },
      "cell_type": "code",
      "source": [
        "\n",
        "\n",
        "#plotLocs((ColdDrunk,),1000,100)\n",
        "plotX_Y_distance((UsualDrunk,DDrunk,),1000,1000)"
      ],
      "execution_count": 0,
      "outputs": [
        {
          "output_type": "stream",
          "text": [
            "simulate for dClass UsualDrunk\n",
            "simulate for dClass DDrunk\n"
          ],
          "name": "stdout"
        },
        {
          "output_type": "display_data",
          "data": {
            "image/png": "[encoded data removed]",
            "text/plain": [
              "<matplotlib.figure.Figure at 0x7fad25bee6d8>"
            ]
          },
          "metadata": {
            "tags": []
          }
        }
      ]
    },
    {
      "metadata": {
        "id": "LxW3vlmPT96-",
        "colab_type": "text"
      },
      "cell_type": "markdown",
      "source": [
        "####6.00.2x Problem Set 2: Simulating robots"
      ]
    },
    {
      "metadata": {
        "id": "7tf4CTTlT889",
        "colab_type": "code",
        "colab": {}
      },
      "cell_type": "code",
      "source": [
        "\n",
        "import math\n",
        "\n",
        "import random\n",
        "\n",
        "import time\n",
        "\n",
        "\n",
        "import matplotlib.pyplot as plt\n",
        "\n",
        "from tkinter import *"
      ],
      "execution_count": 0,
      "outputs": []
    },
    {
      "metadata": {
        "id": "8aMSzpPX9Nt9",
        "colab_type": "code",
        "colab": {}
      },
      "cell_type": "code",
      "source": [
        "class RobotVisualization:\n",
        "    def __init__(self, num_robots, width, height, delay = 0.2):\n",
        "        \"Initializes a visualization with the specified parameters.\"\n",
        "        # Number of seconds to pause after each frame\n",
        "        self.delay = delay\n",
        "\n",
        "        self.max_dim = max(width, height)\n",
        "        self.width = width\n",
        "        self.height = height\n",
        "        self.num_robots = num_robots\n",
        "\n",
        "        # Initialize a drawing surface\n",
        "        self.master = Tk()\n",
        "        self.w = Canvas(self.master, width=500, height=500)\n",
        "        self.w.pack()\n",
        "        self.master.update()\n",
        "\n",
        "        # Draw a backing and lines\n",
        "        x1, y1 = self._map_coords(0, 0)\n",
        "        x2, y2 = self._map_coords(width, height)\n",
        "        self.w.create_rectangle(x1, y1, x2, y2, fill = \"white\")\n",
        "\n",
        "        # Draw gray squares for dirty tiles\n",
        "        self.tiles = {}\n",
        "        for i in range(width):\n",
        "            for j in range(height):\n",
        "                x1, y1 = self._map_coords(i, j)\n",
        "                x2, y2 = self._map_coords(i + 1, j + 1)\n",
        "                self.tiles[(i, j)] = self.w.create_rectangle(x1, y1, x2, y2,\n",
        "                                                             fill = \"gray\")\n",
        "\n",
        "        # Draw gridlines\n",
        "        for i in range(width + 1):\n",
        "            x1, y1 = self._map_coords(i, 0)\n",
        "            x2, y2 = self._map_coords(i, height)\n",
        "            self.w.create_line(x1, y1, x2, y2)\n",
        "        for i in range(height + 1):\n",
        "            x1, y1 = self._map_coords(0, i)\n",
        "            x2, y2 = self._map_coords(width, i)\n",
        "            self.w.create_line(x1, y1, x2, y2)\n",
        "\n",
        "        # Draw some status text\n",
        "        self.robots = None\n",
        "        self.text = self.w.create_text(25, 0, anchor=NW,\n",
        "                                       text=self._status_string(0, 0))\n",
        "        self.time = 0\n",
        "        self.master.update()\n",
        "\n",
        "    def _status_string(self, time, num_clean_tiles):\n",
        "        \"Returns an appropriate status string to print.\"\n",
        "        percent_clean = round(100 * num_clean_tiles / (self.width * self.height))\n",
        "        return \"Time: %04d; %d tiles (%d%%) cleaned\" % \\\n",
        "            (time, num_clean_tiles, percent_clean)\n",
        "\n",
        "    def _map_coords(self, x, y):\n",
        "        \"Maps grid positions to window positions (in pixels).\"\n",
        "        return (250 + 450 * ((x - self.width / 2.0) / self.max_dim),\n",
        "                250 + 450 * ((self.height / 2.0 - y) / self.max_dim))\n",
        "\n",
        "    def _draw_robot(self, position, direction):\n",
        "        \"Returns a polygon representing a robot with the specified parameters.\"\n",
        "        x, y = position.getX(), position.getY()\n",
        "        d1 = direction + 165\n",
        "        d2 = direction - 165\n",
        "        x1, y1 = self._map_coords(x, y)\n",
        "        x2, y2 = self._map_coords(x + 0.6 * math.sin(math.radians(d1)),\n",
        "                                  y + 0.6 * math.cos(math.radians(d1)))\n",
        "        x3, y3 = self._map_coords(x + 0.6 * math.sin(math.radians(d2)),\n",
        "                                  y + 0.6 * math.cos(math.radians(d2)))\n",
        "        return self.w.create_polygon([x1, y1, x2, y2, x3, y3], fill=\"red\")\n",
        "\n",
        "    def update(self, room, robots):\n",
        "        \"Redraws the visualization with the specified room and robot state.\"\n",
        "        # Removes a gray square for any tiles have been cleaned.\n",
        "        for i in range(self.width):\n",
        "            for j in range(self.height):\n",
        "                if room.isTileCleaned(i, j):\n",
        "                    self.w.delete(self.tiles[(i, j)])\n",
        "        # Delete all existing robots.\n",
        "        if self.robots:\n",
        "            for robot in self.robots:\n",
        "                self.w.delete(robot)\n",
        "                self.master.update_idletasks()\n",
        "        # Draw new robots\n",
        "        self.robots = []\n",
        "        for robot in robots:\n",
        "            pos = robot.getRobotPosition()\n",
        "            x, y = pos.getX(), pos.getY()\n",
        "            x1, y1 = self._map_coords(x - 0.08, y - 0.08)\n",
        "            x2, y2 = self._map_coords(x + 0.08, y + 0.08)\n",
        "            self.robots.append(self.w.create_oval(x1, y1, x2, y2,\n",
        "                                                  fill = \"black\"))\n",
        "            self.robots.append(\n",
        "                self._draw_robot(robot.getRobotPosition(), robot.getRobotDirection()))\n",
        "        # Update text\n",
        "        self.w.delete(self.text)\n",
        "        self.time += 1\n",
        "        self.text = self.w.create_text(\n",
        "            25, 0, anchor=NW,\n",
        "            text=self._status_string(self.time, room.getNumCleanedTiles()))\n",
        "        self.master.update()\n",
        "        time.sleep(self.delay)\n",
        "\n",
        "    def done(self):\n",
        "        \"Indicate that the animation is done so that we allow the user to close the window.\"\n",
        "        mainloop()"
      ],
      "execution_count": 0,
      "outputs": []
    },
    {
      "metadata": {
        "id": "30D4NGJ39jw3",
        "colab_type": "code",
        "colab": {}
      },
      "cell_type": "code",
      "source": [
        "def testRobotMovement(robot_type, room_type, delay=0.4):\n",
        "    \"\"\"\n",
        "    Runs a simulation of a single robot of type robot_type in a 5x5 room.\n",
        "    \"\"\"\n",
        "    #import ps2_visualize\n",
        "    room = room_type(5, 5)\n",
        "    robot = robot_type(room, 1)\n",
        "    anim = RobotVisualization(1, 5, 5, delay)\n",
        "    while room.getNumCleanedTiles() < room.getNumTiles():\n",
        "        robot.updatePositionAndClean()\n",
        "        anim.update(room, [robot])\n",
        "\n",
        "    anim.done()\n"
      ],
      "execution_count": 0,
      "outputs": []
    },
    {
      "metadata": {
        "id": "uUY1thZwUyxg",
        "colab_type": "code",
        "colab": {}
      },
      "cell_type": "code",
      "source": [
        "# === Provided class Position\n",
        "class Position(object):\n",
        "    \"\"\"\n",
        "    A Position represents a location in a two-dimensional room.\n",
        "    \"\"\"\n",
        "    def __init__(self, x, y):\n",
        "        \"\"\"\n",
        "        Initializes a position with coordinates (x, y).\n",
        "        \"\"\"\n",
        "        self.x = x\n",
        "        self.y = y\n",
        "        \n",
        "    def getX(self):\n",
        "        return self.x\n",
        "    \n",
        "    def getY(self):\n",
        "        return self.y\n",
        "    \n",
        "    def getNewPosition(self, angle, speed):\n",
        "        \"\"\"\n",
        "        Computes and returns the new Position after a single clock-tick has\n",
        "        passed, with this object as the current position, and with the\n",
        "        specified angle and speed.\n",
        "\n",
        "        Does NOT test whether the returned position fits inside the room.\n",
        "\n",
        "        angle: number representing angle in degrees, 0 <= angle < 360\n",
        "        speed: positive float representing speed\n",
        "\n",
        "        Returns: a Position object representing the new position.\n",
        "        \"\"\"\n",
        "        old_x, old_y = self.getX(), self.getY()\n",
        "        angle = float(angle)\n",
        "        # Compute the change in position hypotenus*cos(theta) and  hypotenus*sin(theta)\n",
        "        delta_y = speed * math.cos(math.radians(angle))\n",
        "        delta_x = speed * math.sin(math.radians(angle))\n",
        "        # Add that to the existing position\n",
        "        new_x = old_x + delta_x\n",
        "        new_y = old_y + delta_y\n",
        "        return Position(new_x, new_y)\n",
        "\n",
        "    def __str__(self):  \n",
        "        return \"(%0.2f, %0.2f)\" % (self.x, self.y)"
      ],
      "execution_count": 0,
      "outputs": []
    },
    {
      "metadata": {
        "id": "9QmoUPwEW_Gy",
        "colab_type": "code",
        "colab": {}
      },
      "cell_type": "code",
      "source": [
        "\n",
        "# === Problem 1\n",
        "\n",
        "from collections import defaultdict\n",
        "\n",
        "import itertools\n",
        "\n",
        "import numpy as np\n",
        "\n",
        "import math\n",
        "\n",
        "class RectangularRoom(object):\n",
        "    \"\"\"\n",
        "    A RectangularRoom represents a rectangular region containing clean or dirty\n",
        "    tiles.\n",
        "\n",
        "    A room has a width and a height and contains (width * height) tiles. At any\n",
        "    particular time, each of these tiles is either clean or dirty.\n",
        "    \"\"\"\n",
        "    def __init__(self, width, height):\n",
        "        \"\"\"\n",
        "        Initializes a rectangular room with the specified width and height.\n",
        "\n",
        "        Initially, no tiles in the room have been cleaned.\n",
        "\n",
        "        width: an integer > 0\n",
        "        height: an integer > 0\n",
        "        \"\"\"\n",
        "        self.width = width\n",
        "        self.height = height\n",
        "        self.room = dict()\n",
        "        self.room = defaultdict(lambda : 0,self.room)\n",
        "        # putting all the keys by creating a cross product of two lists\n",
        "        # of length width , height\n",
        "        wdtlist = [b for b in range(0,width,1)]\n",
        "        heilist = [b for b in range(0,height,1)]\n",
        "        \n",
        "        for x,y in itertools.product(wdtlist,heilist):\n",
        "            self.room[str(x)+'_'+str(y)]\n",
        "    \n",
        "    def returnroomdict(self):\n",
        "        return self.room\n",
        "    \n",
        "    def cleanTileAtPosition(self, pos):\n",
        "        \"\"\"\n",
        "        Mark the tile under the position POS as cleaned.\n",
        "\n",
        "        Assumes that POS represents a valid position inside this room.\n",
        "\n",
        "        pos: a Position\n",
        "        \"\"\"\n",
        "        #identify the tile based on position\n",
        "        tile = str(math.floor(pos.getX()))+'_'+str(math.floor(pos.getY()))\n",
        "        if tile in self.room:\n",
        "            self.room[tile]=1\n",
        "        \n",
        "        \n",
        "\n",
        "    def isTileCleaned(self, m, n):\n",
        "        \"\"\"\n",
        "        Return True if the tile (m, n) has been cleaned.\n",
        "\n",
        "        Assumes that (m, n) represents a valid tile inside the room.\n",
        "\n",
        "        m: an integer\n",
        "        n: an integer\n",
        "        returns: True if (m, n) is cleaned, False otherwise\n",
        "        \"\"\"\n",
        "        if self.room[str(m)+'_'+str(n)]==1:\n",
        "            return True\n",
        "        else:\n",
        "            return False\n",
        "    \n",
        "    def getNumTiles(self):\n",
        "        \"\"\"\n",
        "        Return the total number of tiles in the room.\n",
        "\n",
        "        returns: an integer\n",
        "        \"\"\"\n",
        "        return len(self.room)\n",
        "\n",
        "    def getNumCleanedTiles(self):\n",
        "        \"\"\"\n",
        "        Return the total number of clean tiles in the room.\n",
        "\n",
        "        returns: an integer\n",
        "        \"\"\"\n",
        "        cleanRoom=0\n",
        "        for key,value  in self.room.items():\n",
        "            if value==1:\n",
        "                cleanRoom+=1\n",
        "        return cleanRoom\n",
        "\n",
        "    def getRandomPosition(self):\n",
        "        \"\"\"\n",
        "        Return a random position inside the room.\n",
        "\n",
        "        returns: a Position object.\n",
        "        \"\"\"\n",
        "        randX=np.random.uniform(0,self.width)\n",
        "        randY=np.random.uniform(0,self.height)\n",
        "        return Position(randX,randY)\n",
        "        \n",
        "        \n",
        "\n",
        "    def isPositionInRoom(self, pos):\n",
        "        \"\"\"\n",
        "        Return True if pos is inside the room.\n",
        "\n",
        "        pos: a Position object.\n",
        "        returns: True if pos is in the room, False otherwise.\n",
        "        \"\"\"\n",
        "        tile=str(math.floor(pos.getX()))+'_'+str(math.floor(pos.getY()))\n",
        "        \n",
        "        if tile in self.room:\n",
        "            return True\n",
        "        else:\n",
        "            return False"
      ],
      "execution_count": 0,
      "outputs": []
    },
    {
      "metadata": {
        "id": "XfFFkdTuXEoa",
        "colab_type": "code",
        "colab": {}
      },
      "cell_type": "code",
      "source": [
        "# === Problem 2\n",
        "class Robot(object):\n",
        "    \"\"\"\n",
        "    Represents a robot cleaning a particular room.\n",
        "\n",
        "    At all times the robot has a particular position and direction in the room.\n",
        "    The robot also has a fixed speed.\n",
        "\n",
        "    Subclasses of Robot should provide movement strategies by implementing\n",
        "    updatePositionAndClean(), which simulates a single time-step.\n",
        "    \"\"\"\n",
        "    def __init__(self, room, speed):\n",
        "        \"\"\"\n",
        "        Initializes a Robot with the given speed in the specified room. The\n",
        "        robot initially has a random direction and a random position in the\n",
        "        room. The robot cleans the tile it is on.\n",
        "\n",
        "        room:  a RectangularRoom object.\n",
        "        speed: a float (speed > 0)\n",
        "        \"\"\"\n",
        "        self.speed = speed\n",
        "        self.room = room\n",
        "        # set inital direction of the robot to random\n",
        "        self.roboDirection = random.randint(0,359)\n",
        "        # set initial position to a random position in room\n",
        "        self.roboPosition = room.getRandomPosition()\n",
        "        # mark the tile as clean\n",
        "        self.room.cleanTileAtPosition(self.roboPosition)\n",
        "\n",
        "    def getRobotPosition(self):\n",
        "        \"\"\"\n",
        "        Return the position of the robot.\n",
        "\n",
        "        returns: a Position object giving the robot's position.\n",
        "        \"\"\"\n",
        "        return self.roboPosition\n",
        "    \n",
        "    def getRobotDirection(self):\n",
        "        \"\"\"\n",
        "        Return the direction of the robot.\n",
        "\n",
        "        returns: an integer d giving the direction of the robot as an angle in\n",
        "        degrees, 0 <= d < 360.\n",
        "        \"\"\"\n",
        "        return self.roboDirection\n",
        "\n",
        "    def setRobotPosition(self, position):\n",
        "        \"\"\"\n",
        "        Set the position of the robot to POSITION.\n",
        "\n",
        "        position: a Position object.\n",
        "        \"\"\"\n",
        "        self.roboPosition = position\n",
        "\n",
        "    def setRobotDirection(self, direction):\n",
        "        \"\"\"\n",
        "        Set the direction of the robot to DIRECTION.\n",
        "\n",
        "        direction: integer representing an angle in degrees\n",
        "        \"\"\"\n",
        "        self.roboDirection = direction\n",
        "\n",
        "    def updatePositionAndClean(self):\n",
        "        \"\"\"\n",
        "        Simulate the passage of a single time-step.\n",
        "\n",
        "        Move the robot to a new position and mark the tile it is on as having\n",
        "        been cleaned.\n",
        "        \"\"\"\n",
        "        raise NotImplementedError # don't change this!"
      ],
      "execution_count": 0,
      "outputs": []
    },
    {
      "metadata": {
        "id": "wGWYmDG3XPxE",
        "colab_type": "code",
        "colab": {}
      },
      "cell_type": "code",
      "source": [
        "# === Problem 3\n",
        "class StandardRobot(Robot):\n",
        "    \"\"\"\n",
        "    A StandardRobot is a Robot with the standard movement strategy.\n",
        "\n",
        "    At each time-step, a StandardRobot attempts to move in its current\n",
        "    direction; when it would hit a wall, it *instead* chooses a new direction\n",
        "    randomly.\n",
        "    \"\"\"\n",
        "    def updatePositionAndClean(self):\n",
        "        \"\"\"\n",
        "        Simulate the passage of a single time-step.\n",
        "\n",
        "        Move the robot to a new position and mark the tile it is on as having\n",
        "        been cleaned.\n",
        "        \"\"\"\n",
        "        newPosition = self.getRobotPosition().getNewPosition(self.getRobotDirection(),self.speed)\n",
        "        \n",
        "        if self.room.isPositionInRoom(newPosition):\n",
        "            # change position of the room\n",
        "            self.setRobotPosition(newPosition)\n",
        "            self.room.cleanTileAtPosition(self.getRobotPosition())\n",
        "        else:\n",
        "            # change direction of newPosition not in room\n",
        "            self.setRobotDirection(random.randint(0,359))"
      ],
      "execution_count": 0,
      "outputs": []
    },
    {
      "metadata": {
        "id": "dLHr07J9XVyV",
        "colab_type": "code",
        "colab": {}
      },
      "cell_type": "code",
      "source": [
        "# === Problem 4\n",
        "\n",
        "import statistics\n",
        "\n",
        "def runSimulation(num_robots, speed, width, height, min_coverage, num_trials,\n",
        "                  robot_type):\n",
        "    \"\"\"\n",
        "    Runs NUM_TRIALS trials of the simulation and returns the mean number of\n",
        "    time-steps needed to clean the fraction MIN_COVERAGE of the room.\n",
        "\n",
        "    The simulation is run with NUM_ROBOTS robots of type ROBOT_TYPE, each with\n",
        "    speed SPEED, in a room of dimensions WIDTH x HEIGHT.\n",
        "\n",
        "    num_robots: an int (num_robots > 0)\n",
        "    speed: a float (speed > 0)\n",
        "    width: an int (width > 0)\n",
        "    height: an int (height > 0)\n",
        "    min_coverage: a float (0 <= min_coverage <= 1.0)\n",
        "    num_trials: an int (num_trials > 0)\n",
        "    robot_type: class of robot to be instantiated (e.g. StandardRobot or\n",
        "                RandomWalkRobot)\n",
        "    \"\"\"\n",
        "    all_time_steps=[]\n",
        "    for _ in range(num_trials):\n",
        "        \n",
        "        #visualize\n",
        "        #anim = RobotVisualization(num_robots, width, height)\n",
        "        \n",
        "        room = RectangularRoom(width,height)\n",
        "        \n",
        "        myrobos =[]\n",
        "        for _ in range(num_robots):\n",
        "            myrobos.append(robot_type(room,speed))\n",
        "        \n",
        "        #fraction of room cleaned\n",
        "        \n",
        "        cleanFraction = room.getNumCleanedTiles()/room.getNumTiles()\n",
        "        #starts from 1 as 1 unit consumed when robo dropped.\n",
        "        timeStep=0.0\n",
        "        while (cleanFraction < min_coverage):\n",
        "            \n",
        "            for myrobot in myrobos:\n",
        "                #track movement\n",
        "                #anim.update(room, robots)\n",
        "                myrobot.updatePositionAndClean()\n",
        "            #recompute the cleaned fraction for one time step\n",
        "            cleanFraction = room.getNumCleanedTiles()/room.getNumTiles()\n",
        "            timeStep+=1\n",
        "        \n",
        "        all_time_steps.append(timeStep)\n",
        "        #anim.done()\n",
        "        \n",
        "    return statistics.mean(all_time_steps)\n",
        "    \n",
        "    \n",
        "        \n",
        "            \n",
        "            \n",
        "            \n",
        "        "
      ],
      "execution_count": 0,
      "outputs": []
    },
    {
      "metadata": {
        "id": "YaoNXZC-VJR1",
        "colab_type": "text"
      },
      "cell_type": "markdown",
      "source": [
        "visualize the simulation for the robot"
      ]
    },
    {
      "metadata": {
        "id": "royw1kOIXppu",
        "colab_type": "code",
        "colab": {}
      },
      "cell_type": "code",
      "source": [
        "# === Problem 5\n",
        "class RandomWalkRobot(Robot):\n",
        "    \"\"\"\n",
        "    A RandomWalkRobot is a robot with the \"random walk\" movement strategy: it\n",
        "    chooses a new direction at random at the end of each time-step.\n",
        "    \"\"\"\n",
        "    def updatePositionAndClean(self):\n",
        "        \"\"\"\n",
        "        Simulate the passage of a single time-step.\n",
        "\n",
        "        Move the robot to a new position and mark the tile it is on as having\n",
        "        been cleaned.\n",
        "        \"\"\"\n",
        "        #raise NotImplementedError\n",
        "        #random direction\n",
        "        self.setRobotDirection(random.randint(0,359))\n",
        "        #new position based on random direction\n",
        "        newPosition = self.getRobotPosition().getNewPosition(self.getRobotDirection(),self.speed)\n",
        "        \n",
        "        if self.room.isPositionInRoom(newPosition):\n",
        "            # change position of the room\n",
        "            self.setRobotPosition(newPosition)\n",
        "            self.room.cleanTileAtPosition(self.getRobotPosition())\n",
        "        else:\n",
        "            # change direction of newPosition not in room\n",
        "            self.setRobotDirection(random.randint(0,359))\n",
        "        \n",
        "\n",
        "\n",
        "def showPlot1(title, x_label, y_label):\n",
        "    \"\"\"\n",
        "    What information does the plot produced by this function tell you?\n",
        "    \"\"\"\n",
        "    num_robot_range = range(1, 11)\n",
        "    times1 = []\n",
        "    times2 = []\n",
        "    for num_robots in num_robot_range:\n",
        "        print(\"Plotting\", num_robots, \"robots...\")\n",
        "        times1.append(runSimulation(num_robots, 1.0, 20, 20, 0.8, 20, StandardRobot))\n",
        "        times2.append(runSimulation(num_robots, 1.0, 20, 20, 0.8, 20, RandomWalkRobot))\n",
        "    plt.plot(num_robot_range, times1)\n",
        "    plt.plot(num_robot_range, times2)\n",
        "    plt.title(title)\n",
        "    plt.legend(('StandardRobot', 'RandomWalkRobot'))\n",
        "    plt.xlabel(x_label)\n",
        "    plt.ylabel(y_label)\n",
        "    plt.show()\n",
        "\n",
        "    \n",
        "def showPlot2(title, x_label, y_label):\n",
        "    \"\"\"\n",
        "    What information does the plot produced by this function tell you?\n",
        "    \"\"\"\n",
        "    aspect_ratios = []\n",
        "    times1 = []\n",
        "    times2 = []\n",
        "    for width in [10, 20, 25, 50]:\n",
        "        height = 300//width\n",
        "        print(\"Plotting cleaning time for a room of width:\", width, \"by height:\", height)\n",
        "        aspect_ratios.append(float(width) / height)\n",
        "        times1.append(runSimulation(2, 1.0, width, height, 0.8, 200, StandardRobot))\n",
        "        times2.append(runSimulation(2, 1.0, width, height, 0.8, 200, RandomWalkRobot))\n",
        "    plt.plot(aspect_ratios, times1)\n",
        "    plt.plot(aspect_ratios, times2)\n",
        "    plt.title(title)\n",
        "    plt.legend(('StandardRobot', 'RandomWalkRobot'))\n",
        "    plt.xlabel(x_label)\n",
        "    plt.ylabel(y_label)\n",
        "    plt.show()"
      ],
      "execution_count": 0,
      "outputs": []
    },
    {
      "metadata": {
        "id": "0YM-coN0zk2B",
        "colab_type": "code",
        "colab": {
          "base_uri": "https://localhost:8080/",
          "height": 546
        },
        "outputId": "1d8cbc1f-11b3-42c0-979c-e33b9fea53e3"
      },
      "cell_type": "code",
      "source": [
        "showPlot1('test label','no of robots ','time taken')"
      ],
      "execution_count": 0,
      "outputs": [
        {
          "output_type": "stream",
          "text": [
            "Plotting 1 robots...\n",
            "Plotting 2 robots...\n",
            "Plotting 3 robots...\n",
            "Plotting 4 robots...\n",
            "Plotting 5 robots...\n",
            "Plotting 6 robots...\n",
            "Plotting 7 robots...\n",
            "Plotting 8 robots...\n",
            "Plotting 9 robots...\n",
            "Plotting 10 robots...\n"
          ],
          "name": "stdout"
        },
        {
          "output_type": "display_data",
          "data": {
            "image/png": "[encoded data removed]",
            "text/plain": [
              "<matplotlib.figure.Figure at 0x7fb7eb01af98>"
            ]
          },
          "metadata": {
            "tags": []
          }
        }
      ]
    },
    {
      "metadata": {
        "id": "LsGSWQr71cOA",
        "colab_type": "code",
        "colab": {
          "base_uri": "https://localhost:8080/",
          "height": 444
        },
        "outputId": "308b61d8-b4c6-48ab-9fb3-c759a55f887d"
      },
      "cell_type": "code",
      "source": [
        "showPlot2('test label','width by heigh ratio ','time taken')"
      ],
      "execution_count": 0,
      "outputs": [
        {
          "output_type": "stream",
          "text": [
            "Plotting cleaning time for a room of width: 10 by height: 30\n",
            "Plotting cleaning time for a room of width: 20 by height: 15\n",
            "Plotting cleaning time for a room of width: 25 by height: 12\n",
            "Plotting cleaning time for a room of width: 50 by height: 6\n"
          ],
          "name": "stdout"
        },
        {
          "output_type": "display_data",
          "data": {
            "image/png": "[encoded data removed]",
            "text/plain": [
              "<matplotlib.figure.Figure at 0x7fb7e8fe8550>"
            ]
          },
          "metadata": {
            "tags": []
          }
        }
      ]
    },
    {
      "metadata": {
        "id": "uwYSze3p4zAf",
        "colab_type": "text"
      },
      "cell_type": "markdown",
      "source": [
        "####INFERENTIAL STATISTICS\n",
        "\n",
        "We draw sample from a population and based on that sample , make inferences about the entire population.\n",
        "\n",
        "\n",
        "Population : a set of examples\n",
        "\n",
        "Sample : a proper subset of a population.\n",
        "\n",
        "Goal : Estimate some statistics about the population based on statistics about the sample.\n",
        "\n",
        "Key Fact: If the sample is random , it tends to exibit the same properties as the population from which it is drawn.\n",
        "\n",
        "Confidence in the estimates depends upon two things\n",
        "\n",
        "1. size of the sample (greater the size more is the confidence)\n",
        "2. variance of sample (less is the variance more is the confidence)\n",
        "\n",
        "As the variance grows, we need larger samples to have the same degree of confidence.\n"
      ]
    },
    {
      "metadata": {
        "id": "XoKMKCTUqssv",
        "colab_type": "text"
      },
      "cell_type": "markdown",
      "source": [
        "####Simulating a Roulette"
      ]
    },
    {
      "metadata": {
        "id": "xcD30Hrsq3kj",
        "colab_type": "code",
        "colab": {}
      },
      "cell_type": "code",
      "source": [
        "#  FairRoulette class \n",
        "import random\n",
        "\n",
        "class FairRoulette(object):\n",
        "    ''' Has an even chance of winning.\n",
        "        upon initilization defines the 36 pockets \n",
        "        set odds or red and black to 1.0 \n",
        "        set odds of winning pocket to len of pocket-1\n",
        "        has methods to spin the roulette, check if ball landed on black\n",
        "        or Red and methods to return amount if bet won on black,red or pocket.\n",
        "    '''\n",
        "    \n",
        "    def __init__(self):\n",
        "        \n",
        "        # represents 36 slots of the roulette.\n",
        "        self.pockets=[i for i in range(1,37)]\n",
        "        \n",
        "        self.ball = None\n",
        "        #betting on color\n",
        "        self.blackOdds,self.redOdds = 1.0,1.0\n",
        "        \n",
        "        #betting on pocket\n",
        "        self.pocketOdds = len(self.pockets) -1.0\n",
        "        \n",
        "    \n",
        "    def spin(self):\n",
        "        '''Simulate a spin of the roulette\n",
        "           it sets the ball position 1 out of the given pockets \n",
        "           after a spin\n",
        "        '''\n",
        "        self.ball = random.choice(self.pockets)\n",
        "    \n",
        "    \n",
        "    def isBlack(self):\n",
        "        '''to check if the ball has landed/stopped on black positon\n",
        "        '''\n",
        "        # uninitialized ball i.e without first spin\n",
        "        if type(self.ball)!= int:\n",
        "            return False\n",
        "        \n",
        "        # even digits between (0 and 11),(18 and 28) are black\n",
        "        #\n",
        "        if ((self.ball>0 and self.ball <=10) \\\n",
        "            or (self.ball>18 and self.ball<28)):\n",
        "            return self.ball%2 == 0\n",
        "        else:\n",
        "            # odd balls between (11 and 17) ,(29 and 36) and black\n",
        "            return self.ball%2 == 1\n",
        "            \n",
        "    def isRed(self):\n",
        "        '''to check if the ball has landed/stopped on Red position\n",
        "        '''\n",
        "        return type(self.ball) == int and not self.isBlack()\n",
        "    \n",
        "    def betBlack(self,amt):\n",
        "        '''gives amount earned if ball lands on black\n",
        "        returns negative amount if ball does not land of black\n",
        "        amt : amount bet\n",
        "        '''\n",
        "        if self.isBlack():\n",
        "            return amt*self.blackOdds\n",
        "        else:\n",
        "            return -amt\n",
        "            \n",
        "    def betRed(self,amt):\n",
        "        '''gives amount earned if ball lands on Red\n",
        "           amt : amount bet\n",
        "        '''\n",
        "        if self.isRed():\n",
        "            return amt*self.redOdds\n",
        "        else:\n",
        "            return -amt\n",
        "        \n",
        "    def betPocket(self,pocket,amt):\n",
        "        '''gives amount earned if ball lands on a given pocket\n",
        "           pocket : the pocket number from 1 to 36\n",
        "           amt : amount bet\n",
        "        '''\n",
        "        if str(pocket) == str(self.ball):\n",
        "            return amt*self.pocketOdds\n",
        "        else:\n",
        "            return -amt\n",
        "        \n",
        "    def __str__(self):\n",
        "        '''over write the str function to give a meaningful name when\n",
        "        print used on FairRoulette objects'''\n",
        "        return 'Fair Roulette'"
      ],
      "execution_count": 0,
      "outputs": []
    },
    {
      "metadata": {
        "id": "O9KjStNuOuRM",
        "colab_type": "code",
        "colab": {}
      },
      "cell_type": "code",
      "source": [
        "#### define a function to spin the roulette\n",
        "\n",
        "\n",
        "def playRoulette(game,numSpins,toPrint= True):\n",
        "    '''\n",
        "    game : is the FairRoulette object\n",
        "    numSpins : no of spins to be done\n",
        "    toPrint : prints expected returns , by default set to True\n",
        "    returns a tuple with the expected returns fractions on Red,Black and Pocket\n",
        "    '''\n",
        "    luckyNo = '4'\n",
        "    bet = 1.0\n",
        "    totRed,totBlack,totPocket= 0.0,0.0,0.0\n",
        "    \n",
        "    for _ in range(numSpins):\n",
        "        #spin the roulette\n",
        "        game.spin()\n",
        "        totRed += game.betRed(bet)\n",
        "        totBlack += game.betBlack(bet)\n",
        "        totPocket += game.betPocket(luckyNo,bet)\n",
        "        \n",
        "    if toPrint:\n",
        "        print(numSpins,' spins for a ',game)\n",
        "        print('Expected return on Red ',str(100*totRed/numSpins),' %')\n",
        "        print('Expected return on Black ',str(100*totBlack/numSpins),' %')\n",
        "        print('Expected return on Pocket ',str(100*totPocket/numSpins),' %')\n",
        "    \n",
        "    return (totRed/numSpins, totBlack/numSpins, totPocket/numSpins)\n",
        "        "
      ],
      "execution_count": 0,
      "outputs": []
    },
    {
      "metadata": {
        "id": "3vzewjI9St-Z",
        "colab_type": "code",
        "colab": {
          "base_uri": "https://localhost:8080/",
          "height": 102
        },
        "outputId": "eac7570d-2435-4d02-e82a-e3d82492b2e8"
      },
      "cell_type": "code",
      "source": [
        "play= FairRoulette()\n",
        "playRoulette(play,10000000)"
      ],
      "execution_count": 0,
      "outputs": [
        {
          "output_type": "stream",
          "text": [
            "10000000  spins for a  Fair Roulette\n",
            "Expected return on Red  0.0554092  %\n",
            "Expected return on Black  -0.0554092  %\n",
            "Expected return on Pocket  0.0001448  %\n"
          ],
          "name": "stdout"
        },
        {
          "output_type": "execute_result",
          "data": {
            "text/plain": [
              "(0.0554092, -0.0554092, 0.0001448)"
            ]
          },
          "metadata": {
            "tags": []
          },
          "execution_count": 5
        }
      ]
    },
    {
      "metadata": {
        "id": "QYifisDILixi",
        "colab_type": "text"
      },
      "cell_type": "markdown",
      "source": [
        "**Law of large number i.e Bernoulli's Law**.\n",
        "--- Most import law in statistics\n",
        "\n",
        "In repeated independent tests with the same actual probability p of a particular outcome in each test, the chance that the fraction of times that outcome occurs differs from p converges to zero as the number of trials goes to infinity.\n",
        "\n",
        "This does not imply that if deviations from expected behaviour occur, these deviations are likey to be evened out by opposite deviations in the future.(Gambler's fallacy )\n",
        "\n",
        "\n",
        "**Regression to the Mean**(Francis Galton)\n",
        "\n",
        "-- Following an extreme random event, the next random event is likely to be less extreme.\n",
        "\n",
        "Eg: if you spin a fair roulette wheel 10 times and get 100% reds, that is an extreme event(probability 1/1024)\n",
        "then it is  like that in the next 10 spins, we will get fewer than 10 reds"
      ]
    },
    {
      "metadata": {
        "id": "ZnEpUOrBPkVF",
        "colab_type": "code",
        "colab": {}
      },
      "cell_type": "code",
      "source": [
        "## creating the american and european roulette wheel.\n",
        "#American has 2 extra numbers and both have same color green\n",
        "#European has 1 extra number and has the color green.\n",
        "\n",
        "\n",
        "class EuRoulette(FairRoulette):\n",
        "    '''European roulette inherits from the Fair Roulette\n",
        "    \n",
        "    '''\n",
        "    def __init__(self):\n",
        "        #calling the init method of FairRoulette class\n",
        "        FairRoulette.__init__(self)\n",
        "        #add the extra zero to the pockets there by increasing the\n",
        "        # no of pockets to 37.\n",
        "        self.pockets.append('0')\n",
        "        \n",
        "    def __str__(self):\n",
        "        return 'European Roulette'\n",
        "    "
      ],
      "execution_count": 0,
      "outputs": []
    },
    {
      "metadata": {
        "id": "3SOG6Ww1SXhf",
        "colab_type": "code",
        "colab": {}
      },
      "cell_type": "code",
      "source": [
        "\n",
        "class AmRoulette(EuRoulette):\n",
        "    '''American roulette inherits from the EuRoulette\n",
        "    adds an extra pocket 00'''\n",
        "    \n",
        "    def __init__(self):\n",
        "        EuRoulette.__init__(self)\n",
        "        self.pockets.append('00')\n",
        "        \n",
        "    #overwrite the __str__ so that printing object will show American Roulette\n",
        "    def __str__(self):\n",
        "        return 'American Roulette'"
      ],
      "execution_count": 0,
      "outputs": []
    },
    {
      "metadata": {
        "id": "h7jKLPMYTAPj",
        "colab_type": "code",
        "colab": {}
      },
      "cell_type": "code",
      "source": [
        "def findPocketReturn(game,numTrials,trialSize,toPrint):\n",
        "    '''fun to capture the pocketReturns for different type of\n",
        "    Roulette for each trial\n",
        "    game : the object of type Roulette\n",
        "    numTrials : no of trials\n",
        "    trailSize : no spins \n",
        "    toPrint : if set to True prints info.\n",
        "    '''\n",
        "    \n",
        "    pocketReturns =[]\n",
        "    \n",
        "    for t in range(numTrials):\n",
        "        #returns a tuple with return fractions \n",
        "        trialVals = playRoulette(game,trialSize,toPrint)\n",
        "        #take only the pocket return for each trail\n",
        "        pocketReturns.append(trialVals[2])\n",
        "        \n",
        "    return pocketReturns\n",
        "        "
      ],
      "execution_count": 0,
      "outputs": []
    },
    {
      "metadata": {
        "id": "xk80g9B4VX_z",
        "colab_type": "text"
      },
      "cell_type": "markdown",
      "source": [
        "Sampling Space of possible outcomes\n",
        "\n",
        "--Never possible to guarantee perfect accuracy through sampling.\n",
        "\n",
        "--Not to say that an estimate is not precisely correct\n",
        "\n",
        "-- How many samples do we need to look at before we can have justified confidence on our answer?\n",
        " \n",
        " -- This depends on the variance in the underlying distribution. \n",
        " \n",
        "** Variance** is a measure of how much spread there is in the possible different outcomes.\n",
        "\n",
        "\n",
        "Standard deviation is the square root of the variance.\n",
        "\n",
        "**Standard deviation should always be considered relative to mean.**\n",
        "\n",
        "Standard deviation tells us what fraction of the values are close to the mean.\n",
        "If many values are relatively close to the mean , the standard deviation is small.\n",
        "if all values are the same, then the standard deviation is 0.\n",
        "\n",
        "**Confidence level and intervals.**\n",
        "\n",
        "Choose a standard deviation in mean to talk about how much confidence we should have that a sample mean is close to the population mean. \n",
        "\n",
        "Instead of estimating an unknown parameter by a single value(e.g the mean of a set of trials), a \n",
        "confidence interval provides a range that is likely to contain the unknown value and a confidence that the unknown value lays within that range.\n",
        "\n",
        "Eg: The return on betting on 2 twenty times in European roulette is -3.3% . The margin of error is +/- 1 percent point with a 95% level of confidence.\n",
        "\n",
        "It means if we were to conduct an infinte number of experiments of 20 spins of the wheel, in 95% of those experiments , my return would be between minus 2.3% and minus 4.3%.\n",
        "\n",
        "Together, the confidence interval and the confidence level indicate the reliablility of the estimate.\n",
        "Almost always , increasing the confidence level (95%) will widen the confidence interval. \n",
        "\n",
        "Empirical rule\n",
        "under below assumptions\n",
        "The mean estimation error is zero\n",
        "The distribution of the errors in the estimates in normal.\n",
        "(Gaussian Distribution)\n",
        "\n",
        "~68% of data within 1 standard deviation of mean.\n",
        "\n",
        "~95% of data within 1.96 standard deviation of mean.\n",
        "\n",
        "~99.7% of data within 3 standard deviation of mean.\n"
      ]
    },
    {
      "metadata": {
        "id": "59HYM8p7oPvF",
        "colab_type": "code",
        "colab": {}
      },
      "cell_type": "code",
      "source": [
        "#calculating standard deviation on a list of strings.\n",
        "\n",
        "def stdDevOfLengths(L):\n",
        "    \n",
        "    if len(L)==0:\n",
        "        return float('NaN')\n",
        "    else:\n",
        "        #calculate mean\n",
        "        Strlen = [len(element) for element in L]\n",
        "        mean = sum(Strlen)/float(len(Strlen))\n",
        "        tot = 0.0\n",
        "        for sLen in Strlen:\n",
        "            tot += (sLen - mean)**2\n",
        "    std = (tot/len(Strlen))**0.5\n",
        "    return std\n",
        "\n",
        "def getMeanAndStd(X):\n",
        "    mean = sum(X)/float(len(X))\n",
        "    tot = 0.0\n",
        "    for x in X:\n",
        "        tot += (x - mean)**2\n",
        "    std = (tot/len(X))**0.5\n",
        "    return mean, std"
      ],
      "execution_count": 0,
      "outputs": []
    },
    {
      "metadata": {
        "id": "dkSlY25qp268",
        "colab_type": "code",
        "colab": {
          "base_uri": "https://localhost:8080/",
          "height": 34
        },
        "outputId": "ce8b7535-8eea-4bb6-f931-331092c5964b"
      },
      "cell_type": "code",
      "source": [
        "L = []\n",
        "\n",
        "print(stdDevOfLengths(L))"
      ],
      "execution_count": 5,
      "outputs": [
        {
          "output_type": "stream",
          "text": [
            "nan\n"
          ],
          "name": "stdout"
        }
      ]
    },
    {
      "metadata": {
        "id": "wlCStaSFrdhY",
        "colab_type": "code",
        "colab": {
          "base_uri": "https://localhost:8080/",
          "height": 34
        },
        "outputId": "9c27f089-4bdb-4ba1-f6a4-f4e384400091"
      },
      "cell_type": "code",
      "source": [
        "L = [10, 4, 12, 15, 20, 5]\n",
        "\n",
        "print(getMeanAndStd(L))"
      ],
      "execution_count": 10,
      "outputs": [
        {
          "output_type": "stream",
          "text": [
            "(11.0, 5.5377492419453835)\n"
          ],
          "name": "stdout"
        }
      ]
    },
    {
      "metadata": {
        "id": "sxhYnnf9qmIF",
        "colab_type": "text"
      },
      "cell_type": "markdown",
      "source": [
        "The **coefficient of variation** is the standard deviation divided by the mean. Loosely, it's a measure of how variable the population is in relation to the mean."
      ]
    },
    {
      "metadata": {
        "id": "OvV73W3cs9a-",
        "colab_type": "text"
      },
      "cell_type": "markdown",
      "source": [
        "A **histogram** is a depiction of the frequence of a distribution. It tells as how often a random variable has taken on a value in some range.\n",
        "eg:\n",
        "how often the fraction of times a coin came up heads between the ranges of 0.4 and 0.5."
      ]
    },
    {
      "metadata": {
        "id": "vLvJmUU0uC5H",
        "colab_type": "text"
      },
      "cell_type": "markdown",
      "source": [
        "**Defining distributions**\n",
        "\n",
        "A probability distribution captures the notion of relative frequency by giving the probability of a random value taking on a value within a range.\n",
        "\n",
        "Probability distributions two groups\n",
        "Discrete probability distributions \n",
        "continuous probability distributions based on whether they define a probabilty distribution for a discrete or a continuous random variable.\n",
        "\n",
        "\n",
        "Since there are an infinite number of possible values, the probability of the continuous random variable taking on a specific value is usually 0. So instead of listing the probability of each value we use a **PDF**(probability density function) it describes the probability of a random variable lying between two values.\n",
        "\n",
        "\n",
        "A probability distribution captures notion of relative frequency with which a random variable takes on certain values.\n",
        "\n",
        "-- Discrete random variables drawn from finite set of values\n",
        "\n",
        "-- continuous random variables drawn from reals between two numbers \n",
        "\n",
        "\n",
        "**PDF**\n",
        "\n",
        "---Distributions defined by probability density functions\n",
        "\n",
        "--- Probabililty of a random variable lying between two values.\n",
        "\n",
        "--- Defines a curve where the values on the x-axis lie between min and max value of the variable.\n",
        "\n",
        "-- The area under the curve between two points , is probability of example falling within that range."
      ]
    }
  ]
}