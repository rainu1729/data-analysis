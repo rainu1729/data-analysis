{
  "nbformat": 4,
  "nbformat_minor": 0,
  "metadata": {
    "colab": {
      "name": "Untitled2.ipynb",
      "version": "0.3.2",
      "provenance": [],
      "collapsed_sections": []
    },
    "kernelspec": {
      "name": "python3",
      "display_name": "Python 3"
    }
  },
  "cells": [
    {
      "cell_type": "markdown",
      "metadata": {
        "id": "view-in-github",
        "colab_type": "text"
      },
      "source": [
        "[View in Colaboratory](https://colab.research.google.com/github/rainu1729/data-analysis/blob/master/euler_project_graph.ipynb)"
      ]
    },
    {
      "metadata": {
        "id": "2Hoc3ydscYqM",
        "colab_type": "text"
      },
      "cell_type": "markdown",
      "source": [
        "### WEIGHTED DIAGRAPH"
      ]
    },
    {
      "metadata": {
        "id": "jG8Bif6EccKb",
        "colab_type": "code",
        "colab": {
          "base_uri": "https://localhost:8080/",
          "height": 17
        },
        "outputId": "273440d1-f079-4dd6-e59f-2556645fd830"
      },
      "cell_type": "code",
      "source": [
        "#### node class\n",
        "class node(object):\n",
        "\tdef __init__(self,position,value):\n",
        "\t\t'''\n",
        "\t\tposition : gives the position of the node wrt to the test string as a tuple\n",
        "\t\tvalue    : gives the value of the node\n",
        "\t\t'''\n",
        "\t\tself.value=value\n",
        "\t\tself.position=position\n",
        "\t\n",
        "\tdef getPosition(self):\n",
        "\t\treturn self.position\n",
        "\t\n",
        "\tdef getvalue(self):\n",
        "\t\treturn self.value\n",
        "\t\t\n",
        "\tdef getNodeHash(self):\n",
        "\t\treturn hash(str(self.position)+str(self.value))\n",
        "\t\n",
        "\tdef __str__(self):\n",
        "\t\treturn str(self.value) #'P:'+str(self.position)+' V:'+str(self.value)\n",
        "    "
      ],
      "execution_count": 15,
      "outputs": []
    },
    {
      "metadata": {
        "id": "LYxtoT7zcefb",
        "colab_type": "text"
      },
      "cell_type": "markdown",
      "source": [
        "edge class"
      ]
    },
    {
      "metadata": {
        "id": "Vuc5O3P4cgaB",
        "colab_type": "code",
        "colab": {
          "base_uri": "https://localhost:8080/",
          "height": 17
        },
        "outputId": "e40e6ec4-02a4-4861-b3e4-ed65da9498b3"
      },
      "cell_type": "code",
      "source": [
        "class edge(object):\n",
        "\tdef __init__(self,src,dest):\n",
        "\t\t'''src and dest are nodes'''\n",
        "\t\tself.src = src\n",
        "\t\tself.dest = dest\n",
        "\t\n",
        "\tdef getSource(self):\n",
        "\t\treturn self.src\n",
        "\t\n",
        "\tdef getDestination(self):\n",
        "\t\treturn self.dest\n",
        "\t#return the destination nodes value as the weight\n",
        "\tdef getWeight(self):\n",
        "\t\treturn self.dest.getvalue()\n",
        "\t\t\n",
        "\tdef __str__(self):\n",
        "\t\treturn (self.src.getPosition(),)+'->'+(self.dest.getPosition(),)"
      ],
      "execution_count": 3,
      "outputs": []
    },
    {
      "metadata": {
        "id": "y28qs6JLcleH",
        "colab_type": "text"
      },
      "cell_type": "markdown",
      "source": [
        "directed graph"
      ]
    },
    {
      "metadata": {
        "id": "3aOy3LulcoCH",
        "colab_type": "code",
        "colab": {
          "base_uri": "https://localhost:8080/",
          "height": 17
        },
        "outputId": "58b11893-23ed-439a-edad-8a53070e7422"
      },
      "cell_type": "code",
      "source": [
        "class Diagraph(object):\n",
        "\t\n",
        "\t'''the edges is a dict mapping node to a list of its destination'''\n",
        "\tdef __init__(self):\n",
        "\t\tself.edges = {}\n",
        "\t\n",
        "\t'''Adds the given node as a key to the dict named edges '''\t\n",
        "\tdef addNode(self,node):\n",
        "\t\tif node in self.edges:\n",
        "\t\t\traise ValueError('Duplicate node')\n",
        "\t\telse:\n",
        "\t\t\tself.edges[node]=[]\n",
        "\t\n",
        "\t'''addEdge accepts and edge class object checks if source and destination node are present in the graph '''\t\t\n",
        "\tdef addEdge(self,edge):\n",
        "\t\tsrc = edge.getSource()\n",
        "\t\tdest = edge.getDestination()\n",
        "\t\tif not (src in self.edges and dest in self.edges):\n",
        "\t\t\traise ValueError('Node not in graph')\n",
        "\t\tself.edges[src].append(dest)\n",
        "\t\n",
        "\t'''getChildrenof returns  all the children of the node'''\t\n",
        "\tdef getChildrenof(self,node):\n",
        "\t\treturn self.edges[node]\n",
        "\t\n",
        "\t'''to check whether a node is present in the graph or not'''\t\n",
        "\tdef hasNode(self,node):\n",
        "\t\treturn node in self.edges\n",
        "\t\n",
        "\t'''rootNode returns the root node i.e node at position (0,0)'''\t\n",
        "\tdef rootNode(self):\n",
        "\t\tfor  keys in self.edges:\n",
        "\t\t\treturn keys if keys.getPosition()==(0,0) else 'No Root node for this graph'"
      ],
      "execution_count": 4,
      "outputs": []
    },
    {
      "metadata": {
        "id": "oMmaGxYpdQS7",
        "colab_type": "text"
      },
      "cell_type": "markdown",
      "source": [
        "function to create a graph object"
      ]
    },
    {
      "metadata": {
        "id": "so9Z32n9dSoQ",
        "colab_type": "code",
        "colab": {
          "base_uri": "https://localhost:8080/",
          "height": 17
        },
        "outputId": "08655443-20ef-4637-8bf1-9ff6ed0aa156"
      },
      "cell_type": "code",
      "source": [
        "def createmygraph(testString):\n",
        "\t'''input is a multi-line string'''\n",
        "\t\n",
        "\t#create a list of lists from the string\n",
        "\tlistofLists=[ list(map(int,elements.split())) for elements in testString.strip().split(\"\\n\")]\n",
        "\ty = Diagraph()\n",
        "\tnodeList = []\n",
        "\t\n",
        "\t# create all the nodes and store it in a list nodeList\n",
        "\tfor i in range(len(listofLists)):\n",
        "\t\tfor j in range(len(listofLists)):\n",
        "\t\t\tif i<=j:\n",
        "\t\t\t\tmynode=node((j,i),listofLists[j][i])\n",
        "\t\t\t\tnodeList.append(mynode)\n",
        "\t\t\t\ty.addNode(mynode)\n",
        "\t\n",
        "\t# create all the edges\n",
        "\tfor srcNode in nodeList:\n",
        "\t# iterate through all the nodes again and form a logic add the edges\n",
        "\t\tfor destNode in nodeList:\n",
        "\t\t\t#to add the immediate down node eg : add 7 (1,0) to 3 (0,0) , add 2 (2,0) to 7 (1,0)\n",
        "\t\t\tif srcNode.getPosition()[0]==destNode.getPosition()[0]-1 and srcNode.getPosition()[1]==destNode.getPosition()[1]-1:\n",
        "\t\t\t\ty.addEdge(edge(srcNode,destNode))\n",
        "\t\t\t#to add the bottom right node eg :add 4 (1,1) to 3 (0,0) \n",
        "\t\t\tif srcNode.getPosition()[0]==destNode.getPosition()[0]-1 and srcNode.getPosition()[1]==destNode.getPosition()[1]:\n",
        "\t\t\t\ty.addEdge(edge(srcNode,destNode))\n",
        "\t\n",
        "\treturn y"
      ],
      "execution_count": 5,
      "outputs": []
    },
    {
      "metadata": {
        "id": "CokmHTbjdh4a",
        "colab_type": "text"
      },
      "cell_type": "markdown",
      "source": [
        "printing the path"
      ]
    },
    {
      "metadata": {
        "id": "CLssxOTtdj4C",
        "colab_type": "code",
        "colab": {
          "base_uri": "https://localhost:8080/",
          "height": 17
        },
        "outputId": "9297a630-fdae-4cba-9b8c-264846a91b81"
      },
      "cell_type": "code",
      "source": [
        "def printPath(path):\n",
        "    ''' path is a list of node objects'''\n",
        "    result=''\n",
        "    for i in range(len(path)):\n",
        "        result = result +'-->'+str(path[i])\n",
        "    return result"
      ],
      "execution_count": 6,
      "outputs": []
    },
    {
      "metadata": {
        "id": "yJ9gQHXOwSMo",
        "colab_type": "code",
        "colab": {
          "base_uri": "https://localhost:8080/",
          "height": 34
        },
        "outputId": "3d67312d-b0f9-44a2-d58d-4f8d61cb0c00"
      },
      "cell_type": "code",
      "source": [
        "printPath([1])"
      ],
      "execution_count": 7,
      "outputs": [
        {
          "output_type": "execute_result",
          "data": {
            "text/plain": [
              "'-->1'"
            ]
          },
          "metadata": {
            "tags": []
          },
          "execution_count": 7
        }
      ]
    },
    {
      "metadata": {
        "id": "uCdn0GGbdpgY",
        "colab_type": "text"
      },
      "cell_type": "markdown",
      "source": [
        "breath first algo"
      ]
    },
    {
      "metadata": {
        "id": "yZiG7Kmkdr2n",
        "colab_type": "code",
        "colab": {
          "base_uri": "https://localhost:8080/",
          "height": 17
        },
        "outputId": "bbd50eda-8e24-4839-9f32-725bdfd5257d"
      },
      "cell_type": "code",
      "source": [
        "def breathfirstalgo(graph,tempPaths,finalPath):\n",
        "    ## iterates over all the lists inside the tempPaths and checks if there are child nodes to its last node.\n",
        "    condList=[graph.getChildrenof(apartList[-1]) for apartList in tempPaths if graph.getChildrenof(apartList[-1])]\n",
        "\n",
        "    tempL=[]    \n",
        "    if condList:\n",
        "        \n",
        "        for partialList in tempPaths:\n",
        "            #get the children of the last element of partialList\n",
        "            allchild=graph.getChildrenof(partialList[-1])\n",
        "            \n",
        "            if allchild:\n",
        "                noOfChild=len(allchild)\n",
        "                #create noOfChild copies of the partialList\n",
        "                newlist=[partialList[:] for _ in range(noOfChild)]\t\t\n",
        "                #append the a child element to the new list\n",
        "                for i in range(noOfChild):\n",
        "                    newlist[i].append(allchild[i])\n",
        "\n",
        "                #append each list to the temp list tempL\n",
        "                for alist in newlist:\n",
        "                    tempL.append(alist)\n",
        "                \n",
        "            else:\n",
        "                pass\n",
        "                \n",
        "        #after completion of the for loop i.e iterate through 1 level\n",
        "        return breathfirstalgo(graph,tempL,finalPath)\n",
        "    else:\n",
        "        #append all the lists from tempPaths to finalPath that will be returned\n",
        "        for completePath in tempPaths:\n",
        "            finalPath.append(completePath)\n",
        "        return finalPath\n",
        "\t\t"
      ],
      "execution_count": 8,
      "outputs": []
    },
    {
      "metadata": {
        "id": "W8V7ys1hdxDs",
        "colab_type": "text"
      },
      "cell_type": "markdown",
      "source": [
        "testing the graph"
      ]
    },
    {
      "metadata": {
        "id": "jdo8MRCed_sO",
        "colab_type": "code",
        "colab": {
          "base_uri": "https://localhost:8080/",
          "height": 17
        },
        "outputId": "18b4dea9-4ded-4a85-f827-ccdd0f3ee8f2"
      },
      "cell_type": "code",
      "source": [
        "myString='''1\n",
        "2 3\n",
        "4 5 6\n",
        "7 8 9 10\n",
        "11 12 13 14 15'''"
      ],
      "execution_count": 9,
      "outputs": []
    },
    {
      "metadata": {
        "id": "-AQGfg7ydybT",
        "colab_type": "code",
        "colab": {
          "base_uri": "https://localhost:8080/",
          "height": 347
        },
        "outputId": "1b76f99f-873f-414c-d695-e5803d805203"
      },
      "cell_type": "code",
      "source": [
        "mygraph=createmygraph(myString)\n",
        "print('The graph object is ',mygraph)\n",
        "print('The root node is ',mygraph.rootNode())\n",
        "#print(mygraph)\n",
        "all_list=breathfirstalgo(mygraph,tempPaths=[[mygraph.rootNode()]],finalPath=[])\n",
        "\n",
        "print('alllist is ')\n",
        "for idx,partlist in enumerate(all_list):\n",
        "    print(printPath(partlist))\n"
      ],
      "execution_count": 16,
      "outputs": [
        {
          "output_type": "stream",
          "text": [
            "The graph object is  <__main__.Diagraph object at 0x7f08e5a3d128>\n",
            "The root node is  1\n",
            "alllist is \n",
            "-->1-->2-->4-->7-->11\n",
            "-->1-->2-->4-->7-->12\n",
            "-->1-->2-->4-->8-->12\n",
            "-->1-->2-->4-->8-->13\n",
            "-->1-->2-->5-->8-->12\n",
            "-->1-->2-->5-->8-->13\n",
            "-->1-->2-->5-->9-->13\n",
            "-->1-->2-->5-->9-->14\n",
            "-->1-->3-->5-->8-->12\n",
            "-->1-->3-->5-->8-->13\n",
            "-->1-->3-->5-->9-->13\n",
            "-->1-->3-->5-->9-->14\n",
            "-->1-->3-->6-->9-->13\n",
            "-->1-->3-->6-->9-->14\n",
            "-->1-->3-->6-->10-->14\n",
            "-->1-->3-->6-->10-->15\n"
          ],
          "name": "stdout"
        }
      ]
    },
    {
      "metadata": {
        "id": "VhDZ_Xnsr1n1",
        "colab_type": "code",
        "colab": {
          "base_uri": "https://localhost:8080/",
          "height": 34
        },
        "outputId": "851084e0-c116-4d7d-f0a1-1ec335743b7c"
      },
      "cell_type": "code",
      "source": [
        "type(all_list)"
      ],
      "execution_count": 11,
      "outputs": [
        {
          "output_type": "execute_result",
          "data": {
            "text/plain": [
              "list"
            ]
          },
          "metadata": {
            "tags": []
          },
          "execution_count": 11
        }
      ]
    }
  ]
}